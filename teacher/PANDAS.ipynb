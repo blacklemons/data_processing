{
 "cells": [
  {
   "cell_type": "markdown",
   "metadata": {},
   "source": [
    "### 시리즈(Series)\n",
    " * 복수의 행(row)으로 이루어진 하나의열(column) 구조\n",
    " * 색인(index)을 가지고 원하는 데이터에접근할 수 있음\n",
    " * 자동으로 색인을 만들어 줌"
   ]
  },
  {
   "cell_type": "code",
   "execution_count": 1,
   "metadata": {
    "ExecuteTime": {
     "end_time": "2021-06-03T05:33:48.565424Z",
     "start_time": "2021-06-03T05:33:47.331518Z"
    }
   },
   "outputs": [
    {
     "data": {
      "text/plain": [
       "0    1\n",
       "1    4\n",
       "2    7\n",
       "3    9\n",
       "dtype: int64"
      ]
     },
     "execution_count": 1,
     "metadata": {},
     "output_type": "execute_result"
    }
   ],
   "source": [
    "import pandas as pd\n",
    "pd.Series([1,4,7,9])"
   ]
  },
  {
   "cell_type": "code",
   "execution_count": 5,
   "metadata": {
    "ExecuteTime": {
     "end_time": "2021-06-03T05:40:38.469334Z",
     "start_time": "2021-06-03T05:40:38.450495Z"
    }
   },
   "outputs": [],
   "source": [
    "x = pd.Series([1,4,7,9] , index=['서울', '대구', '부산', '광주'])"
   ]
  },
  {
   "cell_type": "code",
   "execution_count": 6,
   "metadata": {
    "ExecuteTime": {
     "end_time": "2021-06-03T05:40:51.001694Z",
     "start_time": "2021-06-03T05:40:50.987670Z"
    }
   },
   "outputs": [
    {
     "data": {
      "text/plain": [
       "7"
      ]
     },
     "execution_count": 6,
     "metadata": {},
     "output_type": "execute_result"
    }
   ],
   "source": [
    "x['부산']"
   ]
  },
  {
   "cell_type": "code",
   "execution_count": 7,
   "metadata": {
    "ExecuteTime": {
     "end_time": "2021-06-03T05:41:40.521520Z",
     "start_time": "2021-06-03T05:41:40.488452Z"
    }
   },
   "outputs": [
    {
     "data": {
      "text/plain": [
       "대구    4\n",
       "부산    7\n",
       "dtype: int64"
      ]
     },
     "execution_count": 7,
     "metadata": {},
     "output_type": "execute_result"
    }
   ],
   "source": [
    "x[['대구', '부산']]"
   ]
  },
  {
   "cell_type": "code",
   "execution_count": 8,
   "metadata": {
    "ExecuteTime": {
     "end_time": "2021-06-03T05:42:33.621510Z",
     "start_time": "2021-06-03T05:42:33.608806Z"
    }
   },
   "outputs": [
    {
     "data": {
      "text/plain": [
       "Index(['서울', '대구', '부산', '광주'], dtype='object')"
      ]
     },
     "execution_count": 8,
     "metadata": {},
     "output_type": "execute_result"
    }
   ],
   "source": [
    "x.index"
   ]
  },
  {
   "cell_type": "code",
   "execution_count": 9,
   "metadata": {
    "ExecuteTime": {
     "end_time": "2021-06-03T05:43:09.687409Z",
     "start_time": "2021-06-03T05:43:09.673371Z"
    }
   },
   "outputs": [
    {
     "data": {
      "text/plain": [
       "array([1, 4, 7, 9], dtype=int64)"
      ]
     },
     "execution_count": 9,
     "metadata": {},
     "output_type": "execute_result"
    }
   ],
   "source": [
    "x.values"
   ]
  },
  {
   "cell_type": "code",
   "execution_count": 11,
   "metadata": {
    "ExecuteTime": {
     "end_time": "2021-06-03T05:44:14.111265Z",
     "start_time": "2021-06-03T05:44:14.092293Z"
    }
   },
   "outputs": [
    {
     "data": {
      "text/plain": [
       "['광주', '대구', '부산', '서울']"
      ]
     },
     "execution_count": 11,
     "metadata": {},
     "output_type": "execute_result"
    }
   ],
   "source": [
    "sorted(['서울', '대구', '부산', '광주'])"
   ]
  },
  {
   "cell_type": "code",
   "execution_count": 12,
   "metadata": {
    "ExecuteTime": {
     "end_time": "2021-06-03T05:44:48.828950Z",
     "start_time": "2021-06-03T05:44:48.810302Z"
    }
   },
   "outputs": [
    {
     "data": {
      "text/plain": [
       "[1, 4, 7, 9]"
      ]
     },
     "execution_count": 12,
     "metadata": {},
     "output_type": "execute_result"
    }
   ],
   "source": [
    "sorted(x.values)"
   ]
  },
  {
   "cell_type": "code",
   "execution_count": 13,
   "metadata": {
    "ExecuteTime": {
     "end_time": "2021-06-03T05:45:31.076709Z",
     "start_time": "2021-06-03T05:45:31.057567Z"
    }
   },
   "outputs": [
    {
     "data": {
      "text/plain": [
       "광주    9\n",
       "대구    4\n",
       "부산    7\n",
       "서울    1\n",
       "dtype: int64"
      ]
     },
     "execution_count": 13,
     "metadata": {},
     "output_type": "execute_result"
    }
   ],
   "source": [
    "x.reindex(sorted(['서울', '대구', '부산', '광주']))"
   ]
  },
  {
   "cell_type": "code",
   "execution_count": 14,
   "metadata": {
    "ExecuteTime": {
     "end_time": "2021-06-03T05:47:09.063210Z",
     "start_time": "2021-06-03T05:47:09.037198Z"
    }
   },
   "outputs": [
    {
     "data": {
      "text/plain": [
       "서울      3\n",
       "대구     32\n",
       "부산     77\n",
       "광주    171\n",
       "dtype: int64"
      ]
     },
     "execution_count": 14,
     "metadata": {},
     "output_type": "execute_result"
    }
   ],
   "source": [
    "x = pd.Series([1,4,7,9] , index=['서울', '대구', '부산', '광주'])\n",
    "y = pd.Series([3,8,11,19] , index=['서울', '대구', '부산', '광주'])\n",
    "x*y"
   ]
  },
  {
   "cell_type": "code",
   "execution_count": 15,
   "metadata": {
    "ExecuteTime": {
     "end_time": "2021-06-03T05:48:29.463039Z",
     "start_time": "2021-06-03T05:48:29.429801Z"
    }
   },
   "outputs": [
    {
     "data": {
      "text/plain": [
       "광주    171.0\n",
       "대구     12.0\n",
       "대전      NaN\n",
       "부산      NaN\n",
       "서울      8.0\n",
       "dtype: float64"
      ]
     },
     "execution_count": 15,
     "metadata": {},
     "output_type": "execute_result"
    }
   ],
   "source": [
    "x = pd.Series([1,4,7,9] , index=['서울', '대구', '부산', '광주'])\n",
    "y = pd.Series([3,8,11,19] , index=['대구', '서울', '대전', '광주'])\n",
    "x*y"
   ]
  },
  {
   "cell_type": "markdown",
   "metadata": {},
   "source": [
    "##### unique()\n"
   ]
  },
  {
   "cell_type": "code",
   "execution_count": 19,
   "metadata": {
    "ExecuteTime": {
     "end_time": "2021-06-03T05:53:17.752936Z",
     "start_time": "2021-06-03T05:53:17.735425Z"
    }
   },
   "outputs": [
    {
     "data": {
      "text/plain": [
       "0    1\n",
       "1    3\n",
       "2    2\n",
       "3    4\n",
       "4    5\n",
       "dtype: int64"
      ]
     },
     "execution_count": 19,
     "metadata": {},
     "output_type": "execute_result"
    }
   ],
   "source": [
    "medal = [1,3,2,4,2,5]\n",
    "x = pd.Series(medal)\n",
    "y = pd.unique(x)\n",
    "z = pd.Series(y)\n",
    "z"
   ]
  },
  {
   "cell_type": "code",
   "execution_count": 20,
   "metadata": {
    "ExecuteTime": {
     "end_time": "2021-06-03T05:54:58.705551Z",
     "start_time": "2021-06-03T05:54:58.694425Z"
    }
   },
   "outputs": [
    {
     "data": {
      "text/plain": [
       "array(['1', '3', '2', '4', '5'], dtype=object)"
      ]
     },
     "execution_count": 20,
     "metadata": {},
     "output_type": "execute_result"
    }
   ],
   "source": [
    "medal = [\"1\",\"3\",\"2\",\"4\",\"2\",\"5\"]\n",
    "x = pd.Series(medal)\n",
    "y = pd.unique(x)\n",
    "y"
   ]
  },
  {
   "cell_type": "markdown",
   "metadata": {},
   "source": [
    "##### dict 을 Series으로 변환"
   ]
  },
  {
   "cell_type": "code",
   "execution_count": 21,
   "metadata": {
    "ExecuteTime": {
     "end_time": "2021-06-03T06:15:22.816773Z",
     "start_time": "2021-06-03T06:15:22.807133Z"
    }
   },
   "outputs": [
    {
     "data": {
      "text/plain": [
       "a     1\n",
       "b    10\n",
       "c    20\n",
       "dtype: int64"
      ]
     },
     "execution_count": 21,
     "metadata": {},
     "output_type": "execute_result"
    }
   ],
   "source": [
    "dic = {\"a\":1 , \"b\":10 ,\"c\":20}\n",
    "\n",
    "pd.Series(dic)"
   ]
  },
  {
   "cell_type": "markdown",
   "metadata": {},
   "source": [
    "#### 데이터프레임(DataFrame)"
   ]
  },
  {
   "cell_type": "code",
   "execution_count": 28,
   "metadata": {
    "ExecuteTime": {
     "end_time": "2021-06-03T06:22:01.565898Z",
     "start_time": "2021-06-03T06:22:01.542844Z"
    }
   },
   "outputs": [
    {
     "data": {
      "text/html": [
       "<div>\n",
       "<style scoped>\n",
       "    .dataframe tbody tr th:only-of-type {\n",
       "        vertical-align: middle;\n",
       "    }\n",
       "\n",
       "    .dataframe tbody tr th {\n",
       "        vertical-align: top;\n",
       "    }\n",
       "\n",
       "    .dataframe thead th {\n",
       "        text-align: right;\n",
       "    }\n",
       "</style>\n",
       "<table border=\"1\" class=\"dataframe\">\n",
       "  <thead>\n",
       "    <tr style=\"text-align: right;\">\n",
       "      <th></th>\n",
       "      <th>0</th>\n",
       "      <th>1</th>\n",
       "      <th>2</th>\n",
       "    </tr>\n",
       "  </thead>\n",
       "  <tbody>\n",
       "    <tr>\n",
       "      <th>a</th>\n",
       "      <td>1</td>\n",
       "      <td>2</td>\n",
       "      <td>3</td>\n",
       "    </tr>\n",
       "    <tr>\n",
       "      <th>b</th>\n",
       "      <td>10</td>\n",
       "      <td>5</td>\n",
       "      <td>11</td>\n",
       "    </tr>\n",
       "    <tr>\n",
       "      <th>c</th>\n",
       "      <td>20</td>\n",
       "      <td>5</td>\n",
       "      <td>8</td>\n",
       "    </tr>\n",
       "  </tbody>\n",
       "</table>\n",
       "</div>"
      ],
      "text/plain": [
       "    0  1   2\n",
       "a   1  2   3\n",
       "b  10  5  11\n",
       "c  20  5   8"
      ]
     },
     "execution_count": 28,
     "metadata": {},
     "output_type": "execute_result"
    }
   ],
   "source": [
    "ser_1 = pd.Series({\"a\":1 , \"b\":10 ,\"c\":20})\n",
    "ser_2 = pd.Series({\"a\":2 , \"b\":5 ,\"c\":5})\n",
    "ser_3 = pd.Series({\"a\":3 , \"b\":11 ,\"c\":8})\n",
    "\n",
    "pd.concat([ser_1, ser_2, ser_3], axis=1)"
   ]
  },
  {
   "cell_type": "code",
   "execution_count": 36,
   "metadata": {
    "ExecuteTime": {
     "end_time": "2021-06-03T06:32:27.814549Z",
     "start_time": "2021-06-03T06:32:27.796508Z"
    }
   },
   "outputs": [],
   "source": [
    "data_dic = {\n",
    "    'age':[23,43,12,45],\n",
    "    'name':['민준','현우', '서연', '동현'],\n",
    "    'height':[175.3, 180.2, 165.8, 172.7]\n",
    "}\n",
    "\n",
    "x = pd.DataFrame(data_dic, columns=['name','age','height'] )"
   ]
  },
  {
   "cell_type": "code",
   "execution_count": 40,
   "metadata": {
    "ExecuteTime": {
     "end_time": "2021-06-03T06:33:10.985615Z",
     "start_time": "2021-06-03T06:33:10.972564Z"
    }
   },
   "outputs": [
    {
     "data": {
      "text/plain": [
       "0    민준\n",
       "1    현우\n",
       "2    서연\n",
       "3    동현\n",
       "Name: name, dtype: object"
      ]
     },
     "execution_count": 40,
     "metadata": {},
     "output_type": "execute_result"
    }
   ],
   "source": [
    "x.name"
   ]
  },
  {
   "cell_type": "code",
   "execution_count": 41,
   "metadata": {
    "ExecuteTime": {
     "end_time": "2021-06-03T06:34:10.696647Z",
     "start_time": "2021-06-03T06:34:10.677880Z"
    }
   },
   "outputs": [
    {
     "data": {
      "text/plain": [
       "0    23\n",
       "1    43\n",
       "2    12\n",
       "3    45\n",
       "Name: age, dtype: int64"
      ]
     },
     "execution_count": 41,
     "metadata": {},
     "output_type": "execute_result"
    }
   ],
   "source": [
    "x.iloc[:, 1]"
   ]
  },
  {
   "cell_type": "code",
   "execution_count": 46,
   "metadata": {
    "ExecuteTime": {
     "end_time": "2021-06-03T06:35:55.289763Z",
     "start_time": "2021-06-03T06:35:55.266767Z"
    }
   },
   "outputs": [
    {
     "name": "stdout",
     "output_type": "stream",
     "text": [
      "  name  age  height\n",
      "0   민준   23   175.3\n",
      "1   현우   43   180.2\n",
      "2   서연   12   165.8\n",
      "3   동현   45   172.7\n"
     ]
    },
    {
     "data": {
      "text/plain": [
       "name         현우\n",
       "age          43\n",
       "height    180.2\n",
       "Name: 1, dtype: object"
      ]
     },
     "execution_count": 46,
     "metadata": {},
     "output_type": "execute_result"
    }
   ],
   "source": [
    "print(x)\n",
    "x.iloc[1]"
   ]
  },
  {
   "cell_type": "code",
   "execution_count": 49,
   "metadata": {
    "ExecuteTime": {
     "end_time": "2021-06-03T06:39:54.098457Z",
     "start_time": "2021-06-03T06:39:54.083835Z"
    }
   },
   "outputs": [
    {
     "data": {
      "text/html": [
       "<div>\n",
       "<style scoped>\n",
       "    .dataframe tbody tr th:only-of-type {\n",
       "        vertical-align: middle;\n",
       "    }\n",
       "\n",
       "    .dataframe tbody tr th {\n",
       "        vertical-align: top;\n",
       "    }\n",
       "\n",
       "    .dataframe thead th {\n",
       "        text-align: right;\n",
       "    }\n",
       "</style>\n",
       "<table border=\"1\" class=\"dataframe\">\n",
       "  <thead>\n",
       "    <tr style=\"text-align: right;\">\n",
       "      <th></th>\n",
       "      <th>first</th>\n",
       "      <th>second</th>\n",
       "    </tr>\n",
       "  </thead>\n",
       "  <tbody>\n",
       "    <tr>\n",
       "      <th>0</th>\n",
       "      <td>1</td>\n",
       "      <td>2</td>\n",
       "    </tr>\n",
       "    <tr>\n",
       "      <th>1</th>\n",
       "      <td>2</td>\n",
       "      <td>3</td>\n",
       "    </tr>\n",
       "    <tr>\n",
       "      <th>2</th>\n",
       "      <td>4</td>\n",
       "      <td>2</td>\n",
       "    </tr>\n",
       "    <tr>\n",
       "      <th>3</th>\n",
       "      <td>5</td>\n",
       "      <td>3</td>\n",
       "    </tr>\n",
       "    <tr>\n",
       "      <th>4</th>\n",
       "      <td>6</td>\n",
       "      <td>2</td>\n",
       "    </tr>\n",
       "    <tr>\n",
       "      <th>5</th>\n",
       "      <td>2</td>\n",
       "      <td>5</td>\n",
       "    </tr>\n",
       "    <tr>\n",
       "      <th>6</th>\n",
       "      <td>1</td>\n",
       "      <td>1</td>\n",
       "    </tr>\n",
       "    <tr>\n",
       "      <th>7</th>\n",
       "      <td>5</td>\n",
       "      <td>4</td>\n",
       "    </tr>\n",
       "    <tr>\n",
       "      <th>8</th>\n",
       "      <td>2</td>\n",
       "      <td>4</td>\n",
       "    </tr>\n",
       "  </tbody>\n",
       "</table>\n",
       "</div>"
      ],
      "text/plain": [
       "   first  second\n",
       "0      1       2\n",
       "1      2       3\n",
       "2      4       2\n",
       "3      5       3\n",
       "4      6       2\n",
       "5      2       5\n",
       "6      1       1\n",
       "7      5       4\n",
       "8      2       4"
      ]
     },
     "execution_count": 49,
     "metadata": {},
     "output_type": "execute_result"
    }
   ],
   "source": [
    "ary = [[1,2],[2,3],[4,2],[5,3],[6,2],[2,5],[1,1],[5,4],[2,4] ]\n",
    "data = pd.DataFrame(ary , columns=['first', 'second'])\n",
    "data"
   ]
  },
  {
   "cell_type": "code",
   "execution_count": 54,
   "metadata": {
    "ExecuteTime": {
     "end_time": "2021-06-03T06:40:42.264037Z",
     "start_time": "2021-06-03T06:40:42.241040Z"
    }
   },
   "outputs": [
    {
     "data": {
      "text/html": [
       "<div>\n",
       "<style scoped>\n",
       "    .dataframe tbody tr th:only-of-type {\n",
       "        vertical-align: middle;\n",
       "    }\n",
       "\n",
       "    .dataframe tbody tr th {\n",
       "        vertical-align: top;\n",
       "    }\n",
       "\n",
       "    .dataframe thead th {\n",
       "        text-align: right;\n",
       "    }\n",
       "</style>\n",
       "<table border=\"1\" class=\"dataframe\">\n",
       "  <thead>\n",
       "    <tr style=\"text-align: right;\">\n",
       "      <th></th>\n",
       "      <th>first</th>\n",
       "      <th>second</th>\n",
       "    </tr>\n",
       "  </thead>\n",
       "  <tbody>\n",
       "    <tr>\n",
       "      <th>0</th>\n",
       "      <td>1</td>\n",
       "      <td>2</td>\n",
       "    </tr>\n",
       "    <tr>\n",
       "      <th>1</th>\n",
       "      <td>2</td>\n",
       "      <td>3</td>\n",
       "    </tr>\n",
       "    <tr>\n",
       "      <th>2</th>\n",
       "      <td>4</td>\n",
       "      <td>2</td>\n",
       "    </tr>\n",
       "    <tr>\n",
       "      <th>3</th>\n",
       "      <td>5</td>\n",
       "      <td>3</td>\n",
       "    </tr>\n",
       "    <tr>\n",
       "      <th>4</th>\n",
       "      <td>6</td>\n",
       "      <td>2</td>\n",
       "    </tr>\n",
       "  </tbody>\n",
       "</table>\n",
       "</div>"
      ],
      "text/plain": [
       "   first  second\n",
       "0      1       2\n",
       "1      2       3\n",
       "2      4       2\n",
       "3      5       3\n",
       "4      6       2"
      ]
     },
     "execution_count": 54,
     "metadata": {},
     "output_type": "execute_result"
    }
   ],
   "source": [
    "data.head()"
   ]
  },
  {
   "cell_type": "code",
   "execution_count": 55,
   "metadata": {
    "ExecuteTime": {
     "end_time": "2021-06-03T06:41:19.886095Z",
     "start_time": "2021-06-03T06:41:19.867369Z"
    }
   },
   "outputs": [
    {
     "data": {
      "text/html": [
       "<div>\n",
       "<style scoped>\n",
       "    .dataframe tbody tr th:only-of-type {\n",
       "        vertical-align: middle;\n",
       "    }\n",
       "\n",
       "    .dataframe tbody tr th {\n",
       "        vertical-align: top;\n",
       "    }\n",
       "\n",
       "    .dataframe thead th {\n",
       "        text-align: right;\n",
       "    }\n",
       "</style>\n",
       "<table border=\"1\" class=\"dataframe\">\n",
       "  <thead>\n",
       "    <tr style=\"text-align: right;\">\n",
       "      <th></th>\n",
       "      <th>first</th>\n",
       "      <th>second</th>\n",
       "    </tr>\n",
       "  </thead>\n",
       "  <tbody>\n",
       "    <tr>\n",
       "      <th>4</th>\n",
       "      <td>6</td>\n",
       "      <td>2</td>\n",
       "    </tr>\n",
       "    <tr>\n",
       "      <th>5</th>\n",
       "      <td>2</td>\n",
       "      <td>5</td>\n",
       "    </tr>\n",
       "    <tr>\n",
       "      <th>6</th>\n",
       "      <td>1</td>\n",
       "      <td>1</td>\n",
       "    </tr>\n",
       "    <tr>\n",
       "      <th>7</th>\n",
       "      <td>5</td>\n",
       "      <td>4</td>\n",
       "    </tr>\n",
       "    <tr>\n",
       "      <th>8</th>\n",
       "      <td>2</td>\n",
       "      <td>4</td>\n",
       "    </tr>\n",
       "  </tbody>\n",
       "</table>\n",
       "</div>"
      ],
      "text/plain": [
       "   first  second\n",
       "4      6       2\n",
       "5      2       5\n",
       "6      1       1\n",
       "7      5       4\n",
       "8      2       4"
      ]
     },
     "execution_count": 55,
     "metadata": {},
     "output_type": "execute_result"
    }
   ],
   "source": [
    "data.tail()"
   ]
  },
  {
   "cell_type": "markdown",
   "metadata": {},
   "source": [
    "#### 파일 읽어오기\n"
   ]
  },
  {
   "cell_type": "code",
   "execution_count": 56,
   "metadata": {
    "ExecuteTime": {
     "end_time": "2021-06-03T06:49:37.071037Z",
     "start_time": "2021-06-03T06:49:36.998035Z"
    }
   },
   "outputs": [
    {
     "data": {
      "text/html": [
       "<div>\n",
       "<style scoped>\n",
       "    .dataframe tbody tr th:only-of-type {\n",
       "        vertical-align: middle;\n",
       "    }\n",
       "\n",
       "    .dataframe tbody tr th {\n",
       "        vertical-align: top;\n",
       "    }\n",
       "\n",
       "    .dataframe thead th {\n",
       "        text-align: right;\n",
       "    }\n",
       "</style>\n",
       "<table border=\"1\" class=\"dataframe\">\n",
       "  <thead>\n",
       "    <tr style=\"text-align: right;\">\n",
       "      <th></th>\n",
       "      <th>Date</th>\n",
       "      <th>TempHighF</th>\n",
       "      <th>TempAvgF</th>\n",
       "      <th>TempLowF</th>\n",
       "      <th>DewPointHighF</th>\n",
       "      <th>DewPointAvgF</th>\n",
       "      <th>DewPointLowF</th>\n",
       "      <th>HumidityHighPercent</th>\n",
       "      <th>HumidityAvgPercent</th>\n",
       "      <th>HumidityLowPercent</th>\n",
       "      <th>...</th>\n",
       "      <th>SeaLevelPressureAvgInches</th>\n",
       "      <th>SeaLevelPressureLowInches</th>\n",
       "      <th>VisibilityHighMiles</th>\n",
       "      <th>VisibilityAvgMiles</th>\n",
       "      <th>VisibilityLowMiles</th>\n",
       "      <th>WindHighMPH</th>\n",
       "      <th>WindAvgMPH</th>\n",
       "      <th>WindGustMPH</th>\n",
       "      <th>PrecipitationSumInches</th>\n",
       "      <th>Events</th>\n",
       "    </tr>\n",
       "  </thead>\n",
       "  <tbody>\n",
       "    <tr>\n",
       "      <th>0</th>\n",
       "      <td>2013-12-21</td>\n",
       "      <td>74</td>\n",
       "      <td>60</td>\n",
       "      <td>45</td>\n",
       "      <td>67</td>\n",
       "      <td>49</td>\n",
       "      <td>43</td>\n",
       "      <td>93</td>\n",
       "      <td>75</td>\n",
       "      <td>57</td>\n",
       "      <td>...</td>\n",
       "      <td>29.68</td>\n",
       "      <td>29.59</td>\n",
       "      <td>10</td>\n",
       "      <td>7</td>\n",
       "      <td>2</td>\n",
       "      <td>20</td>\n",
       "      <td>4</td>\n",
       "      <td>31</td>\n",
       "      <td>0.46</td>\n",
       "      <td>Rain , Thunderstorm</td>\n",
       "    </tr>\n",
       "    <tr>\n",
       "      <th>1</th>\n",
       "      <td>2013-12-22</td>\n",
       "      <td>56</td>\n",
       "      <td>48</td>\n",
       "      <td>39</td>\n",
       "      <td>43</td>\n",
       "      <td>36</td>\n",
       "      <td>28</td>\n",
       "      <td>93</td>\n",
       "      <td>68</td>\n",
       "      <td>43</td>\n",
       "      <td>...</td>\n",
       "      <td>30.13</td>\n",
       "      <td>29.87</td>\n",
       "      <td>10</td>\n",
       "      <td>10</td>\n",
       "      <td>5</td>\n",
       "      <td>16</td>\n",
       "      <td>6</td>\n",
       "      <td>25</td>\n",
       "      <td>0</td>\n",
       "      <td></td>\n",
       "    </tr>\n",
       "    <tr>\n",
       "      <th>2</th>\n",
       "      <td>2013-12-23</td>\n",
       "      <td>58</td>\n",
       "      <td>45</td>\n",
       "      <td>32</td>\n",
       "      <td>31</td>\n",
       "      <td>27</td>\n",
       "      <td>23</td>\n",
       "      <td>76</td>\n",
       "      <td>52</td>\n",
       "      <td>27</td>\n",
       "      <td>...</td>\n",
       "      <td>30.49</td>\n",
       "      <td>30.41</td>\n",
       "      <td>10</td>\n",
       "      <td>10</td>\n",
       "      <td>10</td>\n",
       "      <td>8</td>\n",
       "      <td>3</td>\n",
       "      <td>12</td>\n",
       "      <td>0</td>\n",
       "      <td></td>\n",
       "    </tr>\n",
       "    <tr>\n",
       "      <th>3</th>\n",
       "      <td>2013-12-24</td>\n",
       "      <td>61</td>\n",
       "      <td>46</td>\n",
       "      <td>31</td>\n",
       "      <td>36</td>\n",
       "      <td>28</td>\n",
       "      <td>21</td>\n",
       "      <td>89</td>\n",
       "      <td>56</td>\n",
       "      <td>22</td>\n",
       "      <td>...</td>\n",
       "      <td>30.45</td>\n",
       "      <td>30.3</td>\n",
       "      <td>10</td>\n",
       "      <td>10</td>\n",
       "      <td>7</td>\n",
       "      <td>12</td>\n",
       "      <td>4</td>\n",
       "      <td>20</td>\n",
       "      <td>0</td>\n",
       "      <td></td>\n",
       "    </tr>\n",
       "    <tr>\n",
       "      <th>4</th>\n",
       "      <td>2013-12-25</td>\n",
       "      <td>58</td>\n",
       "      <td>50</td>\n",
       "      <td>41</td>\n",
       "      <td>44</td>\n",
       "      <td>40</td>\n",
       "      <td>36</td>\n",
       "      <td>86</td>\n",
       "      <td>71</td>\n",
       "      <td>56</td>\n",
       "      <td>...</td>\n",
       "      <td>30.33</td>\n",
       "      <td>30.27</td>\n",
       "      <td>10</td>\n",
       "      <td>10</td>\n",
       "      <td>7</td>\n",
       "      <td>10</td>\n",
       "      <td>2</td>\n",
       "      <td>16</td>\n",
       "      <td>T</td>\n",
       "      <td></td>\n",
       "    </tr>\n",
       "    <tr>\n",
       "      <th>...</th>\n",
       "      <td>...</td>\n",
       "      <td>...</td>\n",
       "      <td>...</td>\n",
       "      <td>...</td>\n",
       "      <td>...</td>\n",
       "      <td>...</td>\n",
       "      <td>...</td>\n",
       "      <td>...</td>\n",
       "      <td>...</td>\n",
       "      <td>...</td>\n",
       "      <td>...</td>\n",
       "      <td>...</td>\n",
       "      <td>...</td>\n",
       "      <td>...</td>\n",
       "      <td>...</td>\n",
       "      <td>...</td>\n",
       "      <td>...</td>\n",
       "      <td>...</td>\n",
       "      <td>...</td>\n",
       "      <td>...</td>\n",
       "      <td>...</td>\n",
       "    </tr>\n",
       "    <tr>\n",
       "      <th>1314</th>\n",
       "      <td>2017-07-27</td>\n",
       "      <td>103</td>\n",
       "      <td>89</td>\n",
       "      <td>75</td>\n",
       "      <td>71</td>\n",
       "      <td>67</td>\n",
       "      <td>61</td>\n",
       "      <td>82</td>\n",
       "      <td>54</td>\n",
       "      <td>25</td>\n",
       "      <td>...</td>\n",
       "      <td>29.97</td>\n",
       "      <td>29.88</td>\n",
       "      <td>10</td>\n",
       "      <td>10</td>\n",
       "      <td>10</td>\n",
       "      <td>12</td>\n",
       "      <td>5</td>\n",
       "      <td>21</td>\n",
       "      <td>0</td>\n",
       "      <td></td>\n",
       "    </tr>\n",
       "    <tr>\n",
       "      <th>1315</th>\n",
       "      <td>2017-07-28</td>\n",
       "      <td>105</td>\n",
       "      <td>91</td>\n",
       "      <td>76</td>\n",
       "      <td>71</td>\n",
       "      <td>64</td>\n",
       "      <td>55</td>\n",
       "      <td>87</td>\n",
       "      <td>54</td>\n",
       "      <td>20</td>\n",
       "      <td>...</td>\n",
       "      <td>29.9</td>\n",
       "      <td>29.81</td>\n",
       "      <td>10</td>\n",
       "      <td>10</td>\n",
       "      <td>10</td>\n",
       "      <td>14</td>\n",
       "      <td>5</td>\n",
       "      <td>20</td>\n",
       "      <td>0</td>\n",
       "      <td></td>\n",
       "    </tr>\n",
       "    <tr>\n",
       "      <th>1316</th>\n",
       "      <td>2017-07-29</td>\n",
       "      <td>107</td>\n",
       "      <td>92</td>\n",
       "      <td>77</td>\n",
       "      <td>72</td>\n",
       "      <td>64</td>\n",
       "      <td>55</td>\n",
       "      <td>82</td>\n",
       "      <td>51</td>\n",
       "      <td>19</td>\n",
       "      <td>...</td>\n",
       "      <td>29.86</td>\n",
       "      <td>29.79</td>\n",
       "      <td>10</td>\n",
       "      <td>10</td>\n",
       "      <td>10</td>\n",
       "      <td>12</td>\n",
       "      <td>4</td>\n",
       "      <td>17</td>\n",
       "      <td>0</td>\n",
       "      <td></td>\n",
       "    </tr>\n",
       "    <tr>\n",
       "      <th>1317</th>\n",
       "      <td>2017-07-30</td>\n",
       "      <td>106</td>\n",
       "      <td>93</td>\n",
       "      <td>79</td>\n",
       "      <td>70</td>\n",
       "      <td>68</td>\n",
       "      <td>63</td>\n",
       "      <td>69</td>\n",
       "      <td>48</td>\n",
       "      <td>27</td>\n",
       "      <td>...</td>\n",
       "      <td>29.91</td>\n",
       "      <td>29.87</td>\n",
       "      <td>10</td>\n",
       "      <td>10</td>\n",
       "      <td>10</td>\n",
       "      <td>13</td>\n",
       "      <td>4</td>\n",
       "      <td>20</td>\n",
       "      <td>0</td>\n",
       "      <td></td>\n",
       "    </tr>\n",
       "    <tr>\n",
       "      <th>1318</th>\n",
       "      <td>2017-07-31</td>\n",
       "      <td>99</td>\n",
       "      <td>88</td>\n",
       "      <td>77</td>\n",
       "      <td>66</td>\n",
       "      <td>61</td>\n",
       "      <td>54</td>\n",
       "      <td>64</td>\n",
       "      <td>43</td>\n",
       "      <td>22</td>\n",
       "      <td>...</td>\n",
       "      <td>29.97</td>\n",
       "      <td>29.91</td>\n",
       "      <td>10</td>\n",
       "      <td>10</td>\n",
       "      <td>10</td>\n",
       "      <td>12</td>\n",
       "      <td>4</td>\n",
       "      <td>20</td>\n",
       "      <td>0</td>\n",
       "      <td></td>\n",
       "    </tr>\n",
       "  </tbody>\n",
       "</table>\n",
       "<p>1319 rows × 21 columns</p>\n",
       "</div>"
      ],
      "text/plain": [
       "            Date  TempHighF  TempAvgF  TempLowF DewPointHighF DewPointAvgF  \\\n",
       "0     2013-12-21         74        60        45            67           49   \n",
       "1     2013-12-22         56        48        39            43           36   \n",
       "2     2013-12-23         58        45        32            31           27   \n",
       "3     2013-12-24         61        46        31            36           28   \n",
       "4     2013-12-25         58        50        41            44           40   \n",
       "...          ...        ...       ...       ...           ...          ...   \n",
       "1314  2017-07-27        103        89        75            71           67   \n",
       "1315  2017-07-28        105        91        76            71           64   \n",
       "1316  2017-07-29        107        92        77            72           64   \n",
       "1317  2017-07-30        106        93        79            70           68   \n",
       "1318  2017-07-31         99        88        77            66           61   \n",
       "\n",
       "     DewPointLowF HumidityHighPercent HumidityAvgPercent HumidityLowPercent  \\\n",
       "0              43                  93                 75                 57   \n",
       "1              28                  93                 68                 43   \n",
       "2              23                  76                 52                 27   \n",
       "3              21                  89                 56                 22   \n",
       "4              36                  86                 71                 56   \n",
       "...           ...                 ...                ...                ...   \n",
       "1314           61                  82                 54                 25   \n",
       "1315           55                  87                 54                 20   \n",
       "1316           55                  82                 51                 19   \n",
       "1317           63                  69                 48                 27   \n",
       "1318           54                  64                 43                 22   \n",
       "\n",
       "      ... SeaLevelPressureAvgInches SeaLevelPressureLowInches  \\\n",
       "0     ...                     29.68                     29.59   \n",
       "1     ...                     30.13                     29.87   \n",
       "2     ...                     30.49                     30.41   \n",
       "3     ...                     30.45                      30.3   \n",
       "4     ...                     30.33                     30.27   \n",
       "...   ...                       ...                       ...   \n",
       "1314  ...                     29.97                     29.88   \n",
       "1315  ...                      29.9                     29.81   \n",
       "1316  ...                     29.86                     29.79   \n",
       "1317  ...                     29.91                     29.87   \n",
       "1318  ...                     29.97                     29.91   \n",
       "\n",
       "     VisibilityHighMiles VisibilityAvgMiles VisibilityLowMiles WindHighMPH  \\\n",
       "0                     10                  7                  2          20   \n",
       "1                     10                 10                  5          16   \n",
       "2                     10                 10                 10           8   \n",
       "3                     10                 10                  7          12   \n",
       "4                     10                 10                  7          10   \n",
       "...                  ...                ...                ...         ...   \n",
       "1314                  10                 10                 10          12   \n",
       "1315                  10                 10                 10          14   \n",
       "1316                  10                 10                 10          12   \n",
       "1317                  10                 10                 10          13   \n",
       "1318                  10                 10                 10          12   \n",
       "\n",
       "     WindAvgMPH WindGustMPH PrecipitationSumInches               Events  \n",
       "0             4          31                   0.46  Rain , Thunderstorm  \n",
       "1             6          25                      0                       \n",
       "2             3          12                      0                       \n",
       "3             4          20                      0                       \n",
       "4             2          16                      T                       \n",
       "...         ...         ...                    ...                  ...  \n",
       "1314          5          21                      0                       \n",
       "1315          5          20                      0                       \n",
       "1316          4          17                      0                       \n",
       "1317          4          20                      0                       \n",
       "1318          4          20                      0                       \n",
       "\n",
       "[1319 rows x 21 columns]"
      ]
     },
     "execution_count": 56,
     "metadata": {},
     "output_type": "execute_result"
    }
   ],
   "source": [
    "pd.read_csv(\"austin_weather.csv\")"
   ]
  },
  {
   "cell_type": "code",
   "execution_count": 70,
   "metadata": {
    "ExecuteTime": {
     "end_time": "2021-06-03T07:34:39.934851Z",
     "start_time": "2021-06-03T07:34:39.910758Z"
    }
   },
   "outputs": [
    {
     "data": {
      "text/html": [
       "<div>\n",
       "<style scoped>\n",
       "    .dataframe tbody tr th:only-of-type {\n",
       "        vertical-align: middle;\n",
       "    }\n",
       "\n",
       "    .dataframe tbody tr th {\n",
       "        vertical-align: top;\n",
       "    }\n",
       "\n",
       "    .dataframe thead th {\n",
       "        text-align: right;\n",
       "    }\n",
       "</style>\n",
       "<table border=\"1\" class=\"dataframe\">\n",
       "  <thead>\n",
       "    <tr style=\"text-align: right;\">\n",
       "      <th></th>\n",
       "      <th>구분</th>\n",
       "      <th>도로종류</th>\n",
       "      <th>사고(건)</th>\n",
       "      <th>사망(명)</th>\n",
       "      <th>부상(명)</th>\n",
       "    </tr>\n",
       "  </thead>\n",
       "  <tbody>\n",
       "    <tr>\n",
       "      <th>0</th>\n",
       "      <td>False</td>\n",
       "      <td>False</td>\n",
       "      <td>False</td>\n",
       "      <td>False</td>\n",
       "      <td>False</td>\n",
       "    </tr>\n",
       "    <tr>\n",
       "      <th>1</th>\n",
       "      <td>False</td>\n",
       "      <td>False</td>\n",
       "      <td>False</td>\n",
       "      <td>False</td>\n",
       "      <td>False</td>\n",
       "    </tr>\n",
       "    <tr>\n",
       "      <th>2</th>\n",
       "      <td>False</td>\n",
       "      <td>False</td>\n",
       "      <td>False</td>\n",
       "      <td>False</td>\n",
       "      <td>True</td>\n",
       "    </tr>\n",
       "    <tr>\n",
       "      <th>3</th>\n",
       "      <td>False</td>\n",
       "      <td>False</td>\n",
       "      <td>False</td>\n",
       "      <td>False</td>\n",
       "      <td>False</td>\n",
       "    </tr>\n",
       "    <tr>\n",
       "      <th>4</th>\n",
       "      <td>False</td>\n",
       "      <td>False</td>\n",
       "      <td>False</td>\n",
       "      <td>True</td>\n",
       "      <td>False</td>\n",
       "    </tr>\n",
       "    <tr>\n",
       "      <th>5</th>\n",
       "      <td>False</td>\n",
       "      <td>False</td>\n",
       "      <td>True</td>\n",
       "      <td>False</td>\n",
       "      <td>False</td>\n",
       "    </tr>\n",
       "    <tr>\n",
       "      <th>6</th>\n",
       "      <td>False</td>\n",
       "      <td>False</td>\n",
       "      <td>False</td>\n",
       "      <td>False</td>\n",
       "      <td>False</td>\n",
       "    </tr>\n",
       "    <tr>\n",
       "      <th>7</th>\n",
       "      <td>False</td>\n",
       "      <td>False</td>\n",
       "      <td>False</td>\n",
       "      <td>False</td>\n",
       "      <td>False</td>\n",
       "    </tr>\n",
       "    <tr>\n",
       "      <th>8</th>\n",
       "      <td>False</td>\n",
       "      <td>False</td>\n",
       "      <td>False</td>\n",
       "      <td>False</td>\n",
       "      <td>True</td>\n",
       "    </tr>\n",
       "    <tr>\n",
       "      <th>9</th>\n",
       "      <td>False</td>\n",
       "      <td>False</td>\n",
       "      <td>True</td>\n",
       "      <td>False</td>\n",
       "      <td>False</td>\n",
       "    </tr>\n",
       "    <tr>\n",
       "      <th>10</th>\n",
       "      <td>False</td>\n",
       "      <td>False</td>\n",
       "      <td>False</td>\n",
       "      <td>False</td>\n",
       "      <td>False</td>\n",
       "    </tr>\n",
       "    <tr>\n",
       "      <th>11</th>\n",
       "      <td>False</td>\n",
       "      <td>False</td>\n",
       "      <td>False</td>\n",
       "      <td>False</td>\n",
       "      <td>False</td>\n",
       "    </tr>\n",
       "    <tr>\n",
       "      <th>12</th>\n",
       "      <td>False</td>\n",
       "      <td>False</td>\n",
       "      <td>False</td>\n",
       "      <td>False</td>\n",
       "      <td>False</td>\n",
       "    </tr>\n",
       "    <tr>\n",
       "      <th>13</th>\n",
       "      <td>False</td>\n",
       "      <td>False</td>\n",
       "      <td>False</td>\n",
       "      <td>False</td>\n",
       "      <td>False</td>\n",
       "    </tr>\n",
       "    <tr>\n",
       "      <th>14</th>\n",
       "      <td>False</td>\n",
       "      <td>False</td>\n",
       "      <td>False</td>\n",
       "      <td>False</td>\n",
       "      <td>False</td>\n",
       "    </tr>\n",
       "    <tr>\n",
       "      <th>15</th>\n",
       "      <td>False</td>\n",
       "      <td>False</td>\n",
       "      <td>False</td>\n",
       "      <td>False</td>\n",
       "      <td>False</td>\n",
       "    </tr>\n",
       "    <tr>\n",
       "      <th>16</th>\n",
       "      <td>False</td>\n",
       "      <td>False</td>\n",
       "      <td>False</td>\n",
       "      <td>False</td>\n",
       "      <td>False</td>\n",
       "    </tr>\n",
       "    <tr>\n",
       "      <th>17</th>\n",
       "      <td>False</td>\n",
       "      <td>False</td>\n",
       "      <td>False</td>\n",
       "      <td>False</td>\n",
       "      <td>False</td>\n",
       "    </tr>\n",
       "    <tr>\n",
       "      <th>18</th>\n",
       "      <td>False</td>\n",
       "      <td>False</td>\n",
       "      <td>False</td>\n",
       "      <td>False</td>\n",
       "      <td>False</td>\n",
       "    </tr>\n",
       "    <tr>\n",
       "      <th>19</th>\n",
       "      <td>False</td>\n",
       "      <td>False</td>\n",
       "      <td>False</td>\n",
       "      <td>False</td>\n",
       "      <td>False</td>\n",
       "    </tr>\n",
       "    <tr>\n",
       "      <th>20</th>\n",
       "      <td>False</td>\n",
       "      <td>False</td>\n",
       "      <td>False</td>\n",
       "      <td>False</td>\n",
       "      <td>False</td>\n",
       "    </tr>\n",
       "  </tbody>\n",
       "</table>\n",
       "</div>"
      ],
      "text/plain": [
       "       구분   도로종류  사고(건)  사망(명)  부상(명)\n",
       "0   False  False  False  False  False\n",
       "1   False  False  False  False  False\n",
       "2   False  False  False  False   True\n",
       "3   False  False  False  False  False\n",
       "4   False  False  False   True  False\n",
       "5   False  False   True  False  False\n",
       "6   False  False  False  False  False\n",
       "7   False  False  False  False  False\n",
       "8   False  False  False  False   True\n",
       "9   False  False   True  False  False\n",
       "10  False  False  False  False  False\n",
       "11  False  False  False  False  False\n",
       "12  False  False  False  False  False\n",
       "13  False  False  False  False  False\n",
       "14  False  False  False  False  False\n",
       "15  False  False  False  False  False\n",
       "16  False  False  False  False  False\n",
       "17  False  False  False  False  False\n",
       "18  False  False  False  False  False\n",
       "19  False  False  False  False  False\n",
       "20  False  False  False  False  False"
      ]
     },
     "execution_count": 70,
     "metadata": {},
     "output_type": "execute_result"
    }
   ],
   "source": [
    "df = pd.read_csv(\"경찰청_졸음운전 교통사고 현황_20191231.csv\", engine=\"python\",encoding='CP949')\n",
    "df.isnull()"
   ]
  },
  {
   "cell_type": "code",
   "execution_count": 72,
   "metadata": {
    "ExecuteTime": {
     "end_time": "2021-06-03T07:36:22.004286Z",
     "start_time": "2021-06-03T07:36:21.980749Z"
    }
   },
   "outputs": [
    {
     "data": {
      "text/html": [
       "<div>\n",
       "<style scoped>\n",
       "    .dataframe tbody tr th:only-of-type {\n",
       "        vertical-align: middle;\n",
       "    }\n",
       "\n",
       "    .dataframe tbody tr th {\n",
       "        vertical-align: top;\n",
       "    }\n",
       "\n",
       "    .dataframe thead th {\n",
       "        text-align: right;\n",
       "    }\n",
       "</style>\n",
       "<table border=\"1\" class=\"dataframe\">\n",
       "  <thead>\n",
       "    <tr style=\"text-align: right;\">\n",
       "      <th></th>\n",
       "      <th>구분</th>\n",
       "      <th>도로종류</th>\n",
       "      <th>사고(건)</th>\n",
       "      <th>사망(명)</th>\n",
       "      <th>부상(명)</th>\n",
       "    </tr>\n",
       "  </thead>\n",
       "  <tbody>\n",
       "    <tr>\n",
       "      <th>0</th>\n",
       "      <td>2017년</td>\n",
       "      <td>일반국도</td>\n",
       "      <td>363.0</td>\n",
       "      <td>19.0</td>\n",
       "      <td>698.0</td>\n",
       "    </tr>\n",
       "    <tr>\n",
       "      <th>1</th>\n",
       "      <td>2017년</td>\n",
       "      <td>지방도</td>\n",
       "      <td>230.0</td>\n",
       "      <td>10.0</td>\n",
       "      <td>451.0</td>\n",
       "    </tr>\n",
       "    <tr>\n",
       "      <th>3</th>\n",
       "      <td>2017년</td>\n",
       "      <td>시도</td>\n",
       "      <td>577.0</td>\n",
       "      <td>11.0</td>\n",
       "      <td>1125.0</td>\n",
       "    </tr>\n",
       "    <tr>\n",
       "      <th>6</th>\n",
       "      <td>2017년</td>\n",
       "      <td>기타</td>\n",
       "      <td>21.0</td>\n",
       "      <td>0.0</td>\n",
       "      <td>41.0</td>\n",
       "    </tr>\n",
       "    <tr>\n",
       "      <th>7</th>\n",
       "      <td>2018년</td>\n",
       "      <td>일반국도</td>\n",
       "      <td>249.0</td>\n",
       "      <td>18.0</td>\n",
       "      <td>487.0</td>\n",
       "    </tr>\n",
       "    <tr>\n",
       "      <th>10</th>\n",
       "      <td>2018년</td>\n",
       "      <td>시도</td>\n",
       "      <td>355.0</td>\n",
       "      <td>2.0</td>\n",
       "      <td>698.0</td>\n",
       "    </tr>\n",
       "    <tr>\n",
       "      <th>11</th>\n",
       "      <td>2018년</td>\n",
       "      <td>군도</td>\n",
       "      <td>71.0</td>\n",
       "      <td>1.0</td>\n",
       "      <td>115.0</td>\n",
       "    </tr>\n",
       "    <tr>\n",
       "      <th>12</th>\n",
       "      <td>2018년</td>\n",
       "      <td>고속국도</td>\n",
       "      <td>104.0</td>\n",
       "      <td>16.0</td>\n",
       "      <td>211.0</td>\n",
       "    </tr>\n",
       "    <tr>\n",
       "      <th>13</th>\n",
       "      <td>2018년</td>\n",
       "      <td>기타</td>\n",
       "      <td>30.0</td>\n",
       "      <td>1.0</td>\n",
       "      <td>76.0</td>\n",
       "    </tr>\n",
       "    <tr>\n",
       "      <th>14</th>\n",
       "      <td>2019년</td>\n",
       "      <td>일반국도</td>\n",
       "      <td>498.0</td>\n",
       "      <td>29.0</td>\n",
       "      <td>964.0</td>\n",
       "    </tr>\n",
       "    <tr>\n",
       "      <th>15</th>\n",
       "      <td>2019년</td>\n",
       "      <td>지방도</td>\n",
       "      <td>300.0</td>\n",
       "      <td>18.0</td>\n",
       "      <td>587.0</td>\n",
       "    </tr>\n",
       "    <tr>\n",
       "      <th>16</th>\n",
       "      <td>2019년</td>\n",
       "      <td>특별광역시도</td>\n",
       "      <td>825.0</td>\n",
       "      <td>7.0</td>\n",
       "      <td>1594.0</td>\n",
       "    </tr>\n",
       "    <tr>\n",
       "      <th>17</th>\n",
       "      <td>2019년</td>\n",
       "      <td>시도</td>\n",
       "      <td>876.0</td>\n",
       "      <td>17.0</td>\n",
       "      <td>1629.0</td>\n",
       "    </tr>\n",
       "    <tr>\n",
       "      <th>18</th>\n",
       "      <td>2019년</td>\n",
       "      <td>군도</td>\n",
       "      <td>116.0</td>\n",
       "      <td>8.0</td>\n",
       "      <td>184.0</td>\n",
       "    </tr>\n",
       "    <tr>\n",
       "      <th>19</th>\n",
       "      <td>2019년</td>\n",
       "      <td>고속국도</td>\n",
       "      <td>147.0</td>\n",
       "      <td>20.0</td>\n",
       "      <td>296.0</td>\n",
       "    </tr>\n",
       "    <tr>\n",
       "      <th>20</th>\n",
       "      <td>2019년</td>\n",
       "      <td>기타</td>\n",
       "      <td>125.0</td>\n",
       "      <td>2.0</td>\n",
       "      <td>206.0</td>\n",
       "    </tr>\n",
       "  </tbody>\n",
       "</table>\n",
       "</div>"
      ],
      "text/plain": [
       "       구분    도로종류  사고(건)  사망(명)   부상(명)\n",
       "0   2017년    일반국도  363.0   19.0   698.0\n",
       "1   2017년     지방도  230.0   10.0   451.0\n",
       "3   2017년      시도  577.0   11.0  1125.0\n",
       "6   2017년      기타   21.0    0.0    41.0\n",
       "7   2018년    일반국도  249.0   18.0   487.0\n",
       "10  2018년      시도  355.0    2.0   698.0\n",
       "11  2018년      군도   71.0    1.0   115.0\n",
       "12  2018년    고속국도  104.0   16.0   211.0\n",
       "13  2018년      기타   30.0    1.0    76.0\n",
       "14  2019년    일반국도  498.0   29.0   964.0\n",
       "15  2019년     지방도  300.0   18.0   587.0\n",
       "16  2019년  특별광역시도  825.0    7.0  1594.0\n",
       "17  2019년      시도  876.0   17.0  1629.0\n",
       "18  2019년      군도  116.0    8.0   184.0\n",
       "19  2019년    고속국도  147.0   20.0   296.0\n",
       "20  2019년      기타  125.0    2.0   206.0"
      ]
     },
     "execution_count": 72,
     "metadata": {},
     "output_type": "execute_result"
    }
   ],
   "source": [
    "df = pd.read_csv(\"경찰청_졸음운전 교통사고 현황_20191231.csv\", engine=\"python\",encoding='CP949')\n",
    "drop_data = df.dropna()\n",
    "drop_data"
   ]
  },
  {
   "cell_type": "code",
   "execution_count": 74,
   "metadata": {
    "ExecuteTime": {
     "end_time": "2021-06-03T07:37:44.750045Z",
     "start_time": "2021-06-03T07:37:44.713025Z"
    }
   },
   "outputs": [
    {
     "data": {
      "text/html": [
       "<div>\n",
       "<style scoped>\n",
       "    .dataframe tbody tr th:only-of-type {\n",
       "        vertical-align: middle;\n",
       "    }\n",
       "\n",
       "    .dataframe tbody tr th {\n",
       "        vertical-align: top;\n",
       "    }\n",
       "\n",
       "    .dataframe thead th {\n",
       "        text-align: right;\n",
       "    }\n",
       "</style>\n",
       "<table border=\"1\" class=\"dataframe\">\n",
       "  <thead>\n",
       "    <tr style=\"text-align: right;\">\n",
       "      <th></th>\n",
       "      <th>구분</th>\n",
       "      <th>도로종류</th>\n",
       "      <th>사고(건)</th>\n",
       "      <th>사망(명)</th>\n",
       "      <th>부상(명)</th>\n",
       "    </tr>\n",
       "  </thead>\n",
       "  <tbody>\n",
       "    <tr>\n",
       "      <th>0</th>\n",
       "      <td>2017년</td>\n",
       "      <td>일반국도</td>\n",
       "      <td>363.0</td>\n",
       "      <td>19.0</td>\n",
       "      <td>698.0</td>\n",
       "    </tr>\n",
       "    <tr>\n",
       "      <th>1</th>\n",
       "      <td>2017년</td>\n",
       "      <td>지방도</td>\n",
       "      <td>230.0</td>\n",
       "      <td>10.0</td>\n",
       "      <td>451.0</td>\n",
       "    </tr>\n",
       "    <tr>\n",
       "      <th>2</th>\n",
       "      <td>2017년</td>\n",
       "      <td>특별광역시도</td>\n",
       "      <td>590.0</td>\n",
       "      <td>12.0</td>\n",
       "      <td>NaN</td>\n",
       "    </tr>\n",
       "    <tr>\n",
       "      <th>3</th>\n",
       "      <td>2017년</td>\n",
       "      <td>시도</td>\n",
       "      <td>577.0</td>\n",
       "      <td>11.0</td>\n",
       "      <td>1125.0</td>\n",
       "    </tr>\n",
       "    <tr>\n",
       "      <th>4</th>\n",
       "      <td>2017년</td>\n",
       "      <td>군도</td>\n",
       "      <td>101.0</td>\n",
       "      <td>NaN</td>\n",
       "      <td>169.0</td>\n",
       "    </tr>\n",
       "    <tr>\n",
       "      <th>6</th>\n",
       "      <td>2017년</td>\n",
       "      <td>기타</td>\n",
       "      <td>21.0</td>\n",
       "      <td>0.0</td>\n",
       "      <td>41.0</td>\n",
       "    </tr>\n",
       "    <tr>\n",
       "      <th>7</th>\n",
       "      <td>2018년</td>\n",
       "      <td>일반국도</td>\n",
       "      <td>249.0</td>\n",
       "      <td>18.0</td>\n",
       "      <td>487.0</td>\n",
       "    </tr>\n",
       "    <tr>\n",
       "      <th>8</th>\n",
       "      <td>2018년</td>\n",
       "      <td>지방도</td>\n",
       "      <td>170.0</td>\n",
       "      <td>11.0</td>\n",
       "      <td>NaN</td>\n",
       "    </tr>\n",
       "    <tr>\n",
       "      <th>10</th>\n",
       "      <td>2018년</td>\n",
       "      <td>시도</td>\n",
       "      <td>355.0</td>\n",
       "      <td>2.0</td>\n",
       "      <td>698.0</td>\n",
       "    </tr>\n",
       "    <tr>\n",
       "      <th>11</th>\n",
       "      <td>2018년</td>\n",
       "      <td>군도</td>\n",
       "      <td>71.0</td>\n",
       "      <td>1.0</td>\n",
       "      <td>115.0</td>\n",
       "    </tr>\n",
       "    <tr>\n",
       "      <th>12</th>\n",
       "      <td>2018년</td>\n",
       "      <td>고속국도</td>\n",
       "      <td>104.0</td>\n",
       "      <td>16.0</td>\n",
       "      <td>211.0</td>\n",
       "    </tr>\n",
       "    <tr>\n",
       "      <th>13</th>\n",
       "      <td>2018년</td>\n",
       "      <td>기타</td>\n",
       "      <td>30.0</td>\n",
       "      <td>1.0</td>\n",
       "      <td>76.0</td>\n",
       "    </tr>\n",
       "    <tr>\n",
       "      <th>14</th>\n",
       "      <td>2019년</td>\n",
       "      <td>일반국도</td>\n",
       "      <td>498.0</td>\n",
       "      <td>29.0</td>\n",
       "      <td>964.0</td>\n",
       "    </tr>\n",
       "    <tr>\n",
       "      <th>15</th>\n",
       "      <td>2019년</td>\n",
       "      <td>지방도</td>\n",
       "      <td>300.0</td>\n",
       "      <td>18.0</td>\n",
       "      <td>587.0</td>\n",
       "    </tr>\n",
       "    <tr>\n",
       "      <th>16</th>\n",
       "      <td>2019년</td>\n",
       "      <td>특별광역시도</td>\n",
       "      <td>825.0</td>\n",
       "      <td>7.0</td>\n",
       "      <td>1594.0</td>\n",
       "    </tr>\n",
       "    <tr>\n",
       "      <th>17</th>\n",
       "      <td>2019년</td>\n",
       "      <td>시도</td>\n",
       "      <td>876.0</td>\n",
       "      <td>17.0</td>\n",
       "      <td>1629.0</td>\n",
       "    </tr>\n",
       "    <tr>\n",
       "      <th>18</th>\n",
       "      <td>2019년</td>\n",
       "      <td>군도</td>\n",
       "      <td>116.0</td>\n",
       "      <td>8.0</td>\n",
       "      <td>184.0</td>\n",
       "    </tr>\n",
       "    <tr>\n",
       "      <th>19</th>\n",
       "      <td>2019년</td>\n",
       "      <td>고속국도</td>\n",
       "      <td>147.0</td>\n",
       "      <td>20.0</td>\n",
       "      <td>296.0</td>\n",
       "    </tr>\n",
       "    <tr>\n",
       "      <th>20</th>\n",
       "      <td>2019년</td>\n",
       "      <td>기타</td>\n",
       "      <td>125.0</td>\n",
       "      <td>2.0</td>\n",
       "      <td>206.0</td>\n",
       "    </tr>\n",
       "  </tbody>\n",
       "</table>\n",
       "</div>"
      ],
      "text/plain": [
       "       구분    도로종류  사고(건)  사망(명)   부상(명)\n",
       "0   2017년    일반국도  363.0   19.0   698.0\n",
       "1   2017년     지방도  230.0   10.0   451.0\n",
       "2   2017년  특별광역시도  590.0   12.0     NaN\n",
       "3   2017년      시도  577.0   11.0  1125.0\n",
       "4   2017년      군도  101.0    NaN   169.0\n",
       "6   2017년      기타   21.0    0.0    41.0\n",
       "7   2018년    일반국도  249.0   18.0   487.0\n",
       "8   2018년     지방도  170.0   11.0     NaN\n",
       "10  2018년      시도  355.0    2.0   698.0\n",
       "11  2018년      군도   71.0    1.0   115.0\n",
       "12  2018년    고속국도  104.0   16.0   211.0\n",
       "13  2018년      기타   30.0    1.0    76.0\n",
       "14  2019년    일반국도  498.0   29.0   964.0\n",
       "15  2019년     지방도  300.0   18.0   587.0\n",
       "16  2019년  특별광역시도  825.0    7.0  1594.0\n",
       "17  2019년      시도  876.0   17.0  1629.0\n",
       "18  2019년      군도  116.0    8.0   184.0\n",
       "19  2019년    고속국도  147.0   20.0   296.0\n",
       "20  2019년      기타  125.0    2.0   206.0"
      ]
     },
     "execution_count": 74,
     "metadata": {},
     "output_type": "execute_result"
    }
   ],
   "source": [
    "df = pd.read_csv(\"경찰청_졸음운전 교통사고 현황_20191231.csv\", engine=\"python\",encoding='CP949')\n",
    "drop_data = df.dropna(subset=[\"사고(건)\"])\n",
    "drop_data"
   ]
  },
  {
   "cell_type": "code",
   "execution_count": 80,
   "metadata": {
    "ExecuteTime": {
     "end_time": "2021-06-03T07:45:01.057411Z",
     "start_time": "2021-06-03T07:45:01.028234Z"
    }
   },
   "outputs": [
    {
     "data": {
      "text/html": [
       "<div>\n",
       "<style scoped>\n",
       "    .dataframe tbody tr th:only-of-type {\n",
       "        vertical-align: middle;\n",
       "    }\n",
       "\n",
       "    .dataframe tbody tr th {\n",
       "        vertical-align: top;\n",
       "    }\n",
       "\n",
       "    .dataframe thead th {\n",
       "        text-align: right;\n",
       "    }\n",
       "</style>\n",
       "<table border=\"1\" class=\"dataframe\">\n",
       "  <thead>\n",
       "    <tr style=\"text-align: right;\">\n",
       "      <th></th>\n",
       "      <th>구분</th>\n",
       "      <th>도로종류</th>\n",
       "      <th>사고(건)</th>\n",
       "      <th>사망(명)</th>\n",
       "      <th>부상(명)</th>\n",
       "    </tr>\n",
       "  </thead>\n",
       "  <tbody>\n",
       "    <tr>\n",
       "      <th>0</th>\n",
       "      <td>2017년</td>\n",
       "      <td>일반국도</td>\n",
       "      <td>363.000000</td>\n",
       "      <td>19.000000</td>\n",
       "      <td>698.000000</td>\n",
       "    </tr>\n",
       "    <tr>\n",
       "      <th>1</th>\n",
       "      <td>2017년</td>\n",
       "      <td>지방도</td>\n",
       "      <td>230.000000</td>\n",
       "      <td>10.000000</td>\n",
       "      <td>451.000000</td>\n",
       "    </tr>\n",
       "    <tr>\n",
       "      <th>2</th>\n",
       "      <td>2017년</td>\n",
       "      <td>특별광역시도</td>\n",
       "      <td>590.000000</td>\n",
       "      <td>12.000000</td>\n",
       "      <td>302.526316</td>\n",
       "    </tr>\n",
       "    <tr>\n",
       "      <th>3</th>\n",
       "      <td>2017년</td>\n",
       "      <td>시도</td>\n",
       "      <td>577.000000</td>\n",
       "      <td>11.000000</td>\n",
       "      <td>1125.000000</td>\n",
       "    </tr>\n",
       "    <tr>\n",
       "      <th>4</th>\n",
       "      <td>2017년</td>\n",
       "      <td>군도</td>\n",
       "      <td>101.000000</td>\n",
       "      <td>302.526316</td>\n",
       "      <td>169.000000</td>\n",
       "    </tr>\n",
       "    <tr>\n",
       "      <th>5</th>\n",
       "      <td>2017년</td>\n",
       "      <td>고속국도</td>\n",
       "      <td>302.526316</td>\n",
       "      <td>22.000000</td>\n",
       "      <td>273.000000</td>\n",
       "    </tr>\n",
       "    <tr>\n",
       "      <th>6</th>\n",
       "      <td>2017년</td>\n",
       "      <td>기타</td>\n",
       "      <td>21.000000</td>\n",
       "      <td>0.000000</td>\n",
       "      <td>41.000000</td>\n",
       "    </tr>\n",
       "    <tr>\n",
       "      <th>7</th>\n",
       "      <td>2018년</td>\n",
       "      <td>일반국도</td>\n",
       "      <td>249.000000</td>\n",
       "      <td>18.000000</td>\n",
       "      <td>487.000000</td>\n",
       "    </tr>\n",
       "    <tr>\n",
       "      <th>8</th>\n",
       "      <td>2018년</td>\n",
       "      <td>지방도</td>\n",
       "      <td>170.000000</td>\n",
       "      <td>11.000000</td>\n",
       "      <td>302.526316</td>\n",
       "    </tr>\n",
       "    <tr>\n",
       "      <th>9</th>\n",
       "      <td>2018년</td>\n",
       "      <td>특별광역시도</td>\n",
       "      <td>302.526316</td>\n",
       "      <td>4.000000</td>\n",
       "      <td>710.000000</td>\n",
       "    </tr>\n",
       "    <tr>\n",
       "      <th>10</th>\n",
       "      <td>2018년</td>\n",
       "      <td>시도</td>\n",
       "      <td>355.000000</td>\n",
       "      <td>2.000000</td>\n",
       "      <td>698.000000</td>\n",
       "    </tr>\n",
       "    <tr>\n",
       "      <th>11</th>\n",
       "      <td>2018년</td>\n",
       "      <td>군도</td>\n",
       "      <td>71.000000</td>\n",
       "      <td>1.000000</td>\n",
       "      <td>115.000000</td>\n",
       "    </tr>\n",
       "    <tr>\n",
       "      <th>12</th>\n",
       "      <td>2018년</td>\n",
       "      <td>고속국도</td>\n",
       "      <td>104.000000</td>\n",
       "      <td>16.000000</td>\n",
       "      <td>211.000000</td>\n",
       "    </tr>\n",
       "    <tr>\n",
       "      <th>13</th>\n",
       "      <td>2018년</td>\n",
       "      <td>기타</td>\n",
       "      <td>30.000000</td>\n",
       "      <td>1.000000</td>\n",
       "      <td>76.000000</td>\n",
       "    </tr>\n",
       "    <tr>\n",
       "      <th>14</th>\n",
       "      <td>2019년</td>\n",
       "      <td>일반국도</td>\n",
       "      <td>498.000000</td>\n",
       "      <td>29.000000</td>\n",
       "      <td>964.000000</td>\n",
       "    </tr>\n",
       "    <tr>\n",
       "      <th>15</th>\n",
       "      <td>2019년</td>\n",
       "      <td>지방도</td>\n",
       "      <td>300.000000</td>\n",
       "      <td>18.000000</td>\n",
       "      <td>587.000000</td>\n",
       "    </tr>\n",
       "    <tr>\n",
       "      <th>16</th>\n",
       "      <td>2019년</td>\n",
       "      <td>특별광역시도</td>\n",
       "      <td>825.000000</td>\n",
       "      <td>7.000000</td>\n",
       "      <td>1594.000000</td>\n",
       "    </tr>\n",
       "    <tr>\n",
       "      <th>17</th>\n",
       "      <td>2019년</td>\n",
       "      <td>시도</td>\n",
       "      <td>876.000000</td>\n",
       "      <td>17.000000</td>\n",
       "      <td>1629.000000</td>\n",
       "    </tr>\n",
       "    <tr>\n",
       "      <th>18</th>\n",
       "      <td>2019년</td>\n",
       "      <td>군도</td>\n",
       "      <td>116.000000</td>\n",
       "      <td>8.000000</td>\n",
       "      <td>184.000000</td>\n",
       "    </tr>\n",
       "    <tr>\n",
       "      <th>19</th>\n",
       "      <td>2019년</td>\n",
       "      <td>고속국도</td>\n",
       "      <td>147.000000</td>\n",
       "      <td>20.000000</td>\n",
       "      <td>296.000000</td>\n",
       "    </tr>\n",
       "    <tr>\n",
       "      <th>20</th>\n",
       "      <td>2019년</td>\n",
       "      <td>기타</td>\n",
       "      <td>125.000000</td>\n",
       "      <td>2.000000</td>\n",
       "      <td>206.000000</td>\n",
       "    </tr>\n",
       "  </tbody>\n",
       "</table>\n",
       "</div>"
      ],
      "text/plain": [
       "       구분    도로종류       사고(건)       사망(명)        부상(명)\n",
       "0   2017년    일반국도  363.000000   19.000000   698.000000\n",
       "1   2017년     지방도  230.000000   10.000000   451.000000\n",
       "2   2017년  특별광역시도  590.000000   12.000000   302.526316\n",
       "3   2017년      시도  577.000000   11.000000  1125.000000\n",
       "4   2017년      군도  101.000000  302.526316   169.000000\n",
       "5   2017년    고속국도  302.526316   22.000000   273.000000\n",
       "6   2017년      기타   21.000000    0.000000    41.000000\n",
       "7   2018년    일반국도  249.000000   18.000000   487.000000\n",
       "8   2018년     지방도  170.000000   11.000000   302.526316\n",
       "9   2018년  특별광역시도  302.526316    4.000000   710.000000\n",
       "10  2018년      시도  355.000000    2.000000   698.000000\n",
       "11  2018년      군도   71.000000    1.000000   115.000000\n",
       "12  2018년    고속국도  104.000000   16.000000   211.000000\n",
       "13  2018년      기타   30.000000    1.000000    76.000000\n",
       "14  2019년    일반국도  498.000000   29.000000   964.000000\n",
       "15  2019년     지방도  300.000000   18.000000   587.000000\n",
       "16  2019년  특별광역시도  825.000000    7.000000  1594.000000\n",
       "17  2019년      시도  876.000000   17.000000  1629.000000\n",
       "18  2019년      군도  116.000000    8.000000   184.000000\n",
       "19  2019년    고속국도  147.000000   20.000000   296.000000\n",
       "20  2019년      기타  125.000000    2.000000   206.000000"
      ]
     },
     "execution_count": 80,
     "metadata": {},
     "output_type": "execute_result"
    }
   ],
   "source": [
    "\n",
    "df = pd.read_csv(\"경찰청_졸음운전 교통사고 현황_20191231.csv\", engine=\"python\",encoding='CP949')\n",
    "df['사고(건)'].mean()\n",
    "# df.replace(np.NaN,df['사고(건)'].mean() )\n",
    "\n",
    "df.fillna(df['사고(건)'].mean())"
   ]
  },
  {
   "cell_type": "code",
   "execution_count": 82,
   "metadata": {
    "ExecuteTime": {
     "end_time": "2021-06-03T07:47:20.611408Z",
     "start_time": "2021-06-03T07:47:20.598384Z"
    }
   },
   "outputs": [],
   "source": [
    "df = pd.read_csv(\"경찰청_졸음운전 교통사고 현황_20191231.csv\", engine=\"python\",encoding='CP949')"
   ]
  },
  {
   "cell_type": "code",
   "execution_count": 84,
   "metadata": {
    "ExecuteTime": {
     "end_time": "2021-06-03T07:53:03.115571Z",
     "start_time": "2021-06-03T07:53:03.088537Z"
    }
   },
   "outputs": [
    {
     "name": "stdout",
     "output_type": "stream",
     "text": [
      "<class 'pandas.core.frame.DataFrame'>\n",
      "RangeIndex: 21 entries, 0 to 20\n",
      "Data columns (total 5 columns):\n",
      " #   Column  Non-Null Count  Dtype  \n",
      "---  ------  --------------  -----  \n",
      " 0   구분      21 non-null     object \n",
      " 1   도로종류    21 non-null     object \n",
      " 2   사고(건)   19 non-null     float64\n",
      " 3   사망(명)   20 non-null     float64\n",
      " 4   부상(명)   19 non-null     float64\n",
      "dtypes: float64(3), object(2)\n",
      "memory usage: 736.0+ bytes\n"
     ]
    }
   ],
   "source": [
    "df.info()"
   ]
  },
  {
   "cell_type": "code",
   "execution_count": 85,
   "metadata": {
    "ExecuteTime": {
     "end_time": "2021-06-03T07:53:50.178574Z",
     "start_time": "2021-06-03T07:53:50.146476Z"
    }
   },
   "outputs": [
    {
     "data": {
      "text/html": [
       "<div>\n",
       "<style scoped>\n",
       "    .dataframe tbody tr th:only-of-type {\n",
       "        vertical-align: middle;\n",
       "    }\n",
       "\n",
       "    .dataframe tbody tr th {\n",
       "        vertical-align: top;\n",
       "    }\n",
       "\n",
       "    .dataframe thead th {\n",
       "        text-align: right;\n",
       "    }\n",
       "</style>\n",
       "<table border=\"1\" class=\"dataframe\">\n",
       "  <thead>\n",
       "    <tr style=\"text-align: right;\">\n",
       "      <th></th>\n",
       "      <th>사고(건)</th>\n",
       "      <th>사망(명)</th>\n",
       "      <th>부상(명)</th>\n",
       "    </tr>\n",
       "  </thead>\n",
       "  <tbody>\n",
       "    <tr>\n",
       "      <th>count</th>\n",
       "      <td>19.000000</td>\n",
       "      <td>20.000000</td>\n",
       "      <td>19.000000</td>\n",
       "    </tr>\n",
       "    <tr>\n",
       "      <th>mean</th>\n",
       "      <td>302.526316</td>\n",
       "      <td>11.400000</td>\n",
       "      <td>553.368421</td>\n",
       "    </tr>\n",
       "    <tr>\n",
       "      <th>std</th>\n",
       "      <td>259.036327</td>\n",
       "      <td>8.286959</td>\n",
       "      <td>481.151998</td>\n",
       "    </tr>\n",
       "    <tr>\n",
       "      <th>min</th>\n",
       "      <td>21.000000</td>\n",
       "      <td>0.000000</td>\n",
       "      <td>41.000000</td>\n",
       "    </tr>\n",
       "    <tr>\n",
       "      <th>25%</th>\n",
       "      <td>110.000000</td>\n",
       "      <td>3.500000</td>\n",
       "      <td>195.000000</td>\n",
       "    </tr>\n",
       "    <tr>\n",
       "      <th>50%</th>\n",
       "      <td>230.000000</td>\n",
       "      <td>11.000000</td>\n",
       "      <td>451.000000</td>\n",
       "    </tr>\n",
       "    <tr>\n",
       "      <th>75%</th>\n",
       "      <td>430.500000</td>\n",
       "      <td>18.000000</td>\n",
       "      <td>704.000000</td>\n",
       "    </tr>\n",
       "    <tr>\n",
       "      <th>max</th>\n",
       "      <td>876.000000</td>\n",
       "      <td>29.000000</td>\n",
       "      <td>1629.000000</td>\n",
       "    </tr>\n",
       "  </tbody>\n",
       "</table>\n",
       "</div>"
      ],
      "text/plain": [
       "            사고(건)      사망(명)        부상(명)\n",
       "count   19.000000  20.000000    19.000000\n",
       "mean   302.526316  11.400000   553.368421\n",
       "std    259.036327   8.286959   481.151998\n",
       "min     21.000000   0.000000    41.000000\n",
       "25%    110.000000   3.500000   195.000000\n",
       "50%    230.000000  11.000000   451.000000\n",
       "75%    430.500000  18.000000   704.000000\n",
       "max    876.000000  29.000000  1629.000000"
      ]
     },
     "execution_count": 85,
     "metadata": {},
     "output_type": "execute_result"
    }
   ],
   "source": [
    "df.describe()"
   ]
  },
  {
   "cell_type": "markdown",
   "metadata": {},
   "source": [
    "##### DataFrame.fillna(self, value=None, method=None, axis=None, inplace=False, limit=None, downcast=None)"
   ]
  },
  {
   "cell_type": "code",
   "execution_count": 86,
   "metadata": {
    "ExecuteTime": {
     "end_time": "2021-06-03T07:58:09.476364Z",
     "start_time": "2021-06-03T07:58:09.452261Z"
    }
   },
   "outputs": [
    {
     "data": {
      "text/html": [
       "<div>\n",
       "<style scoped>\n",
       "    .dataframe tbody tr th:only-of-type {\n",
       "        vertical-align: middle;\n",
       "    }\n",
       "\n",
       "    .dataframe tbody tr th {\n",
       "        vertical-align: top;\n",
       "    }\n",
       "\n",
       "    .dataframe thead th {\n",
       "        text-align: right;\n",
       "    }\n",
       "</style>\n",
       "<table border=\"1\" class=\"dataframe\">\n",
       "  <thead>\n",
       "    <tr style=\"text-align: right;\">\n",
       "      <th></th>\n",
       "      <th>구분</th>\n",
       "      <th>도로종류</th>\n",
       "      <th>사고(건)</th>\n",
       "      <th>사망(명)</th>\n",
       "      <th>부상(명)</th>\n",
       "    </tr>\n",
       "  </thead>\n",
       "  <tbody>\n",
       "    <tr>\n",
       "      <th>0</th>\n",
       "      <td>2017년</td>\n",
       "      <td>일반국도</td>\n",
       "      <td>363.000000</td>\n",
       "      <td>19.0</td>\n",
       "      <td>698.0</td>\n",
       "    </tr>\n",
       "    <tr>\n",
       "      <th>1</th>\n",
       "      <td>2017년</td>\n",
       "      <td>지방도</td>\n",
       "      <td>230.000000</td>\n",
       "      <td>10.0</td>\n",
       "      <td>451.0</td>\n",
       "    </tr>\n",
       "    <tr>\n",
       "      <th>2</th>\n",
       "      <td>2017년</td>\n",
       "      <td>특별광역시도</td>\n",
       "      <td>590.000000</td>\n",
       "      <td>12.0</td>\n",
       "      <td>NaN</td>\n",
       "    </tr>\n",
       "    <tr>\n",
       "      <th>3</th>\n",
       "      <td>2017년</td>\n",
       "      <td>시도</td>\n",
       "      <td>577.000000</td>\n",
       "      <td>11.0</td>\n",
       "      <td>1125.0</td>\n",
       "    </tr>\n",
       "    <tr>\n",
       "      <th>4</th>\n",
       "      <td>2017년</td>\n",
       "      <td>군도</td>\n",
       "      <td>101.000000</td>\n",
       "      <td>NaN</td>\n",
       "      <td>169.0</td>\n",
       "    </tr>\n",
       "    <tr>\n",
       "      <th>5</th>\n",
       "      <td>2017년</td>\n",
       "      <td>고속국도</td>\n",
       "      <td>302.526316</td>\n",
       "      <td>22.0</td>\n",
       "      <td>273.0</td>\n",
       "    </tr>\n",
       "    <tr>\n",
       "      <th>6</th>\n",
       "      <td>2017년</td>\n",
       "      <td>기타</td>\n",
       "      <td>21.000000</td>\n",
       "      <td>0.0</td>\n",
       "      <td>41.0</td>\n",
       "    </tr>\n",
       "    <tr>\n",
       "      <th>7</th>\n",
       "      <td>2018년</td>\n",
       "      <td>일반국도</td>\n",
       "      <td>249.000000</td>\n",
       "      <td>18.0</td>\n",
       "      <td>487.0</td>\n",
       "    </tr>\n",
       "    <tr>\n",
       "      <th>8</th>\n",
       "      <td>2018년</td>\n",
       "      <td>지방도</td>\n",
       "      <td>170.000000</td>\n",
       "      <td>11.0</td>\n",
       "      <td>NaN</td>\n",
       "    </tr>\n",
       "    <tr>\n",
       "      <th>9</th>\n",
       "      <td>2018년</td>\n",
       "      <td>특별광역시도</td>\n",
       "      <td>302.526316</td>\n",
       "      <td>4.0</td>\n",
       "      <td>710.0</td>\n",
       "    </tr>\n",
       "    <tr>\n",
       "      <th>10</th>\n",
       "      <td>2018년</td>\n",
       "      <td>시도</td>\n",
       "      <td>355.000000</td>\n",
       "      <td>2.0</td>\n",
       "      <td>698.0</td>\n",
       "    </tr>\n",
       "    <tr>\n",
       "      <th>11</th>\n",
       "      <td>2018년</td>\n",
       "      <td>군도</td>\n",
       "      <td>71.000000</td>\n",
       "      <td>1.0</td>\n",
       "      <td>115.0</td>\n",
       "    </tr>\n",
       "    <tr>\n",
       "      <th>12</th>\n",
       "      <td>2018년</td>\n",
       "      <td>고속국도</td>\n",
       "      <td>104.000000</td>\n",
       "      <td>16.0</td>\n",
       "      <td>211.0</td>\n",
       "    </tr>\n",
       "    <tr>\n",
       "      <th>13</th>\n",
       "      <td>2018년</td>\n",
       "      <td>기타</td>\n",
       "      <td>30.000000</td>\n",
       "      <td>1.0</td>\n",
       "      <td>76.0</td>\n",
       "    </tr>\n",
       "    <tr>\n",
       "      <th>14</th>\n",
       "      <td>2019년</td>\n",
       "      <td>일반국도</td>\n",
       "      <td>498.000000</td>\n",
       "      <td>29.0</td>\n",
       "      <td>964.0</td>\n",
       "    </tr>\n",
       "    <tr>\n",
       "      <th>15</th>\n",
       "      <td>2019년</td>\n",
       "      <td>지방도</td>\n",
       "      <td>300.000000</td>\n",
       "      <td>18.0</td>\n",
       "      <td>587.0</td>\n",
       "    </tr>\n",
       "    <tr>\n",
       "      <th>16</th>\n",
       "      <td>2019년</td>\n",
       "      <td>특별광역시도</td>\n",
       "      <td>825.000000</td>\n",
       "      <td>7.0</td>\n",
       "      <td>1594.0</td>\n",
       "    </tr>\n",
       "    <tr>\n",
       "      <th>17</th>\n",
       "      <td>2019년</td>\n",
       "      <td>시도</td>\n",
       "      <td>876.000000</td>\n",
       "      <td>17.0</td>\n",
       "      <td>1629.0</td>\n",
       "    </tr>\n",
       "    <tr>\n",
       "      <th>18</th>\n",
       "      <td>2019년</td>\n",
       "      <td>군도</td>\n",
       "      <td>116.000000</td>\n",
       "      <td>8.0</td>\n",
       "      <td>184.0</td>\n",
       "    </tr>\n",
       "    <tr>\n",
       "      <th>19</th>\n",
       "      <td>2019년</td>\n",
       "      <td>고속국도</td>\n",
       "      <td>147.000000</td>\n",
       "      <td>20.0</td>\n",
       "      <td>296.0</td>\n",
       "    </tr>\n",
       "    <tr>\n",
       "      <th>20</th>\n",
       "      <td>2019년</td>\n",
       "      <td>기타</td>\n",
       "      <td>125.000000</td>\n",
       "      <td>2.0</td>\n",
       "      <td>206.0</td>\n",
       "    </tr>\n",
       "  </tbody>\n",
       "</table>\n",
       "</div>"
      ],
      "text/plain": [
       "       구분    도로종류       사고(건)  사망(명)   부상(명)\n",
       "0   2017년    일반국도  363.000000   19.0   698.0\n",
       "1   2017년     지방도  230.000000   10.0   451.0\n",
       "2   2017년  특별광역시도  590.000000   12.0     NaN\n",
       "3   2017년      시도  577.000000   11.0  1125.0\n",
       "4   2017년      군도  101.000000    NaN   169.0\n",
       "5   2017년    고속국도  302.526316   22.0   273.0\n",
       "6   2017년      기타   21.000000    0.0    41.0\n",
       "7   2018년    일반국도  249.000000   18.0   487.0\n",
       "8   2018년     지방도  170.000000   11.0     NaN\n",
       "9   2018년  특별광역시도  302.526316    4.0   710.0\n",
       "10  2018년      시도  355.000000    2.0   698.0\n",
       "11  2018년      군도   71.000000    1.0   115.0\n",
       "12  2018년    고속국도  104.000000   16.0   211.0\n",
       "13  2018년      기타   30.000000    1.0    76.0\n",
       "14  2019년    일반국도  498.000000   29.0   964.0\n",
       "15  2019년     지방도  300.000000   18.0   587.0\n",
       "16  2019년  특별광역시도  825.000000    7.0  1594.0\n",
       "17  2019년      시도  876.000000   17.0  1629.0\n",
       "18  2019년      군도  116.000000    8.0   184.0\n",
       "19  2019년    고속국도  147.000000   20.0   296.0\n",
       "20  2019년      기타  125.000000    2.0   206.0"
      ]
     },
     "execution_count": 86,
     "metadata": {},
     "output_type": "execute_result"
    }
   ],
   "source": [
    "df.fillna({'사고(건)': df['사고(건)'].mean()})"
   ]
  },
  {
   "cell_type": "code",
   "execution_count": 92,
   "metadata": {
    "ExecuteTime": {
     "end_time": "2021-06-03T08:03:24.182883Z",
     "start_time": "2021-06-03T08:03:24.177919Z"
    }
   },
   "outputs": [],
   "source": [
    "df = df.fillna({'사고(건)': df['사고(건)'].mean()})"
   ]
  },
  {
   "cell_type": "code",
   "execution_count": 96,
   "metadata": {
    "ExecuteTime": {
     "end_time": "2021-06-03T08:04:36.589273Z",
     "start_time": "2021-06-03T08:04:36.582034Z"
    }
   },
   "outputs": [
    {
     "data": {
      "text/plain": [
       "0.0"
      ]
     },
     "execution_count": 96,
     "metadata": {},
     "output_type": "execute_result"
    }
   ],
   "source": [
    "df['사망(명)'].min()"
   ]
  },
  {
   "cell_type": "code",
   "execution_count": 97,
   "metadata": {
    "ExecuteTime": {
     "end_time": "2021-06-03T08:04:36.966765Z",
     "start_time": "2021-06-03T08:04:36.944252Z"
    }
   },
   "outputs": [
    {
     "data": {
      "text/html": [
       "<div>\n",
       "<style scoped>\n",
       "    .dataframe tbody tr th:only-of-type {\n",
       "        vertical-align: middle;\n",
       "    }\n",
       "\n",
       "    .dataframe tbody tr th {\n",
       "        vertical-align: top;\n",
       "    }\n",
       "\n",
       "    .dataframe thead th {\n",
       "        text-align: right;\n",
       "    }\n",
       "</style>\n",
       "<table border=\"1\" class=\"dataframe\">\n",
       "  <thead>\n",
       "    <tr style=\"text-align: right;\">\n",
       "      <th></th>\n",
       "      <th>구분</th>\n",
       "      <th>도로종류</th>\n",
       "      <th>사고(건)</th>\n",
       "      <th>사망(명)</th>\n",
       "      <th>부상(명)</th>\n",
       "    </tr>\n",
       "  </thead>\n",
       "  <tbody>\n",
       "    <tr>\n",
       "      <th>0</th>\n",
       "      <td>2017년</td>\n",
       "      <td>일반국도</td>\n",
       "      <td>363.000000</td>\n",
       "      <td>19.0</td>\n",
       "      <td>698.0</td>\n",
       "    </tr>\n",
       "    <tr>\n",
       "      <th>1</th>\n",
       "      <td>2017년</td>\n",
       "      <td>지방도</td>\n",
       "      <td>230.000000</td>\n",
       "      <td>10.0</td>\n",
       "      <td>451.0</td>\n",
       "    </tr>\n",
       "    <tr>\n",
       "      <th>2</th>\n",
       "      <td>2017년</td>\n",
       "      <td>특별광역시도</td>\n",
       "      <td>590.000000</td>\n",
       "      <td>12.0</td>\n",
       "      <td>41.0</td>\n",
       "    </tr>\n",
       "    <tr>\n",
       "      <th>3</th>\n",
       "      <td>2017년</td>\n",
       "      <td>시도</td>\n",
       "      <td>577.000000</td>\n",
       "      <td>11.0</td>\n",
       "      <td>1125.0</td>\n",
       "    </tr>\n",
       "    <tr>\n",
       "      <th>4</th>\n",
       "      <td>2017년</td>\n",
       "      <td>군도</td>\n",
       "      <td>101.000000</td>\n",
       "      <td>0.0</td>\n",
       "      <td>169.0</td>\n",
       "    </tr>\n",
       "    <tr>\n",
       "      <th>5</th>\n",
       "      <td>2017년</td>\n",
       "      <td>고속국도</td>\n",
       "      <td>302.526316</td>\n",
       "      <td>22.0</td>\n",
       "      <td>273.0</td>\n",
       "    </tr>\n",
       "    <tr>\n",
       "      <th>6</th>\n",
       "      <td>2017년</td>\n",
       "      <td>기타</td>\n",
       "      <td>21.000000</td>\n",
       "      <td>0.0</td>\n",
       "      <td>41.0</td>\n",
       "    </tr>\n",
       "    <tr>\n",
       "      <th>7</th>\n",
       "      <td>2018년</td>\n",
       "      <td>일반국도</td>\n",
       "      <td>249.000000</td>\n",
       "      <td>18.0</td>\n",
       "      <td>487.0</td>\n",
       "    </tr>\n",
       "    <tr>\n",
       "      <th>8</th>\n",
       "      <td>2018년</td>\n",
       "      <td>지방도</td>\n",
       "      <td>170.000000</td>\n",
       "      <td>11.0</td>\n",
       "      <td>41.0</td>\n",
       "    </tr>\n",
       "    <tr>\n",
       "      <th>9</th>\n",
       "      <td>2018년</td>\n",
       "      <td>특별광역시도</td>\n",
       "      <td>302.526316</td>\n",
       "      <td>4.0</td>\n",
       "      <td>710.0</td>\n",
       "    </tr>\n",
       "    <tr>\n",
       "      <th>10</th>\n",
       "      <td>2018년</td>\n",
       "      <td>시도</td>\n",
       "      <td>355.000000</td>\n",
       "      <td>2.0</td>\n",
       "      <td>698.0</td>\n",
       "    </tr>\n",
       "    <tr>\n",
       "      <th>11</th>\n",
       "      <td>2018년</td>\n",
       "      <td>군도</td>\n",
       "      <td>71.000000</td>\n",
       "      <td>1.0</td>\n",
       "      <td>115.0</td>\n",
       "    </tr>\n",
       "    <tr>\n",
       "      <th>12</th>\n",
       "      <td>2018년</td>\n",
       "      <td>고속국도</td>\n",
       "      <td>104.000000</td>\n",
       "      <td>16.0</td>\n",
       "      <td>211.0</td>\n",
       "    </tr>\n",
       "    <tr>\n",
       "      <th>13</th>\n",
       "      <td>2018년</td>\n",
       "      <td>기타</td>\n",
       "      <td>30.000000</td>\n",
       "      <td>1.0</td>\n",
       "      <td>76.0</td>\n",
       "    </tr>\n",
       "    <tr>\n",
       "      <th>14</th>\n",
       "      <td>2019년</td>\n",
       "      <td>일반국도</td>\n",
       "      <td>498.000000</td>\n",
       "      <td>29.0</td>\n",
       "      <td>964.0</td>\n",
       "    </tr>\n",
       "    <tr>\n",
       "      <th>15</th>\n",
       "      <td>2019년</td>\n",
       "      <td>지방도</td>\n",
       "      <td>300.000000</td>\n",
       "      <td>18.0</td>\n",
       "      <td>587.0</td>\n",
       "    </tr>\n",
       "    <tr>\n",
       "      <th>16</th>\n",
       "      <td>2019년</td>\n",
       "      <td>특별광역시도</td>\n",
       "      <td>825.000000</td>\n",
       "      <td>7.0</td>\n",
       "      <td>1594.0</td>\n",
       "    </tr>\n",
       "    <tr>\n",
       "      <th>17</th>\n",
       "      <td>2019년</td>\n",
       "      <td>시도</td>\n",
       "      <td>876.000000</td>\n",
       "      <td>17.0</td>\n",
       "      <td>1629.0</td>\n",
       "    </tr>\n",
       "    <tr>\n",
       "      <th>18</th>\n",
       "      <td>2019년</td>\n",
       "      <td>군도</td>\n",
       "      <td>116.000000</td>\n",
       "      <td>8.0</td>\n",
       "      <td>184.0</td>\n",
       "    </tr>\n",
       "    <tr>\n",
       "      <th>19</th>\n",
       "      <td>2019년</td>\n",
       "      <td>고속국도</td>\n",
       "      <td>147.000000</td>\n",
       "      <td>20.0</td>\n",
       "      <td>296.0</td>\n",
       "    </tr>\n",
       "    <tr>\n",
       "      <th>20</th>\n",
       "      <td>2019년</td>\n",
       "      <td>기타</td>\n",
       "      <td>125.000000</td>\n",
       "      <td>2.0</td>\n",
       "      <td>206.0</td>\n",
       "    </tr>\n",
       "  </tbody>\n",
       "</table>\n",
       "</div>"
      ],
      "text/plain": [
       "       구분    도로종류       사고(건)  사망(명)   부상(명)\n",
       "0   2017년    일반국도  363.000000   19.0   698.0\n",
       "1   2017년     지방도  230.000000   10.0   451.0\n",
       "2   2017년  특별광역시도  590.000000   12.0    41.0\n",
       "3   2017년      시도  577.000000   11.0  1125.0\n",
       "4   2017년      군도  101.000000    0.0   169.0\n",
       "5   2017년    고속국도  302.526316   22.0   273.0\n",
       "6   2017년      기타   21.000000    0.0    41.0\n",
       "7   2018년    일반국도  249.000000   18.0   487.0\n",
       "8   2018년     지방도  170.000000   11.0    41.0\n",
       "9   2018년  특별광역시도  302.526316    4.0   710.0\n",
       "10  2018년      시도  355.000000    2.0   698.0\n",
       "11  2018년      군도   71.000000    1.0   115.0\n",
       "12  2018년    고속국도  104.000000   16.0   211.0\n",
       "13  2018년      기타   30.000000    1.0    76.0\n",
       "14  2019년    일반국도  498.000000   29.0   964.0\n",
       "15  2019년     지방도  300.000000   18.0   587.0\n",
       "16  2019년  특별광역시도  825.000000    7.0  1594.0\n",
       "17  2019년      시도  876.000000   17.0  1629.0\n",
       "18  2019년      군도  116.000000    8.0   184.0\n",
       "19  2019년    고속국도  147.000000   20.0   296.0\n",
       "20  2019년      기타  125.000000    2.0   206.0"
      ]
     },
     "execution_count": 97,
     "metadata": {},
     "output_type": "execute_result"
    }
   ],
   "source": [
    "df.fillna({'사망(명)': df['사망(명)'].min(),'부상(명)':df['부상(명)'].min() })"
   ]
  },
  {
   "cell_type": "code",
   "execution_count": 90,
   "metadata": {
    "ExecuteTime": {
     "end_time": "2021-06-03T08:00:16.887331Z",
     "start_time": "2021-06-03T08:00:16.878303Z"
    }
   },
   "outputs": [
    {
     "data": {
      "text/plain": [
       "41.0"
      ]
     },
     "execution_count": 90,
     "metadata": {},
     "output_type": "execute_result"
    }
   ],
   "source": [
    "df['부상(명)'].min()"
   ]
  },
  {
   "cell_type": "code",
   "execution_count": null,
   "metadata": {},
   "outputs": [],
   "source": []
  }
 ],
 "metadata": {
  "hide_input": false,
  "kernelspec": {
   "display_name": "Python 3",
   "language": "python",
   "name": "python3"
  },
  "language_info": {
   "codemirror_mode": {
    "name": "ipython",
    "version": 3
   },
   "file_extension": ".py",
   "mimetype": "text/x-python",
   "name": "python",
   "nbconvert_exporter": "python",
   "pygments_lexer": "ipython3",
   "version": "3.8.5"
  },
  "toc": {
   "base_numbering": 1,
   "nav_menu": {},
   "number_sections": true,
   "sideBar": true,
   "skip_h1_title": false,
   "title_cell": "Table of Contents",
   "title_sidebar": "Contents",
   "toc_cell": false,
   "toc_position": {},
   "toc_section_display": true,
   "toc_window_display": false
  },
  "varInspector": {
   "cols": {
    "lenName": 16,
    "lenType": 16,
    "lenVar": 40
   },
   "kernels_config": {
    "python": {
     "delete_cmd_postfix": "",
     "delete_cmd_prefix": "del ",
     "library": "var_list.py",
     "varRefreshCmd": "print(var_dic_list())"
    },
    "r": {
     "delete_cmd_postfix": ") ",
     "delete_cmd_prefix": "rm(",
     "library": "var_list.r",
     "varRefreshCmd": "cat(var_dic_list()) "
    }
   },
   "types_to_exclude": [
    "module",
    "function",
    "builtin_function_or_method",
    "instance",
    "_Feature"
   ],
   "window_display": false
  }
 },
 "nbformat": 4,
 "nbformat_minor": 4
}
