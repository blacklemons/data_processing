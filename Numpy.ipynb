{
 "cells": [
  {
   "cell_type": "markdown",
   "id": "6cdfca58",
   "metadata": {},
   "source": [
    "### Numpy\n",
    "* n차원 배열의 객체\n",
    "* 이산수학과 무작위 수 생성 등 수많은 작업을 할 수 있는 기능 제공\n",
    "* 벡터와 행렬ㄹ을 위한 특수한 배열 형식 제공\n",
    "* 생성될 때 크기가 정해짐\n",
    "* 텐서플로우와 잘 어울림"
   ]
  },
  {
   "cell_type": "markdown",
   "id": "f1f0d170",
   "metadata": {},
   "source": [
    "#### zeros() & mean()"
   ]
  },
  {
   "cell_type": "code",
   "execution_count": 1,
   "id": "f65c3c55",
   "metadata": {
    "ExecuteTime": {
     "end_time": "2021-06-03T02:40:57.489214Z",
     "start_time": "2021-06-03T02:40:57.350309Z"
    }
   },
   "outputs": [],
   "source": [
    "import numpy as np"
   ]
  },
  {
   "cell_type": "code",
   "execution_count": 2,
   "id": "fd152a2d",
   "metadata": {
    "ExecuteTime": {
     "end_time": "2021-06-03T02:40:57.498209Z",
     "start_time": "2021-06-03T02:40:57.490213Z"
    }
   },
   "outputs": [
    {
     "name": "stdout",
     "output_type": "stream",
     "text": [
      "[1. 1. 1. 1. 1. 1. 1. 1. 1. 1.]\n"
     ]
    }
   ],
   "source": [
    "# 인자로 전달받은 숫자만큼 0인 원소를 가진 배열 생성\n",
    "x = np.array([1,2,3,4])\n",
    "y = np.array([2,3,4,5])\n",
    "w = np.zeros([3,4,2])\n",
    "z = np.ones(10)\n",
    "print(z)"
   ]
  },
  {
   "cell_type": "code",
   "execution_count": 3,
   "id": "c4e1dfe5",
   "metadata": {
    "ExecuteTime": {
     "end_time": "2021-06-03T02:40:57.512201Z",
     "start_time": "2021-06-03T02:40:57.500208Z"
    }
   },
   "outputs": [],
   "source": [
    "x = [5,10,15,20]"
   ]
  },
  {
   "cell_type": "code",
   "execution_count": 4,
   "id": "a31119a1",
   "metadata": {
    "ExecuteTime": {
     "end_time": "2021-06-03T02:40:57.537187Z",
     "start_time": "2021-06-03T02:40:57.514200Z"
    }
   },
   "outputs": [
    {
     "data": {
      "text/plain": [
       "array([10., 10., 10., 10., 10., 10., 10., 10., 10., 10.])"
      ]
     },
     "execution_count": 4,
     "metadata": {},
     "output_type": "execute_result"
    }
   ],
   "source": [
    "z = z*10\n",
    "z"
   ]
  },
  {
   "cell_type": "code",
   "execution_count": 5,
   "id": "f73c4ec2",
   "metadata": {
    "ExecuteTime": {
     "end_time": "2021-06-03T02:40:57.544184Z",
     "start_time": "2021-06-03T02:40:57.539186Z"
    },
    "scrolled": true
   },
   "outputs": [
    {
     "name": "stdout",
     "output_type": "stream",
     "text": [
      "12.5\n"
     ]
    }
   ],
   "source": [
    "arr = np.array(x)\n",
    "print(arr.mean())"
   ]
  },
  {
   "cell_type": "code",
   "execution_count": 6,
   "id": "764844ce",
   "metadata": {
    "ExecuteTime": {
     "end_time": "2021-06-03T02:40:57.561174Z",
     "start_time": "2021-06-03T02:40:57.546182Z"
    }
   },
   "outputs": [
    {
     "data": {
      "text/plain": [
       "(4,)"
      ]
     },
     "execution_count": 6,
     "metadata": {},
     "output_type": "execute_result"
    }
   ],
   "source": [
    "arr.shape"
   ]
  },
  {
   "cell_type": "markdown",
   "id": "244b395b",
   "metadata": {},
   "source": [
    "#### reshape"
   ]
  },
  {
   "cell_type": "code",
   "execution_count": 7,
   "id": "580f0580",
   "metadata": {
    "ExecuteTime": {
     "end_time": "2021-06-03T02:40:57.582161Z",
     "start_time": "2021-06-03T02:40:57.566172Z"
    }
   },
   "outputs": [
    {
     "name": "stdout",
     "output_type": "stream",
     "text": [
      "[ 1  2  3  4  5  6  7  8  9 10]\n"
     ]
    },
    {
     "data": {
      "text/plain": [
       "array([[ 1,  2,  3,  4,  5],\n",
       "       [ 6,  7,  8,  9, 10]])"
      ]
     },
     "execution_count": 7,
     "metadata": {},
     "output_type": "execute_result"
    }
   ],
   "source": [
    "x = range(1,11)\n",
    "arr = np.array(x)\n",
    "print(arr)\n",
    "arr.reshape(2,5)"
   ]
  },
  {
   "cell_type": "code",
   "execution_count": 8,
   "id": "23f8cfa0",
   "metadata": {
    "ExecuteTime": {
     "end_time": "2021-06-03T02:40:57.601150Z",
     "start_time": "2021-06-03T02:40:57.584160Z"
    }
   },
   "outputs": [
    {
     "data": {
      "text/plain": [
       "array([[5., 5., 5., 5.],\n",
       "       [5., 5., 5., 5.],\n",
       "       [5., 5., 5., 5.]])"
      ]
     },
     "execution_count": 8,
     "metadata": {},
     "output_type": "execute_result"
    }
   ],
   "source": [
    "x = np.ones(12)*5\n",
    "x = x.reshape(3,4)\n",
    "x"
   ]
  },
  {
   "cell_type": "markdown",
   "id": "55b1ddf5",
   "metadata": {},
   "source": [
    "### numpy 배열의 슬라이싱"
   ]
  },
  {
   "cell_type": "code",
   "execution_count": 9,
   "id": "3ba61c42",
   "metadata": {
    "ExecuteTime": {
     "end_time": "2021-06-03T02:40:57.616142Z",
     "start_time": "2021-06-03T02:40:57.603149Z"
    }
   },
   "outputs": [
    {
     "data": {
      "text/plain": [
       "array([[ 1,  2,  3,  4],\n",
       "       [ 5,  6,  7,  8],\n",
       "       [ 9, 10, 11, 12]])"
      ]
     },
     "execution_count": 9,
     "metadata": {},
     "output_type": "execute_result"
    }
   ],
   "source": [
    "x = range(1,13)\n",
    "x = np.array(x)\n",
    "y = x.reshape(3,4)\n",
    "y"
   ]
  },
  {
   "cell_type": "code",
   "execution_count": 10,
   "id": "59bf5544",
   "metadata": {
    "ExecuteTime": {
     "end_time": "2021-06-03T02:40:57.626136Z",
     "start_time": "2021-06-03T02:40:57.619140Z"
    }
   },
   "outputs": [
    {
     "data": {
      "text/plain": [
       "array([ 2,  6, 10])"
      ]
     },
     "execution_count": 10,
     "metadata": {},
     "output_type": "execute_result"
    }
   ],
   "source": [
    "# y의 모든 행의 2열 원소들만 추출\n",
    "y[:,1]"
   ]
  },
  {
   "cell_type": "code",
   "execution_count": 11,
   "id": "7df46d0b",
   "metadata": {
    "ExecuteTime": {
     "end_time": "2021-06-03T02:40:57.634132Z",
     "start_time": "2021-06-03T02:40:57.628135Z"
    }
   },
   "outputs": [
    {
     "data": {
      "text/plain": [
       "array([ 7, 11])"
      ]
     },
     "execution_count": 11,
     "metadata": {},
     "output_type": "execute_result"
    }
   ],
   "source": [
    "# y의 2~3행까지의 3열의 원소들만 추출\n",
    "y[1:3,2]"
   ]
  },
  {
   "cell_type": "code",
   "execution_count": 12,
   "id": "9d39da26",
   "metadata": {
    "ExecuteTime": {
     "end_time": "2021-06-03T02:40:57.648123Z",
     "start_time": "2021-06-03T02:40:57.636130Z"
    }
   },
   "outputs": [
    {
     "data": {
      "text/plain": [
       "array([5, 6, 7, 8])"
      ]
     },
     "execution_count": 12,
     "metadata": {},
     "output_type": "execute_result"
    }
   ],
   "source": [
    "# y의 2행의 모든 열 추출\n",
    "y[1,:]"
   ]
  },
  {
   "cell_type": "code",
   "execution_count": 13,
   "id": "96b7815d",
   "metadata": {
    "ExecuteTime": {
     "end_time": "2021-06-03T02:40:57.663115Z",
     "start_time": "2021-06-03T02:40:57.650122Z"
    }
   },
   "outputs": [
    {
     "data": {
      "text/plain": [
       "4.0"
      ]
     },
     "execution_count": 13,
     "metadata": {},
     "output_type": "execute_result"
    }
   ],
   "source": [
    "import math\n",
    "math.sqrt(16)"
   ]
  },
  {
   "cell_type": "code",
   "execution_count": 14,
   "id": "5698aa6b",
   "metadata": {
    "ExecuteTime": {
     "end_time": "2021-06-03T02:40:57.679106Z",
     "start_time": "2021-06-03T02:40:57.665114Z"
    }
   },
   "outputs": [
    {
     "data": {
      "text/plain": [
       "array([1.        , 1.41421356, 1.73205081, 2.        , 2.23606798,\n",
       "       2.44948974, 2.64575131, 2.82842712, 3.        , 3.16227766,\n",
       "       3.31662479, 3.46410162])"
      ]
     },
     "execution_count": 14,
     "metadata": {},
     "output_type": "execute_result"
    }
   ],
   "source": [
    "np.sqrt(x)"
   ]
  },
  {
   "cell_type": "markdown",
   "id": "a03dc42b",
   "metadata": {},
   "source": [
    "#### 전치행렬 transpose()"
   ]
  },
  {
   "cell_type": "code",
   "execution_count": 15,
   "id": "4e898881",
   "metadata": {
    "ExecuteTime": {
     "end_time": "2021-06-03T02:40:57.689100Z",
     "start_time": "2021-06-03T02:40:57.680105Z"
    }
   },
   "outputs": [
    {
     "name": "stdout",
     "output_type": "stream",
     "text": [
      "[[ 1  2  3  4]\n",
      " [ 5  6  7  8]\n",
      " [ 9 10 11 12]]\n"
     ]
    },
    {
     "data": {
      "text/plain": [
       "array([[ 1,  5,  9],\n",
       "       [ 2,  6, 10],\n",
       "       [ 3,  7, 11],\n",
       "       [ 4,  8, 12]])"
      ]
     },
     "execution_count": 15,
     "metadata": {},
     "output_type": "execute_result"
    }
   ],
   "source": [
    "x = np.array(range(1,13))\n",
    "x = x.reshape(3,4)\n",
    "print(x)\n",
    "x.transpose()"
   ]
  },
  {
   "cell_type": "markdown",
   "id": "a38e98a6",
   "metadata": {},
   "source": [
    "#### 배열의 연산"
   ]
  },
  {
   "cell_type": "code",
   "execution_count": 16,
   "id": "25d5fe3f",
   "metadata": {
    "ExecuteTime": {
     "end_time": "2021-06-03T02:40:57.704091Z",
     "start_time": "2021-06-03T02:40:57.691099Z"
    }
   },
   "outputs": [
    {
     "data": {
      "text/plain": [
       "array([[ 6,  7,  8,  9, 10, 11],\n",
       "       [12, 13, 14, 15, 16, 17]])"
      ]
     },
     "execution_count": 16,
     "metadata": {},
     "output_type": "execute_result"
    }
   ],
   "source": [
    "x = np.array(range(1,13))\n",
    "y = x.reshape(2,6)\n",
    "z = y*4\n",
    "y+5"
   ]
  },
  {
   "cell_type": "code",
   "execution_count": 17,
   "id": "553d94d0",
   "metadata": {
    "ExecuteTime": {
     "end_time": "2021-06-03T02:40:57.716084Z",
     "start_time": "2021-06-03T02:40:57.706090Z"
    }
   },
   "outputs": [
    {
     "data": {
      "text/plain": [
       "array([[0.        , 0.30103   , 0.47712125, 0.60205999, 0.69897   ,\n",
       "        0.77815125],\n",
       "       [0.84509804, 0.90308999, 0.95424251, 1.        , 1.04139269,\n",
       "        1.07918125]])"
      ]
     },
     "execution_count": 17,
     "metadata": {},
     "output_type": "execute_result"
    }
   ],
   "source": [
    "np.log10(y)"
   ]
  },
  {
   "cell_type": "code",
   "execution_count": 18,
   "id": "588eb22e",
   "metadata": {
    "ExecuteTime": {
     "end_time": "2021-06-03T02:40:57.726078Z",
     "start_time": "2021-06-03T02:40:57.718083Z"
    }
   },
   "outputs": [
    {
     "data": {
      "text/plain": [
       "(array([[ 1,  2,  3,  4,  5,  6],\n",
       "        [ 7,  8,  9, 10, 11, 12]]),\n",
       " array([[ 4,  8, 12, 16, 20, 24],\n",
       "        [28, 32, 36, 40, 44, 48]]))"
      ]
     },
     "execution_count": 18,
     "metadata": {},
     "output_type": "execute_result"
    }
   ],
   "source": [
    "y,z"
   ]
  },
  {
   "cell_type": "code",
   "execution_count": 19,
   "id": "27f06c94",
   "metadata": {
    "ExecuteTime": {
     "end_time": "2021-06-03T02:40:57.740070Z",
     "start_time": "2021-06-03T02:40:57.728077Z"
    }
   },
   "outputs": [
    {
     "data": {
      "text/plain": [
       "array([ 48, 360])"
      ]
     },
     "execution_count": 19,
     "metadata": {},
     "output_type": "execute_result"
    }
   ],
   "source": [
    "y[:,2] * z[:,3]"
   ]
  },
  {
   "cell_type": "markdown",
   "id": "65e4ced9",
   "metadata": {},
   "source": [
    "#### bool 행 리턴"
   ]
  },
  {
   "cell_type": "code",
   "execution_count": 20,
   "id": "c9d817b6",
   "metadata": {
    "ExecuteTime": {
     "end_time": "2021-06-03T02:40:57.749065Z",
     "start_time": "2021-06-03T02:40:57.742069Z"
    }
   },
   "outputs": [
    {
     "data": {
      "text/plain": [
       "array([[False, False, False, False, False,  True],\n",
       "       [ True,  True,  True,  True,  True,  True]])"
      ]
     },
     "execution_count": 20,
     "metadata": {},
     "output_type": "execute_result"
    }
   ],
   "source": [
    "y>5"
   ]
  },
  {
   "cell_type": "markdown",
   "id": "b9088a70",
   "metadata": {},
   "source": [
    "■ **Table of Contents**\n",
    "\n",
    "\n",
    "- [random.rand()](https://codetorial.net/numpy/random.html#random-rand)\n",
    "- [random.randint()](https://codetorial.net/numpy/random.html#random-randint)\n",
    "- [random.randn()](https://codetorial.net/numpy/random.html#random-randn)\n",
    "- [random.standard_normal()](https://codetorial.net/numpy/random.html#random-standard-normal)\n",
    "- [random.normal()](https://codetorial.net/numpy/random.html#random-normal)\n",
    "- [random.random_sample()](https://codetorial.net/numpy/random.html#random-random-sample)\n",
    "- [random.choice()](https://codetorial.net/numpy/random.html#random-choice)\n",
    "- [random.seed()](https://codetorial.net/numpy/random.html#random-seed)"
   ]
  },
  {
   "cell_type": "markdown",
   "id": "dbeaf8f7",
   "metadata": {},
   "source": [
    "#### random.rand()\n",
    "주어진 형태의 난수 어레이 생성"
   ]
  },
  {
   "cell_type": "code",
   "execution_count": 21,
   "id": "bd74b8d3",
   "metadata": {
    "ExecuteTime": {
     "end_time": "2021-06-03T02:40:57.761059Z",
     "start_time": "2021-06-03T02:40:57.751064Z"
    }
   },
   "outputs": [
    {
     "name": "stdout",
     "output_type": "stream",
     "text": [
      "[0.18606573 0.88988656 0.11827019 0.57962028 0.80771201]\n",
      "[[0.632218   0.30504175 0.03572822]\n",
      " [0.16460435 0.54566155 0.36021024]]\n"
     ]
    }
   ],
   "source": [
    "import numpy as np\n",
    "\n",
    "a = np.random.rand(5)\n",
    "print(a)\n",
    "\n",
    "b = np.random.rand(2, 3)\n",
    "print(b)"
   ]
  },
  {
   "cell_type": "code",
   "execution_count": 22,
   "id": "f80686b2",
   "metadata": {
    "ExecuteTime": {
     "end_time": "2021-06-03T02:40:58.964945Z",
     "start_time": "2021-06-03T02:40:57.763057Z"
    }
   },
   "outputs": [
    {
     "name": "stdout",
     "output_type": "stream",
     "text": [
      "Requirement already satisfied: matplotlib in c:\\users\\user\\appdata\\local\\programs\\python\\python37\\lib\\site-packages (3.4.2)\n",
      "Requirement already satisfied: numpy>=1.16 in c:\\users\\user\\appdata\\local\\programs\\python\\python37\\lib\\site-packages (from matplotlib) (1.20.3)\n",
      "Requirement already satisfied: pillow>=6.2.0 in c:\\users\\user\\appdata\\local\\programs\\python\\python37\\lib\\site-packages (from matplotlib) (8.2.0)\n",
      "Requirement already satisfied: pyparsing>=2.2.1 in c:\\users\\user\\appdata\\local\\programs\\python\\python37\\lib\\site-packages (from matplotlib) (2.4.7)\n",
      "Requirement already satisfied: cycler>=0.10 in c:\\users\\user\\appdata\\local\\programs\\python\\python37\\lib\\site-packages (from matplotlib) (0.10.0)\n",
      "Requirement already satisfied: python-dateutil>=2.7 in c:\\users\\user\\appdata\\local\\programs\\python\\python37\\lib\\site-packages (from matplotlib) (2.8.1)\n",
      "Requirement already satisfied: kiwisolver>=1.0.1 in c:\\users\\user\\appdata\\local\\programs\\python\\python37\\lib\\site-packages (from matplotlib) (1.3.1)\n",
      "Requirement already satisfied: six in c:\\users\\user\\appdata\\local\\programs\\python\\python37\\lib\\site-packages (from cycler>=0.10->matplotlib) (1.16.0)\n"
     ]
    },
    {
     "name": "stderr",
     "output_type": "stream",
     "text": [
      "WARNING: You are using pip version 20.1.1; however, version 21.1.2 is available.\n",
      "You should consider upgrading via the 'c:\\users\\user\\appdata\\local\\programs\\python\\python37\\python.exe -m pip install --upgrade pip' command.\n"
     ]
    }
   ],
   "source": [
    "!pip install matplotlib"
   ]
  },
  {
   "cell_type": "code",
   "execution_count": 23,
   "id": "88c71ea4",
   "metadata": {
    "ExecuteTime": {
     "end_time": "2021-06-03T02:40:59.456313Z",
     "start_time": "2021-06-03T02:40:58.966945Z"
    }
   },
   "outputs": [
    {
     "data": {
      "image/png": "[encoded data removed]",
      "text/plain": [
       "<Figure size 600x300 with 1 Axes>"
      ]
     },
     "metadata": {},
     "output_type": "display_data"
    }
   ],
   "source": [
    "import numpy as np\n",
    "import matplotlib.pyplot as plt\n",
    "\n",
    "np.random.seed(0)\n",
    "\n",
    "plt.style.use('default')\n",
    "plt.rcParams['figure.figsize'] = (6, 3)\n",
    "plt.rcParams['font.size'] = 12\n",
    "\n",
    "a = np.random.rand(1000)\n",
    "b = np.random.rand(10000)\n",
    "c = np.random.rand(100000)\n",
    "\n",
    "plt.hist(a, bins=100, density=True, alpha=0.5, histtype='step', label='n=1000')\n",
    "plt.hist(b, bins=100, density=True, alpha=0.75, histtype='step', label='n=10000')\n",
    "plt.hist(c, bins=100, density=True, alpha=1.0, histtype='step', label='n=100000')\n",
    "\n",
    "plt.ylim(0, 2.5)\n",
    "plt.legend()\n",
    "plt.show()"
   ]
  },
  {
   "cell_type": "markdown",
   "id": "c5adbe5f",
   "metadata": {},
   "source": [
    "#### random.randint()\n",
    "[최소값, 최대값)의 범위에서 임의의 정수  생성"
   ]
  },
  {
   "cell_type": "code",
   "execution_count": 24,
   "id": "a0fdbd05",
   "metadata": {
    "ExecuteTime": {
     "end_time": "2021-06-03T02:40:59.463312Z",
     "start_time": "2021-06-03T02:40:59.457313Z"
    }
   },
   "outputs": [
    {
     "name": "stdout",
     "output_type": "stream",
     "text": [
      "[0 1 0 0 0]\n",
      "[3 2 2 3 2]\n",
      "[[1 1 4]\n",
      " [3 2 2]]\n"
     ]
    }
   ],
   "source": [
    "import numpy as np\n",
    "\n",
    "a = np.random.randint(2, size=5)\n",
    "print(a)\n",
    "\n",
    "b = np.random.randint(2, 4, size=5)\n",
    "print(b)\n",
    "\n",
    "c = np.random.randint(1, 5, size=(2, 3))\n",
    "print(c)"
   ]
  },
  {
   "cell_type": "code",
   "execution_count": 25,
   "id": "80bce971",
   "metadata": {
    "ExecuteTime": {
     "end_time": "2021-06-03T02:40:59.628230Z",
     "start_time": "2021-06-03T02:40:59.468306Z"
    }
   },
   "outputs": [
    {
     "data": {
      "image/png": "[encoded data removed]",
      "text/plain": [
       "<Figure size 600x300 with 1 Axes>"
      ]
     },
     "metadata": {},
     "output_type": "display_data"
    }
   ],
   "source": [
    "import numpy as np\n",
    "import matplotlib.pyplot as plt\n",
    "\n",
    "plt.style.use('default')\n",
    "plt.rcParams['figure.figsize'] = (6, 3)\n",
    "plt.rcParams['font.size'] = 12\n",
    "\n",
    "a = np.random.randint(0, 10, 1000)\n",
    "b = np.random.randint(10, 20, 1000)\n",
    "c = np.random.randint(0, 20, 1000)\n",
    "\n",
    "plt.hist(a, bins=100, density=False, alpha=0.5, histtype='step', label='0<=randint<10')\n",
    "plt.hist(b, bins=100, density=False, alpha=0.75, histtype='step', label='10<=randint<20')\n",
    "plt.hist(c, bins=100, density=False, alpha=1.0, histtype='step', label='0<=randint<20')\n",
    "\n",
    "plt.ylim(0, 150)\n",
    "plt.legend()\n",
    "plt.show()"
   ]
  },
  {
   "cell_type": "markdown",
   "id": "0b50997c",
   "metadata": {},
   "source": [
    "#### random.randn()\n",
    "표준정규분포 (Standard normal distribution)로부터 샘플링된 난수 반환"
   ]
  },
  {
   "cell_type": "code",
   "execution_count": 26,
   "id": "e5e48887",
   "metadata": {
    "ExecuteTime": {
     "end_time": "2021-06-03T02:40:59.636212Z",
     "start_time": "2021-06-03T02:40:59.631214Z"
    }
   },
   "outputs": [
    {
     "name": "stdout",
     "output_type": "stream",
     "text": [
      "[ 0.43075653 -0.78224004 -0.45398923 -0.56457135  0.79164047]\n",
      "[[-1.27341733  1.19324491 -0.32626419]\n",
      " [ 0.13612601  0.45243423  1.8424293 ]]\n",
      "[2.40199242 0.92639855 3.48471483 2.70587425 1.22641451]\n"
     ]
    }
   ],
   "source": [
    "import numpy as np\n",
    "\n",
    "a = np.random.randn(5)\n",
    "print(a)\n",
    "\n",
    "b = np.random.randn(2, 3)\n",
    "print(b)\n",
    "\n",
    "sigma, mu = 1.5, 2.0\n",
    "\n",
    "c = sigma * np.random.randn(5) + mu\n",
    "print(c)"
   ]
  },
  {
   "cell_type": "code",
   "execution_count": 27,
   "id": "fd586412",
   "metadata": {
    "ExecuteTime": {
     "end_time": "2021-06-03T02:40:59.811127Z",
     "start_time": "2021-06-03T02:40:59.638210Z"
    }
   },
   "outputs": [
    {
     "data": {
      "image/png": "[encoded data removed]",
      "text/plain": [
       "<Figure size 600x300 with 1 Axes>"
      ]
     },
     "metadata": {},
     "output_type": "display_data"
    }
   ],
   "source": [
    "import numpy as np\n",
    "import matplotlib.pyplot as plt\n",
    "\n",
    "plt.style.use('default')\n",
    "plt.rcParams['figure.figsize'] = (6, 3)\n",
    "plt.rcParams['font.size'] = 12\n",
    "\n",
    "a = np.random.randn(100000)\n",
    "b = 2 * np.random.randn(100000) - 1\n",
    "c = 4 * np.random.randn(100000) + 2\n",
    "\n",
    "plt.hist(a, bins=100, density=True, alpha=0.5, histtype='step', label='(mean, stddev)=(0, 1)')\n",
    "plt.hist(b, bins=100, density=True, alpha=0.75, histtype='step', label='(mean, stddev)=(-1, 2)')\n",
    "plt.hist(c, bins=100, density=True, alpha=1.0, histtype='step', label='(mean, stddev)=(2, 4)')\n",
    "\n",
    "plt.xlim(-15, 25)\n",
    "plt.legend()\n",
    "plt.show()"
   ]
  },
  {
   "cell_type": "markdown",
   "id": "e256eaf5",
   "metadata": {},
   "source": [
    "#### random.standard_normal()\n",
    "표준정규분포 (Standard normal distribution)로부터 샘플링된 난수 반환\n",
    "\n",
    "randn() 함수와 비슷하지만, 인자로 튜플을 받음"
   ]
  },
  {
   "cell_type": "code",
   "execution_count": 28,
   "id": "a71499c2",
   "metadata": {
    "ExecuteTime": {
     "end_time": "2021-06-03T02:40:59.817110Z",
     "start_time": "2021-06-03T02:40:59.813111Z"
    }
   },
   "outputs": [
    {
     "name": "stdout",
     "output_type": "stream",
     "text": [
      "[-1.44299548  0.65244349 -0.63704008]\n",
      "[[-0.47632374  1.27909461  0.12031377]\n",
      " [ 1.30850174 -0.84003066 -0.76416002]]\n"
     ]
    }
   ],
   "source": [
    "import numpy as np\n",
    "\n",
    "d = np.random.standard_normal(3)\n",
    "print(d)\n",
    "\n",
    "e = np.random.standard_normal((2, 3))\n",
    "print(e)"
   ]
  },
  {
   "cell_type": "code",
   "execution_count": 29,
   "id": "a240bd49",
   "metadata": {
    "ExecuteTime": {
     "end_time": "2021-06-03T02:40:59.986663Z",
     "start_time": "2021-06-03T02:40:59.819109Z"
    }
   },
   "outputs": [
    {
     "data": {
      "image/png": "[encoded data removed]",
      "text/plain": [
       "<Figure size 600x300 with 1 Axes>"
      ]
     },
     "metadata": {},
     "output_type": "display_data"
    }
   ],
   "source": [
    "import numpy as np\n",
    "import matplotlib.pyplot as plt\n",
    "\n",
    "plt.style.use('default')\n",
    "plt.rcParams['figure.figsize'] = (6, 3)\n",
    "plt.rcParams['font.size'] = 12\n",
    "\n",
    "a = np.random.standard_normal(1000)\n",
    "b = np.random.standard_normal(10000)\n",
    "c = np.random.standard_normal(100000)\n",
    "\n",
    "plt.hist(a, bins=100, density=True, alpha=0.5, histtype='step', label='n=1000')\n",
    "plt.hist(b, bins=100, density=True, alpha=0.75, histtype='step', label='n=10000')\n",
    "plt.hist(c, bins=100, density=True, alpha=1.0, histtype='step', label='n=100000')\n",
    "\n",
    "plt.legend()\n",
    "plt.show()"
   ]
  },
  {
   "cell_type": "markdown",
   "id": "33468c91",
   "metadata": {},
   "source": [
    "#### random.normal()\n",
    "정규 분포 (Normal distribution)로부터 샘플링된 난수 반환"
   ]
  },
  {
   "cell_type": "code",
   "execution_count": 30,
   "id": "166196fa",
   "metadata": {
    "ExecuteTime": {
     "end_time": "2021-06-03T02:40:59.993648Z",
     "start_time": "2021-06-03T02:40:59.987648Z"
    }
   },
   "outputs": [
    {
     "name": "stdout",
     "output_type": "stream",
     "text": [
      "[-0.93737923 -1.5816393 ]\n",
      "[-0.98176705  0.80935859  0.07904892  3.24090303]\n",
      "[[2.76458915 4.83270619 3.33085192]\n",
      " [5.30525632 5.89857318 2.8558699 ]]\n"
     ]
    }
   ],
   "source": [
    "import numpy as np\n",
    "\n",
    "a = np.random.normal(0, 1, 2)\n",
    "print(a)\n",
    "\n",
    "b = np.random.normal(1.5, 1.5, 4)\n",
    "print(b)\n",
    "\n",
    "c = np.random.normal(3.0, 2.0, (2, 3))\n",
    "print(c)"
   ]
  },
  {
   "cell_type": "code",
   "execution_count": 31,
   "id": "9e915633",
   "metadata": {
    "ExecuteTime": {
     "end_time": "2021-06-03T02:41:00.448386Z",
     "start_time": "2021-06-03T02:40:59.995644Z"
    }
   },
   "outputs": [
    {
     "data": {
      "image/png": "[encoded data removed]",
      "text/plain": [
       "<Figure size 600x300 with 1 Axes>"
      ]
     },
     "metadata": {},
     "output_type": "display_data"
    }
   ],
   "source": [
    "import numpy as np\n",
    "import matplotlib.pyplot as plt\n",
    "\n",
    "plt.style.use('default')\n",
    "plt.rcParams['figure.figsize'] = (6, 3)\n",
    "plt.rcParams['font.size'] = 12\n",
    "\n",
    "a = np.random.normal(0, 1, 500)\n",
    "b = np.random.normal(1.5, 1.5, 5000)\n",
    "c = np.random.normal(3.0, 2.0, 50000)\n",
    "\n",
    "plt.hist(a, bins=100, density=True, alpha=0.75, histtype='step', label=r'N(0, $1^2$)')\n",
    "plt.hist(b, bins=100, density=True, alpha=0.75, histtype='step', label=r'N(1.5, $1.5^2$)')\n",
    "plt.hist(c, bins=100, density=True, alpha=0.75, histtype='step', label=r'N(3.0, $3.0^2$)')\n",
    "\n",
    "plt.legend()\n",
    "plt.show()"
   ]
  },
  {
   "cell_type": "markdown",
   "id": "b093ef42",
   "metadata": {},
   "source": [
    "#### random.random_sample()\n",
    "[0.0, 1.0) 범위에서 샘플링된 임의의 실수 반환 "
   ]
  },
  {
   "cell_type": "code",
   "execution_count": 32,
   "id": "de5c48e1",
   "metadata": {
    "ExecuteTime": {
     "end_time": "2021-06-03T02:41:00.455383Z",
     "start_time": "2021-06-03T02:41:00.449385Z"
    }
   },
   "outputs": [
    {
     "name": "stdout",
     "output_type": "stream",
     "text": [
      "0.8945037435109211\n",
      "[[0.77558608 0.4068897 ]\n",
      " [0.9236748  0.69679107]\n",
      " [0.41968172 0.84839794]\n",
      " [0.5549599  0.32530269]\n",
      " [0.59351302 0.6496805 ]]\n",
      "[[-1.8503583   1.47087874]\n",
      " [-1.45071649 -1.55662845]\n",
      " [-1.53080014  0.94377352]]\n"
     ]
    }
   ],
   "source": [
    "import numpy as np\n",
    "\n",
    "a = np.random.random_sample()\n",
    "print(a)\n",
    "\n",
    "b = np.random.random_sample((5, 2))\n",
    "print(b)\n",
    "\n",
    "c = 5 * np.random.random_sample((3, 2)) - 3\n",
    "print(c)"
   ]
  },
  {
   "cell_type": "code",
   "execution_count": 33,
   "id": "152cf74a",
   "metadata": {
    "ExecuteTime": {
     "end_time": "2021-06-03T02:41:00.632752Z",
     "start_time": "2021-06-03T02:41:00.456383Z"
    }
   },
   "outputs": [
    {
     "data": {
      "image/png": "[encoded data removed]",
      "text/plain": [
       "<Figure size 600x300 with 1 Axes>"
      ]
     },
     "metadata": {},
     "output_type": "display_data"
    }
   ],
   "source": [
    "import numpy as np\n",
    "import matplotlib.pyplot as plt\n",
    "\n",
    "plt.style.use('default')\n",
    "plt.rcParams['figure.figsize'] = (6, 3)\n",
    "plt.rcParams['font.size'] = 12\n",
    "\n",
    "a = np.random.random_sample(100000)\n",
    "b = 1.5 * np.random.random_sample(100000) - 0.75\n",
    "c = 2 * np.random.random_sample(100000) - 1\n",
    "\n",
    "plt.hist(a, bins=100, density=True, alpha=0.75, histtype='step', label='[0, 1)')\n",
    "plt.hist(b, bins=100, density=True, alpha=0.75, histtype='step', label='[-0.75, 0.75)')\n",
    "plt.hist(c, bins=100, density=True, alpha=0.75, histtype='step', label='[-1, 1)')\n",
    "\n",
    "plt.ylim(0.0, 1.2)\n",
    "plt.legend()\n",
    "plt.show()"
   ]
  },
  {
   "cell_type": "markdown",
   "id": "7fc4ee30",
   "metadata": {},
   "source": [
    "#### random.choice()\n",
    "주어진 1차원 어레이로부터 임의의 샘플 생성 "
   ]
  },
  {
   "cell_type": "code",
   "execution_count": 34,
   "id": "274b9383",
   "metadata": {
    "ExecuteTime": {
     "end_time": "2021-06-03T02:42:28.483216Z",
     "start_time": "2021-06-03T02:42:28.476219Z"
    }
   },
   "outputs": [
    {
     "name": "stdout",
     "output_type": "stream",
     "text": [
      "[3 4 3]\n",
      "[[5 1 2]\n",
      " [2 7 6]]\n"
     ]
    }
   ],
   "source": [
    "import numpy as np\n",
    "\n",
    "a = np.random.choice(5, 3)\n",
    "print(a)\n",
    "\n",
    "b = np.random.choice(10, (2, 3))\n",
    "print(b)"
   ]
  },
  {
   "cell_type": "code",
   "execution_count": 35,
   "id": "ae3049dc",
   "metadata": {
    "ExecuteTime": {
     "end_time": "2021-06-03T02:42:38.397917Z",
     "start_time": "2021-06-03T02:42:38.247005Z"
    },
    "scrolled": true
   },
   "outputs": [
    {
     "data": {
      "image/png": "[encoded data removed]",
      "text/plain": [
       "<Figure size 600x300 with 1 Axes>"
      ]
     },
     "metadata": {},
     "output_type": "display_data"
    }
   ],
   "source": [
    "import numpy as np\n",
    "import matplotlib.pyplot as plt\n",
    "\n",
    "plt.style.use('default')\n",
    "plt.rcParams['figure.figsize'] = (6, 3)\n",
    "plt.rcParams['font.size'] = 12\n",
    "\n",
    "a = np.random.choice(10, 1000)\n",
    "b = np.random.choice([0, 1, 2, 4, 8], 1000)\n",
    "\n",
    "plt.hist(a, bins=100, density=False, alpha=0.75, histtype='step', label='Sample np.arange(5)')\n",
    "plt.hist(b, bins=100, density=False, alpha=0.75, histtype='step', label='Sample [0, 1, 2, 4, 8]')\n",
    "\n",
    "plt.ylim(0, 300)\n",
    "plt.legend()\n",
    "plt.show()"
   ]
  },
  {
   "cell_type": "markdown",
   "id": "c7be5a23",
   "metadata": {},
   "source": [
    "#### random.seed()\n",
    "난수 생성에 필요한 시드 설정"
   ]
  },
  {
   "cell_type": "code",
   "execution_count": 36,
   "id": "cb9671ec",
   "metadata": {
    "ExecuteTime": {
     "end_time": "2021-06-03T02:43:16.576115Z",
     "start_time": "2021-06-03T02:43:16.571100Z"
    }
   },
   "outputs": [
    {
     "name": "stdout",
     "output_type": "stream",
     "text": [
      "[[0.5488135  0.71518937 0.60276338]\n",
      " [0.54488318 0.4236548  0.64589411]]\n"
     ]
    }
   ],
   "source": [
    "import numpy as np\n",
    "\n",
    "np.random.seed(0)\n",
    "\n",
    "print(np.random.rand(2, 3))"
   ]
  },
  {
   "cell_type": "markdown",
   "id": "b411682e",
   "metadata": {},
   "source": [
    "### linspace()\n",
    "시작과 끝의 값을 지정하고 그 사이의 값을 균등하게 배분"
   ]
  },
  {
   "cell_type": "code",
   "execution_count": 37,
   "id": "cb58430c",
   "metadata": {
    "ExecuteTime": {
     "end_time": "2021-06-03T02:50:21.831637Z",
     "start_time": "2021-06-03T02:50:21.825641Z"
    }
   },
   "outputs": [
    {
     "data": {
      "text/plain": [
       "array([ 0. ,  1.2,  2.4,  3.6,  4.8,  6. ,  7.2,  8.4,  9.6, 10.8, 12. ])"
      ]
     },
     "execution_count": 37,
     "metadata": {},
     "output_type": "execute_result"
    }
   ],
   "source": [
    "np.linspace(0,12,11)"
   ]
  },
  {
   "cell_type": "code",
   "execution_count": 38,
   "id": "17024c8b",
   "metadata": {
    "ExecuteTime": {
     "end_time": "2021-06-03T02:50:35.458918Z",
     "start_time": "2021-06-03T02:50:35.451941Z"
    }
   },
   "outputs": [
    {
     "data": {
      "text/plain": [
       "(array([ 0.        ,  1.33333333,  2.66666667,  4.        ,  5.33333333,\n",
       "         6.66666667,  8.        ,  9.33333333, 10.66666667, 12.        ]),\n",
       " 1.3333333333333333)"
      ]
     },
     "execution_count": 38,
     "metadata": {},
     "output_type": "execute_result"
    }
   ],
   "source": [
    "np.linspace(0,12,10,retstep=True)"
   ]
  },
  {
   "cell_type": "code",
   "execution_count": 39,
   "id": "297c20be",
   "metadata": {
    "ExecuteTime": {
     "end_time": "2021-06-03T02:50:57.313557Z",
     "start_time": "2021-06-03T02:50:57.308572Z"
    }
   },
   "outputs": [
    {
     "data": {
      "text/plain": [
       "(array([ 0. ,  1.2,  2.4,  3.6,  4.8,  6. ,  7.2,  8.4,  9.6, 10.8]), 1.2)"
      ]
     },
     "execution_count": 39,
     "metadata": {},
     "output_type": "execute_result"
    }
   ],
   "source": [
    "np.linspace(0,12,10,retstep=True,endpoint=False)"
   ]
  },
  {
   "cell_type": "markdown",
   "id": "6c1bbf85",
   "metadata": {},
   "source": [
    "#### logspace()"
   ]
  },
  {
   "cell_type": "code",
   "execution_count": 41,
   "id": "a06424ec",
   "metadata": {
    "ExecuteTime": {
     "end_time": "2021-06-03T02:53:59.695468Z",
     "start_time": "2021-06-03T02:53:59.690469Z"
    }
   },
   "outputs": [
    {
     "data": {
      "text/plain": [
       "array([10.        , 15.84893192, 25.11886432, 39.81071706, 63.09573445])"
      ]
     },
     "execution_count": 41,
     "metadata": {},
     "output_type": "execute_result"
    }
   ],
   "source": [
    "np.logspace(1,2,5,endpoint=False)"
   ]
  },
  {
   "cell_type": "code",
   "execution_count": null,
   "id": "08be74e8",
   "metadata": {},
   "outputs": [],
   "source": []
  }
 ],
 "metadata": {
  "hide_input": false,
  "kernelspec": {
   "display_name": "Python 3",
   "language": "python",
   "name": "python3"
  },
  "language_info": {
   "codemirror_mode": {
    "name": "ipython",
    "version": 3
   },
   "file_extension": ".py",
   "mimetype": "text/x-python",
   "name": "python",
   "nbconvert_exporter": "python",
   "pygments_lexer": "ipython3",
   "version": "3.7.9"
  },
  "toc": {
   "base_numbering": 1,
   "nav_menu": {},
   "number_sections": true,
   "sideBar": true,
   "skip_h1_title": false,
   "title_cell": "Table of Contents",
   "title_sidebar": "Contents",
   "toc_cell": false,
   "toc_position": {},
   "toc_section_display": true,
   "toc_window_display": false
  },
  "varInspector": {
   "cols": {
    "lenName": 16,
    "lenType": 16,
    "lenVar": 40
   },
   "kernels_config": {
    "python": {
     "delete_cmd_postfix": "",
     "delete_cmd_prefix": "del ",
     "library": "var_list.py",
     "varRefreshCmd": "print(var_dic_list())"
    },
    "r": {
     "delete_cmd_postfix": ") ",
     "delete_cmd_prefix": "rm(",
     "library": "var_list.r",
     "varRefreshCmd": "cat(var_dic_list()) "
    }
   },
   "types_to_exclude": [
    "module",
    "function",
    "builtin_function_or_method",
    "instance",
    "_Feature"
   ],
   "window_display": false
  }
 },
 "nbformat": 4,
 "nbformat_minor": 5
}
