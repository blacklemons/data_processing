{
 "cells": [
  {
   "cell_type": "markdown",
   "id": "cb6f8750",
   "metadata": {},
   "source": [
    "# 시리즈(Series)\n",
    "- 복수의 행(row)으로 이루어진 하나의 열(column)구조\n",
    "- 색인(index)을 가지고 원하는 데이터에 접근가능\n",
    "- 자동으로 색인 생성"
   ]
  },
  {
   "cell_type": "code",
   "execution_count": 1,
   "id": "65e4123c",
   "metadata": {
    "ExecuteTime": {
     "end_time": "2021-06-03T05:49:24.861233Z",
     "start_time": "2021-06-03T05:49:24.387348Z"
    }
   },
   "outputs": [
    {
     "data": {
      "text/plain": [
       "0    1\n",
       "1    4\n",
       "2    7\n",
       "3    9\n",
       "dtype: int64"
      ]
     },
     "execution_count": 1,
     "metadata": {},
     "output_type": "execute_result"
    }
   ],
   "source": [
    "import pandas as pd\n",
    "pd.Series([1,4,7,9])"
   ]
  },
  {
   "cell_type": "markdown",
   "id": "74fea71f",
   "metadata": {},
   "source": [
    "### 인덱싱"
   ]
  },
  {
   "cell_type": "code",
   "execution_count": 2,
   "id": "be8edd8a",
   "metadata": {
    "ExecuteTime": {
     "end_time": "2021-06-03T05:49:24.867244Z",
     "start_time": "2021-06-03T05:49:24.863233Z"
    }
   },
   "outputs": [],
   "source": [
    "x=pd.Series([1,7,4,9], index=['서울','대전','대구','부산'])"
   ]
  },
  {
   "cell_type": "code",
   "execution_count": 3,
   "id": "e37e0b44",
   "metadata": {
    "ExecuteTime": {
     "end_time": "2021-06-03T05:49:24.884234Z",
     "start_time": "2021-06-03T05:49:24.869227Z"
    }
   },
   "outputs": [
    {
     "data": {
      "text/plain": [
       "9"
      ]
     },
     "execution_count": 3,
     "metadata": {},
     "output_type": "execute_result"
    }
   ],
   "source": [
    "x['부산']"
   ]
  },
  {
   "cell_type": "code",
   "execution_count": 4,
   "id": "35defe05",
   "metadata": {
    "ExecuteTime": {
     "end_time": "2021-06-03T05:49:24.899212Z",
     "start_time": "2021-06-03T05:49:24.886218Z"
    }
   },
   "outputs": [
    {
     "data": {
      "text/plain": [
       "대구    4\n",
       "부산    9\n",
       "dtype: int64"
      ]
     },
     "execution_count": 4,
     "metadata": {},
     "output_type": "execute_result"
    }
   ],
   "source": [
    "x[['대구','부산']]"
   ]
  },
  {
   "cell_type": "code",
   "execution_count": 5,
   "id": "74a17b49",
   "metadata": {
    "ExecuteTime": {
     "end_time": "2021-06-03T05:49:24.916203Z",
     "start_time": "2021-06-03T05:49:24.901212Z"
    }
   },
   "outputs": [
    {
     "name": "stdout",
     "output_type": "stream",
     "text": [
      "Index(['서울', '대전', '대구', '부산'], dtype='object')\n",
      "[1 7 4 9]\n"
     ]
    }
   ],
   "source": [
    "print(x.index)\n",
    "print(x.values)"
   ]
  },
  {
   "cell_type": "code",
   "execution_count": 6,
   "id": "07a6d81d",
   "metadata": {
    "ExecuteTime": {
     "end_time": "2021-06-03T05:49:24.928195Z",
     "start_time": "2021-06-03T05:49:24.918200Z"
    }
   },
   "outputs": [
    {
     "name": "stdout",
     "output_type": "stream",
     "text": [
      "[1, 4, 7, 9]\n",
      "Index(['서울', '대전', '대구', '부산'], dtype='object')\n"
     ]
    }
   ],
   "source": [
    "sorted(x)\n",
    "print(sorted(x))\n",
    "sorted(x.index)\n",
    "print(x.index)"
   ]
  },
  {
   "cell_type": "code",
   "execution_count": 7,
   "id": "a8ed99aa",
   "metadata": {
    "ExecuteTime": {
     "end_time": "2021-06-03T05:49:24.946199Z",
     "start_time": "2021-06-03T05:49:24.932192Z"
    }
   },
   "outputs": [
    {
     "data": {
      "text/plain": [
       "대구    4\n",
       "대전    7\n",
       "부산    9\n",
       "서울    1\n",
       "dtype: int64"
      ]
     },
     "execution_count": 7,
     "metadata": {},
     "output_type": "execute_result"
    }
   ],
   "source": [
    "x.reindex(sorted(['서울', '대전', '대구', '부산']))"
   ]
  },
  {
   "cell_type": "code",
   "execution_count": 8,
   "id": "933c17e1",
   "metadata": {
    "ExecuteTime": {
     "end_time": "2021-06-03T05:49:24.972168Z",
     "start_time": "2021-06-03T05:49:24.949182Z"
    }
   },
   "outputs": [
    {
     "data": {
      "text/plain": [
       "광주     NaN\n",
       "대구     7.0\n",
       "대전     NaN\n",
       "부산    28.0\n",
       "서울     9.0\n",
       "dtype: float64"
      ]
     },
     "execution_count": 8,
     "metadata": {},
     "output_type": "execute_result"
    }
   ],
   "source": [
    "x=pd.Series([1,7,4,9], index=['서울','대전','대구','부산'])\n",
    "y=pd.Series([3,8,11,19], index=['대구','서울','광주','부산'])\n",
    "x+y"
   ]
  },
  {
   "cell_type": "markdown",
   "id": "90838387",
   "metadata": {},
   "source": [
    "### unique()"
   ]
  },
  {
   "cell_type": "code",
   "execution_count": 26,
   "id": "056783c1",
   "metadata": {
    "ExecuteTime": {
     "end_time": "2021-06-03T05:55:26.495652Z",
     "start_time": "2021-06-03T05:55:26.490655Z"
    }
   },
   "outputs": [
    {
     "name": "stdout",
     "output_type": "stream",
     "text": [
      "[1 3 2 4 5]\n"
     ]
    }
   ],
   "source": [
    "medal = [1,3,2,4,2,5]\n",
    "x=pd.Series(medal)\n",
    "y=pd.unique(x)\n",
    "print(y)"
   ]
  },
  {
   "cell_type": "code",
   "execution_count": 23,
   "id": "84fd17e8",
   "metadata": {
    "ExecuteTime": {
     "end_time": "2021-06-03T05:54:15.714699Z",
     "start_time": "2021-06-03T05:54:15.708703Z"
    }
   },
   "outputs": [
    {
     "name": "stdout",
     "output_type": "stream",
     "text": [
      "[1 3 2 4 5]\n"
     ]
    }
   ],
   "source": [
    "a=pd.unique(medal)\n",
    "print(a)"
   ]
  },
  {
   "cell_type": "markdown",
   "id": "460b0faf",
   "metadata": {},
   "source": [
    "### dict을 Series 으로 변환"
   ]
  },
  {
   "cell_type": "code",
   "execution_count": 27,
   "id": "3441bf21",
   "metadata": {
    "ExecuteTime": {
     "end_time": "2021-06-03T06:16:57.160241Z",
     "start_time": "2021-06-03T06:16:57.151243Z"
    }
   },
   "outputs": [
    {
     "data": {
      "text/plain": [
       "a     1\n",
       "b    10\n",
       "c    20\n",
       "dtype: int64"
      ]
     },
     "execution_count": 27,
     "metadata": {},
     "output_type": "execute_result"
    }
   ],
   "source": [
    "dic = {\"a\":1,\"b\":10,\"c\":20}\n",
    "pd.Series(dic)"
   ]
  },
  {
   "cell_type": "markdown",
   "id": "a9bec0af",
   "metadata": {},
   "source": [
    "## 데이터프레임(DataFrame)"
   ]
  },
  {
   "cell_type": "markdown",
   "id": "c916df70",
   "metadata": {},
   "source": [
    "### Series 로 생성"
   ]
  },
  {
   "cell_type": "code",
   "execution_count": 34,
   "id": "aea6c579",
   "metadata": {
    "ExecuteTime": {
     "end_time": "2021-06-03T06:21:58.251334Z",
     "start_time": "2021-06-03T06:21:58.239341Z"
    },
    "scrolled": true
   },
   "outputs": [
    {
     "data": {
      "text/html": [
       "<div>\n",
       "<style scoped>\n",
       "    .dataframe tbody tr th:only-of-type {\n",
       "        vertical-align: middle;\n",
       "    }\n",
       "\n",
       "    .dataframe tbody tr th {\n",
       "        vertical-align: top;\n",
       "    }\n",
       "\n",
       "    .dataframe thead th {\n",
       "        text-align: right;\n",
       "    }\n",
       "</style>\n",
       "<table border=\"1\" class=\"dataframe\">\n",
       "  <thead>\n",
       "    <tr style=\"text-align: right;\">\n",
       "      <th></th>\n",
       "      <th>0</th>\n",
       "      <th>1</th>\n",
       "      <th>2</th>\n",
       "    </tr>\n",
       "  </thead>\n",
       "  <tbody>\n",
       "    <tr>\n",
       "      <th>a</th>\n",
       "      <td>1</td>\n",
       "      <td>2</td>\n",
       "      <td>3</td>\n",
       "    </tr>\n",
       "    <tr>\n",
       "      <th>b</th>\n",
       "      <td>10</td>\n",
       "      <td>5</td>\n",
       "      <td>11</td>\n",
       "    </tr>\n",
       "    <tr>\n",
       "      <th>c</th>\n",
       "      <td>20</td>\n",
       "      <td>5</td>\n",
       "      <td>8</td>\n",
       "    </tr>\n",
       "  </tbody>\n",
       "</table>\n",
       "</div>"
      ],
      "text/plain": [
       "    0  1   2\n",
       "a   1  2   3\n",
       "b  10  5  11\n",
       "c  20  5   8"
      ]
     },
     "execution_count": 34,
     "metadata": {},
     "output_type": "execute_result"
    }
   ],
   "source": [
    "ser_1 = pd.Series({\"a\":1,\"b\":10,\"c\":20})\n",
    "ser_2 = pd.Series({\"a\":2,\"b\":5,\"c\":5})\n",
    "ser_3 = pd.Series({\"a\":3,\"b\":11,\"c\":8})\n",
    "\n",
    "pd.concat([ser_1,ser_2,ser_3], axis=1)"
   ]
  },
  {
   "cell_type": "markdown",
   "id": "a39482a4",
   "metadata": {},
   "source": [
    "### dataframe 생성"
   ]
  },
  {
   "cell_type": "code",
   "execution_count": 42,
   "id": "b7baa2d5",
   "metadata": {
    "ExecuteTime": {
     "end_time": "2021-06-03T06:29:49.889205Z",
     "start_time": "2021-06-03T06:29:49.877217Z"
    },
    "scrolled": true
   },
   "outputs": [
    {
     "data": {
      "text/html": [
       "<div>\n",
       "<style scoped>\n",
       "    .dataframe tbody tr th:only-of-type {\n",
       "        vertical-align: middle;\n",
       "    }\n",
       "\n",
       "    .dataframe tbody tr th {\n",
       "        vertical-align: top;\n",
       "    }\n",
       "\n",
       "    .dataframe thead th {\n",
       "        text-align: right;\n",
       "    }\n",
       "</style>\n",
       "<table border=\"1\" class=\"dataframe\">\n",
       "  <thead>\n",
       "    <tr style=\"text-align: right;\">\n",
       "      <th></th>\n",
       "      <th>name</th>\n",
       "      <th>age</th>\n",
       "      <th>height</th>\n",
       "    </tr>\n",
       "  </thead>\n",
       "  <tbody>\n",
       "    <tr>\n",
       "      <th>0</th>\n",
       "      <td>민준</td>\n",
       "      <td>23</td>\n",
       "      <td>175.3</td>\n",
       "    </tr>\n",
       "    <tr>\n",
       "      <th>1</th>\n",
       "      <td>현우</td>\n",
       "      <td>43</td>\n",
       "      <td>180.3</td>\n",
       "    </tr>\n",
       "    <tr>\n",
       "      <th>2</th>\n",
       "      <td>서연</td>\n",
       "      <td>12</td>\n",
       "      <td>165.8</td>\n",
       "    </tr>\n",
       "    <tr>\n",
       "      <th>3</th>\n",
       "      <td>동현</td>\n",
       "      <td>45</td>\n",
       "      <td>172.7</td>\n",
       "    </tr>\n",
       "  </tbody>\n",
       "</table>\n",
       "</div>"
      ],
      "text/plain": [
       "  name  age  height\n",
       "0   민준   23   175.3\n",
       "1   현우   43   180.3\n",
       "2   서연   12   165.8\n",
       "3   동현   45   172.7"
      ]
     },
     "execution_count": 42,
     "metadata": {},
     "output_type": "execute_result"
    }
   ],
   "source": [
    "data = {'age':[23,43,12,45],\n",
    "        'name':['민준','현우','서연','동현'],\n",
    "        'height':[175.3,180.3,165.8,172.7]}\n",
    "x = pd.DataFrame(data, columns=['name','age','height'])\n",
    "x"
   ]
  },
  {
   "cell_type": "markdown",
   "id": "59b039a1",
   "metadata": {},
   "source": [
    "### 슬라이싱"
   ]
  },
  {
   "cell_type": "code",
   "execution_count": 45,
   "id": "c9ea96e6",
   "metadata": {
    "ExecuteTime": {
     "end_time": "2021-06-03T06:36:38.033884Z",
     "start_time": "2021-06-03T06:36:38.027873Z"
    }
   },
   "outputs": [
    {
     "data": {
      "text/plain": [
       "name         현우\n",
       "age          43\n",
       "height    180.3\n",
       "Name: 1, dtype: object"
      ]
     },
     "execution_count": 45,
     "metadata": {},
     "output_type": "execute_result"
    }
   ],
   "source": [
    "x.iloc[1]"
   ]
  },
  {
   "cell_type": "code",
   "execution_count": 51,
   "id": "bc579f6b",
   "metadata": {
    "ExecuteTime": {
     "end_time": "2021-06-03T06:38:33.532049Z",
     "start_time": "2021-06-03T06:38:33.526071Z"
    },
    "scrolled": true
   },
   "outputs": [
    {
     "data": {
      "text/plain": [
       "0    민준\n",
       "1    현우\n",
       "2    서연\n",
       "3    동현\n",
       "Name: name, dtype: object"
      ]
     },
     "execution_count": 51,
     "metadata": {},
     "output_type": "execute_result"
    }
   ],
   "source": [
    "x['name']"
   ]
  },
  {
   "cell_type": "markdown",
   "id": "022a6c91",
   "metadata": {},
   "source": [
    "### head() , tail()\n",
    "- default : 5개"
   ]
  },
  {
   "cell_type": "code",
   "execution_count": 52,
   "id": "7408d9a9",
   "metadata": {
    "ExecuteTime": {
     "end_time": "2021-06-03T06:39:33.471829Z",
     "start_time": "2021-06-03T06:39:33.467831Z"
    }
   },
   "outputs": [],
   "source": [
    "ary = [[1,2],[2,3],[4,2],[5,3],[6,2],[2,5],[1,1],[5,4],[2,4]]"
   ]
  },
  {
   "cell_type": "code",
   "execution_count": 55,
   "id": "09c914b7",
   "metadata": {
    "ExecuteTime": {
     "end_time": "2021-06-03T06:40:16.320936Z",
     "start_time": "2021-06-03T06:40:16.311965Z"
    }
   },
   "outputs": [
    {
     "data": {
      "text/html": [
       "<div>\n",
       "<style scoped>\n",
       "    .dataframe tbody tr th:only-of-type {\n",
       "        vertical-align: middle;\n",
       "    }\n",
       "\n",
       "    .dataframe tbody tr th {\n",
       "        vertical-align: top;\n",
       "    }\n",
       "\n",
       "    .dataframe thead th {\n",
       "        text-align: right;\n",
       "    }\n",
       "</style>\n",
       "<table border=\"1\" class=\"dataframe\">\n",
       "  <thead>\n",
       "    <tr style=\"text-align: right;\">\n",
       "      <th></th>\n",
       "      <th>first</th>\n",
       "      <th>second</th>\n",
       "    </tr>\n",
       "  </thead>\n",
       "  <tbody>\n",
       "    <tr>\n",
       "      <th>0</th>\n",
       "      <td>1</td>\n",
       "      <td>2</td>\n",
       "    </tr>\n",
       "    <tr>\n",
       "      <th>1</th>\n",
       "      <td>2</td>\n",
       "      <td>3</td>\n",
       "    </tr>\n",
       "    <tr>\n",
       "      <th>2</th>\n",
       "      <td>4</td>\n",
       "      <td>2</td>\n",
       "    </tr>\n",
       "    <tr>\n",
       "      <th>3</th>\n",
       "      <td>5</td>\n",
       "      <td>3</td>\n",
       "    </tr>\n",
       "    <tr>\n",
       "      <th>4</th>\n",
       "      <td>6</td>\n",
       "      <td>2</td>\n",
       "    </tr>\n",
       "    <tr>\n",
       "      <th>5</th>\n",
       "      <td>2</td>\n",
       "      <td>5</td>\n",
       "    </tr>\n",
       "    <tr>\n",
       "      <th>6</th>\n",
       "      <td>1</td>\n",
       "      <td>1</td>\n",
       "    </tr>\n",
       "    <tr>\n",
       "      <th>7</th>\n",
       "      <td>5</td>\n",
       "      <td>4</td>\n",
       "    </tr>\n",
       "    <tr>\n",
       "      <th>8</th>\n",
       "      <td>2</td>\n",
       "      <td>4</td>\n",
       "    </tr>\n",
       "  </tbody>\n",
       "</table>\n",
       "</div>"
      ],
      "text/plain": [
       "   first  second\n",
       "0      1       2\n",
       "1      2       3\n",
       "2      4       2\n",
       "3      5       3\n",
       "4      6       2\n",
       "5      2       5\n",
       "6      1       1\n",
       "7      5       4\n",
       "8      2       4"
      ]
     },
     "execution_count": 55,
     "metadata": {},
     "output_type": "execute_result"
    }
   ],
   "source": [
    "data = pd.DataFrame(ary, columns=['first','second'])\n",
    "data"
   ]
  },
  {
   "cell_type": "code",
   "execution_count": 56,
   "id": "8d060b72",
   "metadata": {
    "ExecuteTime": {
     "end_time": "2021-06-03T06:40:25.894982Z",
     "start_time": "2021-06-03T06:40:25.886971Z"
    }
   },
   "outputs": [
    {
     "data": {
      "text/html": [
       "<div>\n",
       "<style scoped>\n",
       "    .dataframe tbody tr th:only-of-type {\n",
       "        vertical-align: middle;\n",
       "    }\n",
       "\n",
       "    .dataframe tbody tr th {\n",
       "        vertical-align: top;\n",
       "    }\n",
       "\n",
       "    .dataframe thead th {\n",
       "        text-align: right;\n",
       "    }\n",
       "</style>\n",
       "<table border=\"1\" class=\"dataframe\">\n",
       "  <thead>\n",
       "    <tr style=\"text-align: right;\">\n",
       "      <th></th>\n",
       "      <th>first</th>\n",
       "      <th>second</th>\n",
       "    </tr>\n",
       "  </thead>\n",
       "  <tbody>\n",
       "    <tr>\n",
       "      <th>0</th>\n",
       "      <td>1</td>\n",
       "      <td>2</td>\n",
       "    </tr>\n",
       "    <tr>\n",
       "      <th>1</th>\n",
       "      <td>2</td>\n",
       "      <td>3</td>\n",
       "    </tr>\n",
       "    <tr>\n",
       "      <th>2</th>\n",
       "      <td>4</td>\n",
       "      <td>2</td>\n",
       "    </tr>\n",
       "    <tr>\n",
       "      <th>3</th>\n",
       "      <td>5</td>\n",
       "      <td>3</td>\n",
       "    </tr>\n",
       "    <tr>\n",
       "      <th>4</th>\n",
       "      <td>6</td>\n",
       "      <td>2</td>\n",
       "    </tr>\n",
       "  </tbody>\n",
       "</table>\n",
       "</div>"
      ],
      "text/plain": [
       "   first  second\n",
       "0      1       2\n",
       "1      2       3\n",
       "2      4       2\n",
       "3      5       3\n",
       "4      6       2"
      ]
     },
     "execution_count": 56,
     "metadata": {},
     "output_type": "execute_result"
    }
   ],
   "source": [
    "data.head()"
   ]
  },
  {
   "cell_type": "code",
   "execution_count": 58,
   "id": "65afa41b",
   "metadata": {
    "ExecuteTime": {
     "end_time": "2021-06-03T06:42:37.094989Z",
     "start_time": "2021-06-03T06:42:37.086991Z"
    }
   },
   "outputs": [
    {
     "data": {
      "text/html": [
       "<div>\n",
       "<style scoped>\n",
       "    .dataframe tbody tr th:only-of-type {\n",
       "        vertical-align: middle;\n",
       "    }\n",
       "\n",
       "    .dataframe tbody tr th {\n",
       "        vertical-align: top;\n",
       "    }\n",
       "\n",
       "    .dataframe thead th {\n",
       "        text-align: right;\n",
       "    }\n",
       "</style>\n",
       "<table border=\"1\" class=\"dataframe\">\n",
       "  <thead>\n",
       "    <tr style=\"text-align: right;\">\n",
       "      <th></th>\n",
       "      <th>first</th>\n",
       "      <th>second</th>\n",
       "    </tr>\n",
       "  </thead>\n",
       "  <tbody>\n",
       "    <tr>\n",
       "      <th>6</th>\n",
       "      <td>1</td>\n",
       "      <td>1</td>\n",
       "    </tr>\n",
       "    <tr>\n",
       "      <th>7</th>\n",
       "      <td>5</td>\n",
       "      <td>4</td>\n",
       "    </tr>\n",
       "    <tr>\n",
       "      <th>8</th>\n",
       "      <td>2</td>\n",
       "      <td>4</td>\n",
       "    </tr>\n",
       "  </tbody>\n",
       "</table>\n",
       "</div>"
      ],
      "text/plain": [
       "   first  second\n",
       "6      1       1\n",
       "7      5       4\n",
       "8      2       4"
      ]
     },
     "execution_count": 58,
     "metadata": {},
     "output_type": "execute_result"
    }
   ],
   "source": [
    "data.tail(3)"
   ]
  },
  {
   "cell_type": "code",
   "execution_count": 16,
   "id": "635aa5c2",
   "metadata": {
    "ExecuteTime": {
     "end_time": "2021-06-03T07:35:02.256388Z",
     "start_time": "2021-06-03T07:35:02.238387Z"
    }
   },
   "outputs": [
    {
     "data": {
      "text/html": [
       "<div>\n",
       "<style scoped>\n",
       "    .dataframe tbody tr th:only-of-type {\n",
       "        vertical-align: middle;\n",
       "    }\n",
       "\n",
       "    .dataframe tbody tr th {\n",
       "        vertical-align: top;\n",
       "    }\n",
       "\n",
       "    .dataframe thead th {\n",
       "        text-align: right;\n",
       "    }\n",
       "</style>\n",
       "<table border=\"1\" class=\"dataframe\">\n",
       "  <thead>\n",
       "    <tr style=\"text-align: right;\">\n",
       "      <th></th>\n",
       "      <th>구분</th>\n",
       "      <th>도로종류</th>\n",
       "      <th>사고(건)</th>\n",
       "      <th>사망(명)</th>\n",
       "      <th>부상(명)</th>\n",
       "    </tr>\n",
       "  </thead>\n",
       "  <tbody>\n",
       "    <tr>\n",
       "      <th>0</th>\n",
       "      <td>False</td>\n",
       "      <td>False</td>\n",
       "      <td>False</td>\n",
       "      <td>False</td>\n",
       "      <td>False</td>\n",
       "    </tr>\n",
       "    <tr>\n",
       "      <th>1</th>\n",
       "      <td>False</td>\n",
       "      <td>False</td>\n",
       "      <td>False</td>\n",
       "      <td>False</td>\n",
       "      <td>False</td>\n",
       "    </tr>\n",
       "    <tr>\n",
       "      <th>2</th>\n",
       "      <td>False</td>\n",
       "      <td>False</td>\n",
       "      <td>False</td>\n",
       "      <td>False</td>\n",
       "      <td>False</td>\n",
       "    </tr>\n",
       "    <tr>\n",
       "      <th>3</th>\n",
       "      <td>False</td>\n",
       "      <td>False</td>\n",
       "      <td>False</td>\n",
       "      <td>False</td>\n",
       "      <td>False</td>\n",
       "    </tr>\n",
       "    <tr>\n",
       "      <th>4</th>\n",
       "      <td>False</td>\n",
       "      <td>False</td>\n",
       "      <td>False</td>\n",
       "      <td>False</td>\n",
       "      <td>False</td>\n",
       "    </tr>\n",
       "    <tr>\n",
       "      <th>5</th>\n",
       "      <td>False</td>\n",
       "      <td>False</td>\n",
       "      <td>True</td>\n",
       "      <td>False</td>\n",
       "      <td>False</td>\n",
       "    </tr>\n",
       "    <tr>\n",
       "      <th>6</th>\n",
       "      <td>False</td>\n",
       "      <td>False</td>\n",
       "      <td>False</td>\n",
       "      <td>False</td>\n",
       "      <td>False</td>\n",
       "    </tr>\n",
       "    <tr>\n",
       "      <th>7</th>\n",
       "      <td>False</td>\n",
       "      <td>False</td>\n",
       "      <td>False</td>\n",
       "      <td>False</td>\n",
       "      <td>False</td>\n",
       "    </tr>\n",
       "    <tr>\n",
       "      <th>8</th>\n",
       "      <td>False</td>\n",
       "      <td>False</td>\n",
       "      <td>False</td>\n",
       "      <td>False</td>\n",
       "      <td>True</td>\n",
       "    </tr>\n",
       "    <tr>\n",
       "      <th>9</th>\n",
       "      <td>False</td>\n",
       "      <td>False</td>\n",
       "      <td>False</td>\n",
       "      <td>False</td>\n",
       "      <td>False</td>\n",
       "    </tr>\n",
       "    <tr>\n",
       "      <th>10</th>\n",
       "      <td>False</td>\n",
       "      <td>False</td>\n",
       "      <td>False</td>\n",
       "      <td>False</td>\n",
       "      <td>False</td>\n",
       "    </tr>\n",
       "    <tr>\n",
       "      <th>11</th>\n",
       "      <td>False</td>\n",
       "      <td>False</td>\n",
       "      <td>False</td>\n",
       "      <td>False</td>\n",
       "      <td>False</td>\n",
       "    </tr>\n",
       "    <tr>\n",
       "      <th>12</th>\n",
       "      <td>False</td>\n",
       "      <td>False</td>\n",
       "      <td>False</td>\n",
       "      <td>False</td>\n",
       "      <td>False</td>\n",
       "    </tr>\n",
       "    <tr>\n",
       "      <th>13</th>\n",
       "      <td>False</td>\n",
       "      <td>False</td>\n",
       "      <td>False</td>\n",
       "      <td>False</td>\n",
       "      <td>False</td>\n",
       "    </tr>\n",
       "    <tr>\n",
       "      <th>14</th>\n",
       "      <td>False</td>\n",
       "      <td>False</td>\n",
       "      <td>False</td>\n",
       "      <td>False</td>\n",
       "      <td>False</td>\n",
       "    </tr>\n",
       "    <tr>\n",
       "      <th>15</th>\n",
       "      <td>False</td>\n",
       "      <td>False</td>\n",
       "      <td>False</td>\n",
       "      <td>False</td>\n",
       "      <td>False</td>\n",
       "    </tr>\n",
       "    <tr>\n",
       "      <th>16</th>\n",
       "      <td>False</td>\n",
       "      <td>False</td>\n",
       "      <td>True</td>\n",
       "      <td>False</td>\n",
       "      <td>False</td>\n",
       "    </tr>\n",
       "    <tr>\n",
       "      <th>17</th>\n",
       "      <td>False</td>\n",
       "      <td>False</td>\n",
       "      <td>False</td>\n",
       "      <td>False</td>\n",
       "      <td>False</td>\n",
       "    </tr>\n",
       "    <tr>\n",
       "      <th>18</th>\n",
       "      <td>False</td>\n",
       "      <td>False</td>\n",
       "      <td>False</td>\n",
       "      <td>False</td>\n",
       "      <td>False</td>\n",
       "    </tr>\n",
       "    <tr>\n",
       "      <th>19</th>\n",
       "      <td>False</td>\n",
       "      <td>False</td>\n",
       "      <td>False</td>\n",
       "      <td>False</td>\n",
       "      <td>False</td>\n",
       "    </tr>\n",
       "    <tr>\n",
       "      <th>20</th>\n",
       "      <td>False</td>\n",
       "      <td>False</td>\n",
       "      <td>False</td>\n",
       "      <td>False</td>\n",
       "      <td>False</td>\n",
       "    </tr>\n",
       "  </tbody>\n",
       "</table>\n",
       "</div>"
      ],
      "text/plain": [
       "       구분   도로종류  사고(건)  사망(명)  부상(명)\n",
       "0   False  False  False  False  False\n",
       "1   False  False  False  False  False\n",
       "2   False  False  False  False  False\n",
       "3   False  False  False  False  False\n",
       "4   False  False  False  False  False\n",
       "5   False  False   True  False  False\n",
       "6   False  False  False  False  False\n",
       "7   False  False  False  False  False\n",
       "8   False  False  False  False   True\n",
       "9   False  False  False  False  False\n",
       "10  False  False  False  False  False\n",
       "11  False  False  False  False  False\n",
       "12  False  False  False  False  False\n",
       "13  False  False  False  False  False\n",
       "14  False  False  False  False  False\n",
       "15  False  False  False  False  False\n",
       "16  False  False   True  False  False\n",
       "17  False  False  False  False  False\n",
       "18  False  False  False  False  False\n",
       "19  False  False  False  False  False\n",
       "20  False  False  False  False  False"
      ]
     },
     "execution_count": 16,
     "metadata": {},
     "output_type": "execute_result"
    }
   ],
   "source": [
    "import pandas as pd\n",
    "df=pd.read_csv('경찰청_졸음운전 교통사고 현황_20191231.csv',engine='python',encoding='CP949')\n",
    "df.isnull()"
   ]
  },
  {
   "cell_type": "code",
   "execution_count": 18,
   "id": "301b3829",
   "metadata": {
    "ExecuteTime": {
     "end_time": "2021-06-03T07:36:30.835252Z",
     "start_time": "2021-06-03T07:36:30.813282Z"
    }
   },
   "outputs": [
    {
     "data": {
      "text/html": [
       "<div>\n",
       "<style scoped>\n",
       "    .dataframe tbody tr th:only-of-type {\n",
       "        vertical-align: middle;\n",
       "    }\n",
       "\n",
       "    .dataframe tbody tr th {\n",
       "        vertical-align: top;\n",
       "    }\n",
       "\n",
       "    .dataframe thead th {\n",
       "        text-align: right;\n",
       "    }\n",
       "</style>\n",
       "<table border=\"1\" class=\"dataframe\">\n",
       "  <thead>\n",
       "    <tr style=\"text-align: right;\">\n",
       "      <th></th>\n",
       "      <th>구분</th>\n",
       "      <th>도로종류</th>\n",
       "      <th>사고(건)</th>\n",
       "      <th>사망(명)</th>\n",
       "      <th>부상(명)</th>\n",
       "    </tr>\n",
       "  </thead>\n",
       "  <tbody>\n",
       "    <tr>\n",
       "      <th>0</th>\n",
       "      <td>2017년</td>\n",
       "      <td>일반국도</td>\n",
       "      <td>363.0</td>\n",
       "      <td>19</td>\n",
       "      <td>698.0</td>\n",
       "    </tr>\n",
       "    <tr>\n",
       "      <th>1</th>\n",
       "      <td>2017년</td>\n",
       "      <td>지방도</td>\n",
       "      <td>230.0</td>\n",
       "      <td>10</td>\n",
       "      <td>451.0</td>\n",
       "    </tr>\n",
       "    <tr>\n",
       "      <th>2</th>\n",
       "      <td>2017년</td>\n",
       "      <td>특별광역시도</td>\n",
       "      <td>590.0</td>\n",
       "      <td>12</td>\n",
       "      <td>1189.0</td>\n",
       "    </tr>\n",
       "    <tr>\n",
       "      <th>3</th>\n",
       "      <td>2017년</td>\n",
       "      <td>시도</td>\n",
       "      <td>577.0</td>\n",
       "      <td>11</td>\n",
       "      <td>1125.0</td>\n",
       "    </tr>\n",
       "    <tr>\n",
       "      <th>4</th>\n",
       "      <td>2017년</td>\n",
       "      <td>군도</td>\n",
       "      <td>101.0</td>\n",
       "      <td>3</td>\n",
       "      <td>169.0</td>\n",
       "    </tr>\n",
       "    <tr>\n",
       "      <th>6</th>\n",
       "      <td>2017년</td>\n",
       "      <td>기타</td>\n",
       "      <td>21.0</td>\n",
       "      <td>0</td>\n",
       "      <td>41.0</td>\n",
       "    </tr>\n",
       "    <tr>\n",
       "      <th>7</th>\n",
       "      <td>2018년</td>\n",
       "      <td>일반국도</td>\n",
       "      <td>249.0</td>\n",
       "      <td>18</td>\n",
       "      <td>487.0</td>\n",
       "    </tr>\n",
       "    <tr>\n",
       "      <th>9</th>\n",
       "      <td>2018년</td>\n",
       "      <td>특별광역시도</td>\n",
       "      <td>329.0</td>\n",
       "      <td>4</td>\n",
       "      <td>710.0</td>\n",
       "    </tr>\n",
       "    <tr>\n",
       "      <th>10</th>\n",
       "      <td>2018년</td>\n",
       "      <td>시도</td>\n",
       "      <td>355.0</td>\n",
       "      <td>2</td>\n",
       "      <td>698.0</td>\n",
       "    </tr>\n",
       "    <tr>\n",
       "      <th>11</th>\n",
       "      <td>2018년</td>\n",
       "      <td>군도</td>\n",
       "      <td>71.0</td>\n",
       "      <td>1</td>\n",
       "      <td>115.0</td>\n",
       "    </tr>\n",
       "    <tr>\n",
       "      <th>12</th>\n",
       "      <td>2018년</td>\n",
       "      <td>고속국도</td>\n",
       "      <td>104.0</td>\n",
       "      <td>16</td>\n",
       "      <td>211.0</td>\n",
       "    </tr>\n",
       "    <tr>\n",
       "      <th>13</th>\n",
       "      <td>2018년</td>\n",
       "      <td>기타</td>\n",
       "      <td>30.0</td>\n",
       "      <td>1</td>\n",
       "      <td>76.0</td>\n",
       "    </tr>\n",
       "    <tr>\n",
       "      <th>14</th>\n",
       "      <td>2019년</td>\n",
       "      <td>일반국도</td>\n",
       "      <td>498.0</td>\n",
       "      <td>29</td>\n",
       "      <td>964.0</td>\n",
       "    </tr>\n",
       "    <tr>\n",
       "      <th>15</th>\n",
       "      <td>2019년</td>\n",
       "      <td>지방도</td>\n",
       "      <td>300.0</td>\n",
       "      <td>18</td>\n",
       "      <td>587.0</td>\n",
       "    </tr>\n",
       "    <tr>\n",
       "      <th>17</th>\n",
       "      <td>2019년</td>\n",
       "      <td>시도</td>\n",
       "      <td>876.0</td>\n",
       "      <td>17</td>\n",
       "      <td>1629.0</td>\n",
       "    </tr>\n",
       "    <tr>\n",
       "      <th>18</th>\n",
       "      <td>2019년</td>\n",
       "      <td>군도</td>\n",
       "      <td>116.0</td>\n",
       "      <td>8</td>\n",
       "      <td>184.0</td>\n",
       "    </tr>\n",
       "    <tr>\n",
       "      <th>19</th>\n",
       "      <td>2019년</td>\n",
       "      <td>고속국도</td>\n",
       "      <td>147.0</td>\n",
       "      <td>20</td>\n",
       "      <td>296.0</td>\n",
       "    </tr>\n",
       "    <tr>\n",
       "      <th>20</th>\n",
       "      <td>2019년</td>\n",
       "      <td>기타</td>\n",
       "      <td>125.0</td>\n",
       "      <td>2</td>\n",
       "      <td>206.0</td>\n",
       "    </tr>\n",
       "  </tbody>\n",
       "</table>\n",
       "</div>"
      ],
      "text/plain": [
       "       구분    도로종류  사고(건)  사망(명)   부상(명)\n",
       "0   2017년    일반국도  363.0     19   698.0\n",
       "1   2017년     지방도  230.0     10   451.0\n",
       "2   2017년  특별광역시도  590.0     12  1189.0\n",
       "3   2017년      시도  577.0     11  1125.0\n",
       "4   2017년      군도  101.0      3   169.0\n",
       "6   2017년      기타   21.0      0    41.0\n",
       "7   2018년    일반국도  249.0     18   487.0\n",
       "9   2018년  특별광역시도  329.0      4   710.0\n",
       "10  2018년      시도  355.0      2   698.0\n",
       "11  2018년      군도   71.0      1   115.0\n",
       "12  2018년    고속국도  104.0     16   211.0\n",
       "13  2018년      기타   30.0      1    76.0\n",
       "14  2019년    일반국도  498.0     29   964.0\n",
       "15  2019년     지방도  300.0     18   587.0\n",
       "17  2019년      시도  876.0     17  1629.0\n",
       "18  2019년      군도  116.0      8   184.0\n",
       "19  2019년    고속국도  147.0     20   296.0\n",
       "20  2019년      기타  125.0      2   206.0"
      ]
     },
     "execution_count": 18,
     "metadata": {},
     "output_type": "execute_result"
    }
   ],
   "source": [
    "df=pd.read_csv('경찰청_졸음운전 교통사고 현황_20191231.csv',engine='python',encoding='CP949')\n",
    "drop_data = df.dropna()\n",
    "drop_data"
   ]
  },
  {
   "cell_type": "code",
   "execution_count": 20,
   "id": "46fc5a22",
   "metadata": {
    "ExecuteTime": {
     "end_time": "2021-06-03T07:38:28.609374Z",
     "start_time": "2021-06-03T07:38:28.588190Z"
    }
   },
   "outputs": [
    {
     "data": {
      "text/html": [
       "<div>\n",
       "<style scoped>\n",
       "    .dataframe tbody tr th:only-of-type {\n",
       "        vertical-align: middle;\n",
       "    }\n",
       "\n",
       "    .dataframe tbody tr th {\n",
       "        vertical-align: top;\n",
       "    }\n",
       "\n",
       "    .dataframe thead th {\n",
       "        text-align: right;\n",
       "    }\n",
       "</style>\n",
       "<table border=\"1\" class=\"dataframe\">\n",
       "  <thead>\n",
       "    <tr style=\"text-align: right;\">\n",
       "      <th></th>\n",
       "      <th>구분</th>\n",
       "      <th>도로종류</th>\n",
       "      <th>사고(건)</th>\n",
       "      <th>사망(명)</th>\n",
       "      <th>부상(명)</th>\n",
       "    </tr>\n",
       "  </thead>\n",
       "  <tbody>\n",
       "    <tr>\n",
       "      <th>0</th>\n",
       "      <td>2017년</td>\n",
       "      <td>일반국도</td>\n",
       "      <td>363.0</td>\n",
       "      <td>19</td>\n",
       "      <td>698.0</td>\n",
       "    </tr>\n",
       "    <tr>\n",
       "      <th>1</th>\n",
       "      <td>2017년</td>\n",
       "      <td>지방도</td>\n",
       "      <td>230.0</td>\n",
       "      <td>10</td>\n",
       "      <td>451.0</td>\n",
       "    </tr>\n",
       "    <tr>\n",
       "      <th>2</th>\n",
       "      <td>2017년</td>\n",
       "      <td>특별광역시도</td>\n",
       "      <td>590.0</td>\n",
       "      <td>12</td>\n",
       "      <td>1189.0</td>\n",
       "    </tr>\n",
       "    <tr>\n",
       "      <th>3</th>\n",
       "      <td>2017년</td>\n",
       "      <td>시도</td>\n",
       "      <td>577.0</td>\n",
       "      <td>11</td>\n",
       "      <td>1125.0</td>\n",
       "    </tr>\n",
       "    <tr>\n",
       "      <th>4</th>\n",
       "      <td>2017년</td>\n",
       "      <td>군도</td>\n",
       "      <td>101.0</td>\n",
       "      <td>3</td>\n",
       "      <td>169.0</td>\n",
       "    </tr>\n",
       "    <tr>\n",
       "      <th>6</th>\n",
       "      <td>2017년</td>\n",
       "      <td>기타</td>\n",
       "      <td>21.0</td>\n",
       "      <td>0</td>\n",
       "      <td>41.0</td>\n",
       "    </tr>\n",
       "    <tr>\n",
       "      <th>7</th>\n",
       "      <td>2018년</td>\n",
       "      <td>일반국도</td>\n",
       "      <td>249.0</td>\n",
       "      <td>18</td>\n",
       "      <td>487.0</td>\n",
       "    </tr>\n",
       "    <tr>\n",
       "      <th>8</th>\n",
       "      <td>2018년</td>\n",
       "      <td>지방도</td>\n",
       "      <td>170.0</td>\n",
       "      <td>11</td>\n",
       "      <td>NaN</td>\n",
       "    </tr>\n",
       "    <tr>\n",
       "      <th>9</th>\n",
       "      <td>2018년</td>\n",
       "      <td>특별광역시도</td>\n",
       "      <td>329.0</td>\n",
       "      <td>4</td>\n",
       "      <td>710.0</td>\n",
       "    </tr>\n",
       "    <tr>\n",
       "      <th>10</th>\n",
       "      <td>2018년</td>\n",
       "      <td>시도</td>\n",
       "      <td>355.0</td>\n",
       "      <td>2</td>\n",
       "      <td>698.0</td>\n",
       "    </tr>\n",
       "    <tr>\n",
       "      <th>11</th>\n",
       "      <td>2018년</td>\n",
       "      <td>군도</td>\n",
       "      <td>71.0</td>\n",
       "      <td>1</td>\n",
       "      <td>115.0</td>\n",
       "    </tr>\n",
       "    <tr>\n",
       "      <th>12</th>\n",
       "      <td>2018년</td>\n",
       "      <td>고속국도</td>\n",
       "      <td>104.0</td>\n",
       "      <td>16</td>\n",
       "      <td>211.0</td>\n",
       "    </tr>\n",
       "    <tr>\n",
       "      <th>13</th>\n",
       "      <td>2018년</td>\n",
       "      <td>기타</td>\n",
       "      <td>30.0</td>\n",
       "      <td>1</td>\n",
       "      <td>76.0</td>\n",
       "    </tr>\n",
       "    <tr>\n",
       "      <th>14</th>\n",
       "      <td>2019년</td>\n",
       "      <td>일반국도</td>\n",
       "      <td>498.0</td>\n",
       "      <td>29</td>\n",
       "      <td>964.0</td>\n",
       "    </tr>\n",
       "    <tr>\n",
       "      <th>15</th>\n",
       "      <td>2019년</td>\n",
       "      <td>지방도</td>\n",
       "      <td>300.0</td>\n",
       "      <td>18</td>\n",
       "      <td>587.0</td>\n",
       "    </tr>\n",
       "    <tr>\n",
       "      <th>17</th>\n",
       "      <td>2019년</td>\n",
       "      <td>시도</td>\n",
       "      <td>876.0</td>\n",
       "      <td>17</td>\n",
       "      <td>1629.0</td>\n",
       "    </tr>\n",
       "    <tr>\n",
       "      <th>18</th>\n",
       "      <td>2019년</td>\n",
       "      <td>군도</td>\n",
       "      <td>116.0</td>\n",
       "      <td>8</td>\n",
       "      <td>184.0</td>\n",
       "    </tr>\n",
       "    <tr>\n",
       "      <th>19</th>\n",
       "      <td>2019년</td>\n",
       "      <td>고속국도</td>\n",
       "      <td>147.0</td>\n",
       "      <td>20</td>\n",
       "      <td>296.0</td>\n",
       "    </tr>\n",
       "    <tr>\n",
       "      <th>20</th>\n",
       "      <td>2019년</td>\n",
       "      <td>기타</td>\n",
       "      <td>125.0</td>\n",
       "      <td>2</td>\n",
       "      <td>206.0</td>\n",
       "    </tr>\n",
       "  </tbody>\n",
       "</table>\n",
       "</div>"
      ],
      "text/plain": [
       "       구분    도로종류  사고(건)  사망(명)   부상(명)\n",
       "0   2017년    일반국도  363.0     19   698.0\n",
       "1   2017년     지방도  230.0     10   451.0\n",
       "2   2017년  특별광역시도  590.0     12  1189.0\n",
       "3   2017년      시도  577.0     11  1125.0\n",
       "4   2017년      군도  101.0      3   169.0\n",
       "6   2017년      기타   21.0      0    41.0\n",
       "7   2018년    일반국도  249.0     18   487.0\n",
       "8   2018년     지방도  170.0     11     NaN\n",
       "9   2018년  특별광역시도  329.0      4   710.0\n",
       "10  2018년      시도  355.0      2   698.0\n",
       "11  2018년      군도   71.0      1   115.0\n",
       "12  2018년    고속국도  104.0     16   211.0\n",
       "13  2018년      기타   30.0      1    76.0\n",
       "14  2019년    일반국도  498.0     29   964.0\n",
       "15  2019년     지방도  300.0     18   587.0\n",
       "17  2019년      시도  876.0     17  1629.0\n",
       "18  2019년      군도  116.0      8   184.0\n",
       "19  2019년    고속국도  147.0     20   296.0\n",
       "20  2019년      기타  125.0      2   206.0"
      ]
     },
     "execution_count": 20,
     "metadata": {},
     "output_type": "execute_result"
    }
   ],
   "source": [
    "df=pd.read_csv('경찰청_졸음운전 교통사고 현황_20191231.csv',engine='python',encoding='CP949')\n",
    "drop_data = df.dropna(subset=['사고(건)'])\n",
    "drop_data"
   ]
  },
  {
   "cell_type": "code",
   "execution_count": 30,
   "id": "0d352115",
   "metadata": {
    "ExecuteTime": {
     "end_time": "2021-06-03T07:47:09.623142Z",
     "start_time": "2021-06-03T07:47:09.605153Z"
    }
   },
   "outputs": [
    {
     "name": "stdout",
     "output_type": "stream",
     "text": [
      "276.42105263157896\n"
     ]
    },
    {
     "data": {
      "text/html": [
       "<div>\n",
       "<style scoped>\n",
       "    .dataframe tbody tr th:only-of-type {\n",
       "        vertical-align: middle;\n",
       "    }\n",
       "\n",
       "    .dataframe tbody tr th {\n",
       "        vertical-align: top;\n",
       "    }\n",
       "\n",
       "    .dataframe thead th {\n",
       "        text-align: right;\n",
       "    }\n",
       "</style>\n",
       "<table border=\"1\" class=\"dataframe\">\n",
       "  <thead>\n",
       "    <tr style=\"text-align: right;\">\n",
       "      <th></th>\n",
       "      <th>구분</th>\n",
       "      <th>도로종류</th>\n",
       "      <th>사고(건)</th>\n",
       "      <th>사망(명)</th>\n",
       "      <th>부상(명)</th>\n",
       "    </tr>\n",
       "  </thead>\n",
       "  <tbody>\n",
       "    <tr>\n",
       "      <th>0</th>\n",
       "      <td>2017년</td>\n",
       "      <td>일반국도</td>\n",
       "      <td>363.000000</td>\n",
       "      <td>19</td>\n",
       "      <td>698.000000</td>\n",
       "    </tr>\n",
       "    <tr>\n",
       "      <th>1</th>\n",
       "      <td>2017년</td>\n",
       "      <td>지방도</td>\n",
       "      <td>230.000000</td>\n",
       "      <td>10</td>\n",
       "      <td>451.000000</td>\n",
       "    </tr>\n",
       "    <tr>\n",
       "      <th>2</th>\n",
       "      <td>2017년</td>\n",
       "      <td>특별광역시도</td>\n",
       "      <td>590.000000</td>\n",
       "      <td>12</td>\n",
       "      <td>1189.000000</td>\n",
       "    </tr>\n",
       "    <tr>\n",
       "      <th>3</th>\n",
       "      <td>2017년</td>\n",
       "      <td>시도</td>\n",
       "      <td>577.000000</td>\n",
       "      <td>11</td>\n",
       "      <td>1125.000000</td>\n",
       "    </tr>\n",
       "    <tr>\n",
       "      <th>4</th>\n",
       "      <td>2017년</td>\n",
       "      <td>군도</td>\n",
       "      <td>101.000000</td>\n",
       "      <td>3</td>\n",
       "      <td>169.000000</td>\n",
       "    </tr>\n",
       "    <tr>\n",
       "      <th>5</th>\n",
       "      <td>2017년</td>\n",
       "      <td>고속국도</td>\n",
       "      <td>276.421053</td>\n",
       "      <td>22</td>\n",
       "      <td>273.000000</td>\n",
       "    </tr>\n",
       "    <tr>\n",
       "      <th>6</th>\n",
       "      <td>2017년</td>\n",
       "      <td>기타</td>\n",
       "      <td>21.000000</td>\n",
       "      <td>0</td>\n",
       "      <td>41.000000</td>\n",
       "    </tr>\n",
       "    <tr>\n",
       "      <th>7</th>\n",
       "      <td>2018년</td>\n",
       "      <td>일반국도</td>\n",
       "      <td>249.000000</td>\n",
       "      <td>18</td>\n",
       "      <td>487.000000</td>\n",
       "    </tr>\n",
       "    <tr>\n",
       "      <th>8</th>\n",
       "      <td>2018년</td>\n",
       "      <td>지방도</td>\n",
       "      <td>170.000000</td>\n",
       "      <td>11</td>\n",
       "      <td>276.421053</td>\n",
       "    </tr>\n",
       "    <tr>\n",
       "      <th>9</th>\n",
       "      <td>2018년</td>\n",
       "      <td>특별광역시도</td>\n",
       "      <td>329.000000</td>\n",
       "      <td>4</td>\n",
       "      <td>710.000000</td>\n",
       "    </tr>\n",
       "    <tr>\n",
       "      <th>10</th>\n",
       "      <td>2018년</td>\n",
       "      <td>시도</td>\n",
       "      <td>355.000000</td>\n",
       "      <td>2</td>\n",
       "      <td>698.000000</td>\n",
       "    </tr>\n",
       "    <tr>\n",
       "      <th>11</th>\n",
       "      <td>2018년</td>\n",
       "      <td>군도</td>\n",
       "      <td>71.000000</td>\n",
       "      <td>1</td>\n",
       "      <td>115.000000</td>\n",
       "    </tr>\n",
       "    <tr>\n",
       "      <th>12</th>\n",
       "      <td>2018년</td>\n",
       "      <td>고속국도</td>\n",
       "      <td>104.000000</td>\n",
       "      <td>16</td>\n",
       "      <td>211.000000</td>\n",
       "    </tr>\n",
       "    <tr>\n",
       "      <th>13</th>\n",
       "      <td>2018년</td>\n",
       "      <td>기타</td>\n",
       "      <td>30.000000</td>\n",
       "      <td>1</td>\n",
       "      <td>76.000000</td>\n",
       "    </tr>\n",
       "    <tr>\n",
       "      <th>14</th>\n",
       "      <td>2019년</td>\n",
       "      <td>일반국도</td>\n",
       "      <td>498.000000</td>\n",
       "      <td>29</td>\n",
       "      <td>964.000000</td>\n",
       "    </tr>\n",
       "    <tr>\n",
       "      <th>15</th>\n",
       "      <td>2019년</td>\n",
       "      <td>지방도</td>\n",
       "      <td>300.000000</td>\n",
       "      <td>18</td>\n",
       "      <td>587.000000</td>\n",
       "    </tr>\n",
       "    <tr>\n",
       "      <th>16</th>\n",
       "      <td>2019년</td>\n",
       "      <td>특별광역시도</td>\n",
       "      <td>276.421053</td>\n",
       "      <td>7</td>\n",
       "      <td>1594.000000</td>\n",
       "    </tr>\n",
       "    <tr>\n",
       "      <th>17</th>\n",
       "      <td>2019년</td>\n",
       "      <td>시도</td>\n",
       "      <td>876.000000</td>\n",
       "      <td>17</td>\n",
       "      <td>1629.000000</td>\n",
       "    </tr>\n",
       "    <tr>\n",
       "      <th>18</th>\n",
       "      <td>2019년</td>\n",
       "      <td>군도</td>\n",
       "      <td>116.000000</td>\n",
       "      <td>8</td>\n",
       "      <td>184.000000</td>\n",
       "    </tr>\n",
       "    <tr>\n",
       "      <th>19</th>\n",
       "      <td>2019년</td>\n",
       "      <td>고속국도</td>\n",
       "      <td>147.000000</td>\n",
       "      <td>20</td>\n",
       "      <td>296.000000</td>\n",
       "    </tr>\n",
       "    <tr>\n",
       "      <th>20</th>\n",
       "      <td>2019년</td>\n",
       "      <td>기타</td>\n",
       "      <td>125.000000</td>\n",
       "      <td>2</td>\n",
       "      <td>206.000000</td>\n",
       "    </tr>\n",
       "  </tbody>\n",
       "</table>\n",
       "</div>"
      ],
      "text/plain": [
       "       구분    도로종류       사고(건)  사망(명)        부상(명)\n",
       "0   2017년    일반국도  363.000000     19   698.000000\n",
       "1   2017년     지방도  230.000000     10   451.000000\n",
       "2   2017년  특별광역시도  590.000000     12  1189.000000\n",
       "3   2017년      시도  577.000000     11  1125.000000\n",
       "4   2017년      군도  101.000000      3   169.000000\n",
       "5   2017년    고속국도  276.421053     22   273.000000\n",
       "6   2017년      기타   21.000000      0    41.000000\n",
       "7   2018년    일반국도  249.000000     18   487.000000\n",
       "8   2018년     지방도  170.000000     11   276.421053\n",
       "9   2018년  특별광역시도  329.000000      4   710.000000\n",
       "10  2018년      시도  355.000000      2   698.000000\n",
       "11  2018년      군도   71.000000      1   115.000000\n",
       "12  2018년    고속국도  104.000000     16   211.000000\n",
       "13  2018년      기타   30.000000      1    76.000000\n",
       "14  2019년    일반국도  498.000000     29   964.000000\n",
       "15  2019년     지방도  300.000000     18   587.000000\n",
       "16  2019년  특별광역시도  276.421053      7  1594.000000\n",
       "17  2019년      시도  876.000000     17  1629.000000\n",
       "18  2019년      군도  116.000000      8   184.000000\n",
       "19  2019년    고속국도  147.000000     20   296.000000\n",
       "20  2019년      기타  125.000000      2   206.000000"
      ]
     },
     "execution_count": 30,
     "metadata": {},
     "output_type": "execute_result"
    }
   ],
   "source": [
    "from numpy import NaN\n",
    "\n",
    "df=pd.read_csv('경찰청_졸음운전 교통사고 현황_20191231.csv',engine='python',encoding='CP949')\n",
    "print(df['사고(건)'].mean())\n",
    "mean = df['사고(건)'].mean()\n",
    "drop_data = df.replace(NaN,mean)\n",
    "drop_data"
   ]
  },
  {
   "cell_type": "code",
   "execution_count": 35,
   "id": "bcea59c3",
   "metadata": {
    "ExecuteTime": {
     "end_time": "2021-06-03T07:50:53.424543Z",
     "start_time": "2021-06-03T07:50:53.404210Z"
    }
   },
   "outputs": [
    {
     "data": {
      "text/html": [
       "<div>\n",
       "<style scoped>\n",
       "    .dataframe tbody tr th:only-of-type {\n",
       "        vertical-align: middle;\n",
       "    }\n",
       "\n",
       "    .dataframe tbody tr th {\n",
       "        vertical-align: top;\n",
       "    }\n",
       "\n",
       "    .dataframe thead th {\n",
       "        text-align: right;\n",
       "    }\n",
       "</style>\n",
       "<table border=\"1\" class=\"dataframe\">\n",
       "  <thead>\n",
       "    <tr style=\"text-align: right;\">\n",
       "      <th></th>\n",
       "      <th>구분</th>\n",
       "      <th>도로종류</th>\n",
       "      <th>사고(건)</th>\n",
       "      <th>사망(명)</th>\n",
       "      <th>부상(명)</th>\n",
       "    </tr>\n",
       "  </thead>\n",
       "  <tbody>\n",
       "    <tr>\n",
       "      <th>0</th>\n",
       "      <td>2017년</td>\n",
       "      <td>일반국도</td>\n",
       "      <td>363.0</td>\n",
       "      <td>19</td>\n",
       "      <td>698.00</td>\n",
       "    </tr>\n",
       "    <tr>\n",
       "      <th>1</th>\n",
       "      <td>2017년</td>\n",
       "      <td>지방도</td>\n",
       "      <td>230.0</td>\n",
       "      <td>10</td>\n",
       "      <td>451.00</td>\n",
       "    </tr>\n",
       "    <tr>\n",
       "      <th>2</th>\n",
       "      <td>2017년</td>\n",
       "      <td>특별광역시도</td>\n",
       "      <td>590.0</td>\n",
       "      <td>12</td>\n",
       "      <td>1189.00</td>\n",
       "    </tr>\n",
       "    <tr>\n",
       "      <th>3</th>\n",
       "      <td>2017년</td>\n",
       "      <td>시도</td>\n",
       "      <td>577.0</td>\n",
       "      <td>11</td>\n",
       "      <td>1125.00</td>\n",
       "    </tr>\n",
       "    <tr>\n",
       "      <th>4</th>\n",
       "      <td>2017년</td>\n",
       "      <td>군도</td>\n",
       "      <td>101.0</td>\n",
       "      <td>3</td>\n",
       "      <td>169.00</td>\n",
       "    </tr>\n",
       "    <tr>\n",
       "      <th>5</th>\n",
       "      <td>2017년</td>\n",
       "      <td>고속국도</td>\n",
       "      <td>NaN</td>\n",
       "      <td>22</td>\n",
       "      <td>273.00</td>\n",
       "    </tr>\n",
       "    <tr>\n",
       "      <th>6</th>\n",
       "      <td>2017년</td>\n",
       "      <td>기타</td>\n",
       "      <td>21.0</td>\n",
       "      <td>0</td>\n",
       "      <td>41.00</td>\n",
       "    </tr>\n",
       "    <tr>\n",
       "      <th>7</th>\n",
       "      <td>2018년</td>\n",
       "      <td>일반국도</td>\n",
       "      <td>249.0</td>\n",
       "      <td>18</td>\n",
       "      <td>487.00</td>\n",
       "    </tr>\n",
       "    <tr>\n",
       "      <th>8</th>\n",
       "      <td>2018년</td>\n",
       "      <td>지방도</td>\n",
       "      <td>170.0</td>\n",
       "      <td>11</td>\n",
       "      <td>585.15</td>\n",
       "    </tr>\n",
       "    <tr>\n",
       "      <th>9</th>\n",
       "      <td>2018년</td>\n",
       "      <td>특별광역시도</td>\n",
       "      <td>329.0</td>\n",
       "      <td>4</td>\n",
       "      <td>710.00</td>\n",
       "    </tr>\n",
       "    <tr>\n",
       "      <th>10</th>\n",
       "      <td>2018년</td>\n",
       "      <td>시도</td>\n",
       "      <td>355.0</td>\n",
       "      <td>2</td>\n",
       "      <td>698.00</td>\n",
       "    </tr>\n",
       "    <tr>\n",
       "      <th>11</th>\n",
       "      <td>2018년</td>\n",
       "      <td>군도</td>\n",
       "      <td>71.0</td>\n",
       "      <td>1</td>\n",
       "      <td>115.00</td>\n",
       "    </tr>\n",
       "    <tr>\n",
       "      <th>12</th>\n",
       "      <td>2018년</td>\n",
       "      <td>고속국도</td>\n",
       "      <td>104.0</td>\n",
       "      <td>16</td>\n",
       "      <td>211.00</td>\n",
       "    </tr>\n",
       "    <tr>\n",
       "      <th>13</th>\n",
       "      <td>2018년</td>\n",
       "      <td>기타</td>\n",
       "      <td>30.0</td>\n",
       "      <td>1</td>\n",
       "      <td>76.00</td>\n",
       "    </tr>\n",
       "    <tr>\n",
       "      <th>14</th>\n",
       "      <td>2019년</td>\n",
       "      <td>일반국도</td>\n",
       "      <td>498.0</td>\n",
       "      <td>29</td>\n",
       "      <td>964.00</td>\n",
       "    </tr>\n",
       "    <tr>\n",
       "      <th>15</th>\n",
       "      <td>2019년</td>\n",
       "      <td>지방도</td>\n",
       "      <td>300.0</td>\n",
       "      <td>18</td>\n",
       "      <td>587.00</td>\n",
       "    </tr>\n",
       "    <tr>\n",
       "      <th>16</th>\n",
       "      <td>2019년</td>\n",
       "      <td>특별광역시도</td>\n",
       "      <td>NaN</td>\n",
       "      <td>7</td>\n",
       "      <td>1594.00</td>\n",
       "    </tr>\n",
       "    <tr>\n",
       "      <th>17</th>\n",
       "      <td>2019년</td>\n",
       "      <td>시도</td>\n",
       "      <td>876.0</td>\n",
       "      <td>17</td>\n",
       "      <td>1629.00</td>\n",
       "    </tr>\n",
       "    <tr>\n",
       "      <th>18</th>\n",
       "      <td>2019년</td>\n",
       "      <td>군도</td>\n",
       "      <td>116.0</td>\n",
       "      <td>8</td>\n",
       "      <td>184.00</td>\n",
       "    </tr>\n",
       "    <tr>\n",
       "      <th>19</th>\n",
       "      <td>2019년</td>\n",
       "      <td>고속국도</td>\n",
       "      <td>147.0</td>\n",
       "      <td>20</td>\n",
       "      <td>296.00</td>\n",
       "    </tr>\n",
       "    <tr>\n",
       "      <th>20</th>\n",
       "      <td>2019년</td>\n",
       "      <td>기타</td>\n",
       "      <td>125.0</td>\n",
       "      <td>2</td>\n",
       "      <td>206.00</td>\n",
       "    </tr>\n",
       "  </tbody>\n",
       "</table>\n",
       "</div>"
      ],
      "text/plain": [
       "       구분    도로종류  사고(건)  사망(명)    부상(명)\n",
       "0   2017년    일반국도  363.0     19   698.00\n",
       "1   2017년     지방도  230.0     10   451.00\n",
       "2   2017년  특별광역시도  590.0     12  1189.00\n",
       "3   2017년      시도  577.0     11  1125.00\n",
       "4   2017년      군도  101.0      3   169.00\n",
       "5   2017년    고속국도    NaN     22   273.00\n",
       "6   2017년      기타   21.0      0    41.00\n",
       "7   2018년    일반국도  249.0     18   487.00\n",
       "8   2018년     지방도  170.0     11   585.15\n",
       "9   2018년  특별광역시도  329.0      4   710.00\n",
       "10  2018년      시도  355.0      2   698.00\n",
       "11  2018년      군도   71.0      1   115.00\n",
       "12  2018년    고속국도  104.0     16   211.00\n",
       "13  2018년      기타   30.0      1    76.00\n",
       "14  2019년    일반국도  498.0     29   964.00\n",
       "15  2019년     지방도  300.0     18   587.00\n",
       "16  2019년  특별광역시도    NaN      7  1594.00\n",
       "17  2019년      시도  876.0     17  1629.00\n",
       "18  2019년      군도  116.0      8   184.00\n",
       "19  2019년    고속국도  147.0     20   296.00\n",
       "20  2019년      기타  125.0      2   206.00"
      ]
     },
     "execution_count": 35,
     "metadata": {},
     "output_type": "execute_result"
    }
   ],
   "source": [
    "df=pd.read_csv('경찰청_졸음운전 교통사고 현황_20191231.csv',engine='python',encoding='CP949')\n",
    "mean=df['부상(명)'].mean()\n",
    "re_df = df.replace({'부상(명)':NaN},{'부상(명)':mean})\n",
    "re_df"
   ]
  },
  {
   "cell_type": "code",
   "execution_count": 36,
   "id": "eb35ba46",
   "metadata": {
    "ExecuteTime": {
     "end_time": "2021-06-03T07:54:15.099358Z",
     "start_time": "2021-06-03T07:54:15.079371Z"
    }
   },
   "outputs": [
    {
     "data": {
      "text/html": [
       "<div>\n",
       "<style scoped>\n",
       "    .dataframe tbody tr th:only-of-type {\n",
       "        vertical-align: middle;\n",
       "    }\n",
       "\n",
       "    .dataframe tbody tr th {\n",
       "        vertical-align: top;\n",
       "    }\n",
       "\n",
       "    .dataframe thead th {\n",
       "        text-align: right;\n",
       "    }\n",
       "</style>\n",
       "<table border=\"1\" class=\"dataframe\">\n",
       "  <thead>\n",
       "    <tr style=\"text-align: right;\">\n",
       "      <th></th>\n",
       "      <th>사고(건)</th>\n",
       "      <th>사망(명)</th>\n",
       "      <th>부상(명)</th>\n",
       "    </tr>\n",
       "  </thead>\n",
       "  <tbody>\n",
       "    <tr>\n",
       "      <th>count</th>\n",
       "      <td>19.000000</td>\n",
       "      <td>21.000000</td>\n",
       "      <td>21.000000</td>\n",
       "    </tr>\n",
       "    <tr>\n",
       "      <th>mean</th>\n",
       "      <td>276.421053</td>\n",
       "      <td>11.000000</td>\n",
       "      <td>585.150000</td>\n",
       "    </tr>\n",
       "    <tr>\n",
       "      <th>std</th>\n",
       "      <td>226.393295</td>\n",
       "      <td>8.282512</td>\n",
       "      <td>477.019735</td>\n",
       "    </tr>\n",
       "    <tr>\n",
       "      <th>min</th>\n",
       "      <td>21.000000</td>\n",
       "      <td>0.000000</td>\n",
       "      <td>41.000000</td>\n",
       "    </tr>\n",
       "    <tr>\n",
       "      <th>25%</th>\n",
       "      <td>110.000000</td>\n",
       "      <td>3.000000</td>\n",
       "      <td>206.000000</td>\n",
       "    </tr>\n",
       "    <tr>\n",
       "      <th>50%</th>\n",
       "      <td>230.000000</td>\n",
       "      <td>11.000000</td>\n",
       "      <td>487.000000</td>\n",
       "    </tr>\n",
       "    <tr>\n",
       "      <th>75%</th>\n",
       "      <td>359.000000</td>\n",
       "      <td>18.000000</td>\n",
       "      <td>710.000000</td>\n",
       "    </tr>\n",
       "    <tr>\n",
       "      <th>max</th>\n",
       "      <td>876.000000</td>\n",
       "      <td>29.000000</td>\n",
       "      <td>1629.000000</td>\n",
       "    </tr>\n",
       "  </tbody>\n",
       "</table>\n",
       "</div>"
      ],
      "text/plain": [
       "            사고(건)      사망(명)        부상(명)\n",
       "count   19.000000  21.000000    21.000000\n",
       "mean   276.421053  11.000000   585.150000\n",
       "std    226.393295   8.282512   477.019735\n",
       "min     21.000000   0.000000    41.000000\n",
       "25%    110.000000   3.000000   206.000000\n",
       "50%    230.000000  11.000000   487.000000\n",
       "75%    359.000000  18.000000   710.000000\n",
       "max    876.000000  29.000000  1629.000000"
      ]
     },
     "execution_count": 36,
     "metadata": {},
     "output_type": "execute_result"
    }
   ],
   "source": [
    "re_df.describe()"
   ]
  },
  {
   "cell_type": "markdown",
   "id": "45dc43dd",
   "metadata": {},
   "source": [
    "### DataFrame.fillna(self, value=None, method=None, axis=None, inplace=False, limit=None, downcast=None)"
   ]
  },
  {
   "cell_type": "code",
   "execution_count": 40,
   "id": "52308aa8",
   "metadata": {
    "ExecuteTime": {
     "end_time": "2021-06-03T08:00:09.326263Z",
     "start_time": "2021-06-03T08:00:09.321281Z"
    }
   },
   "outputs": [
    {
     "data": {
      "text/plain": [
       "21.0"
      ]
     },
     "execution_count": 40,
     "metadata": {},
     "output_type": "execute_result"
    }
   ],
   "source": [
    "df['사고(건)'].min()"
   ]
  },
  {
   "cell_type": "code",
   "execution_count": 41,
   "id": "3a4bda0c",
   "metadata": {
    "ExecuteTime": {
     "end_time": "2021-06-03T08:00:24.138064Z",
     "start_time": "2021-06-03T08:00:24.133064Z"
    }
   },
   "outputs": [
    {
     "data": {
      "text/plain": [
       "41.0"
      ]
     },
     "execution_count": 41,
     "metadata": {},
     "output_type": "execute_result"
    }
   ],
   "source": [
    "df['부상(명)'].min()"
   ]
  },
  {
   "cell_type": "code",
   "execution_count": 42,
   "id": "1e89fa40",
   "metadata": {
    "ExecuteTime": {
     "end_time": "2021-06-03T08:00:48.323137Z",
     "start_time": "2021-06-03T08:00:48.317159Z"
    }
   },
   "outputs": [
    {
     "data": {
      "text/plain": [
       "0"
      ]
     },
     "execution_count": 42,
     "metadata": {},
     "output_type": "execute_result"
    }
   ],
   "source": [
    "df['사망(명)'].min()"
   ]
  },
  {
   "cell_type": "code",
   "execution_count": 61,
   "id": "1f1ae9b8",
   "metadata": {
    "ExecuteTime": {
     "end_time": "2021-06-03T08:13:11.537404Z",
     "start_time": "2021-06-03T08:13:11.520431Z"
    }
   },
   "outputs": [
    {
     "data": {
      "text/html": [
       "<div>\n",
       "<style scoped>\n",
       "    .dataframe tbody tr th:only-of-type {\n",
       "        vertical-align: middle;\n",
       "    }\n",
       "\n",
       "    .dataframe tbody tr th {\n",
       "        vertical-align: top;\n",
       "    }\n",
       "\n",
       "    .dataframe thead th {\n",
       "        text-align: right;\n",
       "    }\n",
       "</style>\n",
       "<table border=\"1\" class=\"dataframe\">\n",
       "  <thead>\n",
       "    <tr style=\"text-align: right;\">\n",
       "      <th></th>\n",
       "      <th>구분</th>\n",
       "      <th>도로종류</th>\n",
       "      <th>사고(건)</th>\n",
       "      <th>사망(명)</th>\n",
       "      <th>부상(명)</th>\n",
       "    </tr>\n",
       "  </thead>\n",
       "  <tbody>\n",
       "    <tr>\n",
       "      <th>0</th>\n",
       "      <td>2017년</td>\n",
       "      <td>일반국도</td>\n",
       "      <td>363.0</td>\n",
       "      <td>19</td>\n",
       "      <td>698.0</td>\n",
       "    </tr>\n",
       "    <tr>\n",
       "      <th>1</th>\n",
       "      <td>2017년</td>\n",
       "      <td>지방도</td>\n",
       "      <td>230.0</td>\n",
       "      <td>10</td>\n",
       "      <td>451.0</td>\n",
       "    </tr>\n",
       "    <tr>\n",
       "      <th>2</th>\n",
       "      <td>2017년</td>\n",
       "      <td>특별광역시도</td>\n",
       "      <td>590.0</td>\n",
       "      <td>12</td>\n",
       "      <td>1189.0</td>\n",
       "    </tr>\n",
       "    <tr>\n",
       "      <th>3</th>\n",
       "      <td>2017년</td>\n",
       "      <td>시도</td>\n",
       "      <td>577.0</td>\n",
       "      <td>11</td>\n",
       "      <td>1125.0</td>\n",
       "    </tr>\n",
       "    <tr>\n",
       "      <th>4</th>\n",
       "      <td>2017년</td>\n",
       "      <td>군도</td>\n",
       "      <td>101.0</td>\n",
       "      <td>3</td>\n",
       "      <td>169.0</td>\n",
       "    </tr>\n",
       "    <tr>\n",
       "      <th>5</th>\n",
       "      <td>2017년</td>\n",
       "      <td>고속국도</td>\n",
       "      <td>41.0</td>\n",
       "      <td>22</td>\n",
       "      <td>273.0</td>\n",
       "    </tr>\n",
       "    <tr>\n",
       "      <th>6</th>\n",
       "      <td>2017년</td>\n",
       "      <td>기타</td>\n",
       "      <td>21.0</td>\n",
       "      <td>0</td>\n",
       "      <td>41.0</td>\n",
       "    </tr>\n",
       "    <tr>\n",
       "      <th>7</th>\n",
       "      <td>2018년</td>\n",
       "      <td>일반국도</td>\n",
       "      <td>249.0</td>\n",
       "      <td>18</td>\n",
       "      <td>487.0</td>\n",
       "    </tr>\n",
       "    <tr>\n",
       "      <th>8</th>\n",
       "      <td>2018년</td>\n",
       "      <td>지방도</td>\n",
       "      <td>170.0</td>\n",
       "      <td>11</td>\n",
       "      <td>41.0</td>\n",
       "    </tr>\n",
       "    <tr>\n",
       "      <th>9</th>\n",
       "      <td>2018년</td>\n",
       "      <td>특별광역시도</td>\n",
       "      <td>329.0</td>\n",
       "      <td>4</td>\n",
       "      <td>710.0</td>\n",
       "    </tr>\n",
       "    <tr>\n",
       "      <th>10</th>\n",
       "      <td>2018년</td>\n",
       "      <td>시도</td>\n",
       "      <td>355.0</td>\n",
       "      <td>2</td>\n",
       "      <td>698.0</td>\n",
       "    </tr>\n",
       "    <tr>\n",
       "      <th>11</th>\n",
       "      <td>2018년</td>\n",
       "      <td>군도</td>\n",
       "      <td>71.0</td>\n",
       "      <td>1</td>\n",
       "      <td>115.0</td>\n",
       "    </tr>\n",
       "    <tr>\n",
       "      <th>12</th>\n",
       "      <td>2018년</td>\n",
       "      <td>고속국도</td>\n",
       "      <td>104.0</td>\n",
       "      <td>16</td>\n",
       "      <td>211.0</td>\n",
       "    </tr>\n",
       "    <tr>\n",
       "      <th>13</th>\n",
       "      <td>2018년</td>\n",
       "      <td>기타</td>\n",
       "      <td>30.0</td>\n",
       "      <td>1</td>\n",
       "      <td>76.0</td>\n",
       "    </tr>\n",
       "    <tr>\n",
       "      <th>14</th>\n",
       "      <td>2019년</td>\n",
       "      <td>일반국도</td>\n",
       "      <td>498.0</td>\n",
       "      <td>29</td>\n",
       "      <td>964.0</td>\n",
       "    </tr>\n",
       "    <tr>\n",
       "      <th>15</th>\n",
       "      <td>2019년</td>\n",
       "      <td>지방도</td>\n",
       "      <td>300.0</td>\n",
       "      <td>18</td>\n",
       "      <td>587.0</td>\n",
       "    </tr>\n",
       "    <tr>\n",
       "      <th>16</th>\n",
       "      <td>2019년</td>\n",
       "      <td>특별광역시도</td>\n",
       "      <td>41.0</td>\n",
       "      <td>7</td>\n",
       "      <td>1594.0</td>\n",
       "    </tr>\n",
       "    <tr>\n",
       "      <th>17</th>\n",
       "      <td>2019년</td>\n",
       "      <td>시도</td>\n",
       "      <td>876.0</td>\n",
       "      <td>17</td>\n",
       "      <td>1629.0</td>\n",
       "    </tr>\n",
       "    <tr>\n",
       "      <th>18</th>\n",
       "      <td>2019년</td>\n",
       "      <td>군도</td>\n",
       "      <td>116.0</td>\n",
       "      <td>8</td>\n",
       "      <td>184.0</td>\n",
       "    </tr>\n",
       "    <tr>\n",
       "      <th>19</th>\n",
       "      <td>2019년</td>\n",
       "      <td>고속국도</td>\n",
       "      <td>147.0</td>\n",
       "      <td>20</td>\n",
       "      <td>296.0</td>\n",
       "    </tr>\n",
       "    <tr>\n",
       "      <th>20</th>\n",
       "      <td>2019년</td>\n",
       "      <td>기타</td>\n",
       "      <td>125.0</td>\n",
       "      <td>2</td>\n",
       "      <td>206.0</td>\n",
       "    </tr>\n",
       "  </tbody>\n",
       "</table>\n",
       "</div>"
      ],
      "text/plain": [
       "       구분    도로종류  사고(건)  사망(명)   부상(명)\n",
       "0   2017년    일반국도  363.0     19   698.0\n",
       "1   2017년     지방도  230.0     10   451.0\n",
       "2   2017년  특별광역시도  590.0     12  1189.0\n",
       "3   2017년      시도  577.0     11  1125.0\n",
       "4   2017년      군도  101.0      3   169.0\n",
       "5   2017년    고속국도   41.0     22   273.0\n",
       "6   2017년      기타   21.0      0    41.0\n",
       "7   2018년    일반국도  249.0     18   487.0\n",
       "8   2018년     지방도  170.0     11    41.0\n",
       "9   2018년  특별광역시도  329.0      4   710.0\n",
       "10  2018년      시도  355.0      2   698.0\n",
       "11  2018년      군도   71.0      1   115.0\n",
       "12  2018년    고속국도  104.0     16   211.0\n",
       "13  2018년      기타   30.0      1    76.0\n",
       "14  2019년    일반국도  498.0     29   964.0\n",
       "15  2019년     지방도  300.0     18   587.0\n",
       "16  2019년  특별광역시도   41.0      7  1594.0\n",
       "17  2019년      시도  876.0     17  1629.0\n",
       "18  2019년      군도  116.0      8   184.0\n",
       "19  2019년    고속국도  147.0     20   296.0\n",
       "20  2019년      기타  125.0      2   206.0"
      ]
     },
     "execution_count": 61,
     "metadata": {},
     "output_type": "execute_result"
    }
   ],
   "source": [
    "df = df.fillna(df.min()['부상(명)'])\n",
    "df"
   ]
  },
  {
   "cell_type": "code",
   "execution_count": null,
   "id": "a8f9e549",
   "metadata": {},
   "outputs": [],
   "source": []
  }
 ],
 "metadata": {
  "hide_input": false,
  "kernelspec": {
   "display_name": "Python 3",
   "language": "python",
   "name": "python3"
  },
  "language_info": {
   "codemirror_mode": {
    "name": "ipython",
    "version": 3
   },
   "file_extension": ".py",
   "mimetype": "text/x-python",
   "name": "python",
   "nbconvert_exporter": "python",
   "pygments_lexer": "ipython3",
   "version": "3.7.9"
  },
  "toc": {
   "base_numbering": 1,
   "nav_menu": {},
   "number_sections": true,
   "sideBar": true,
   "skip_h1_title": false,
   "title_cell": "Table of Contents",
   "title_sidebar": "Contents",
   "toc_cell": false,
   "toc_position": {},
   "toc_section_display": true,
   "toc_window_display": false
  },
  "varInspector": {
   "cols": {
    "lenName": 16,
    "lenType": 16,
    "lenVar": 40
   },
   "kernels_config": {
    "python": {
     "delete_cmd_postfix": "",
     "delete_cmd_prefix": "del ",
     "library": "var_list.py",
     "varRefreshCmd": "print(var_dic_list())"
    },
    "r": {
     "delete_cmd_postfix": ") ",
     "delete_cmd_prefix": "rm(",
     "library": "var_list.r",
     "varRefreshCmd": "cat(var_dic_list()) "
    }
   },
   "types_to_exclude": [
    "module",
    "function",
    "builtin_function_or_method",
    "instance",
    "_Feature"
   ],
   "window_display": false
  }
 },
 "nbformat": 4,
 "nbformat_minor": 5
}
